{
 "cells": [
  {
   "cell_type": "code",
   "execution_count": 1,
   "metadata": {
    "scrolled": true
   },
   "outputs": [
    {
     "name": "stdout",
     "output_type": "stream",
     "text": [
      "['forging-policy-script.md', 'pab-client-api.md', 'genesis-block.md', 'lovelace.md', 'plutus-tx.md', 'incentive.md', 'blockchain.md', 'airdrop.md', 'oracle-pool.md', 'script-output.md', 'network.md', 'ipfs.md', 'endpoint.md', 'key-pair.md', 'satoshi-labs.md', 'forging.md', 'atomic-swap.md', 'decentralized.md', 'yoroi.md', 'proof-of-work.md', 'cardano.md', 'utxo.md', 'iog.md', 'adrestia.md', 'consensus.md', 'epoch.md', 'blockchain-explorer.md', 'trezor-wallet.md', 'plutus-application-backend.md', 'crypto-mining.md', 'produced-blocks.md', 'minting.md', 'native-token.md', 'digital-asset.md', 'mainnet.md', 'stake-pool-operator--spo.md', 'on-chain-code.md', 'active-endpoint.md', 'cardano-node.md', 'utility-token.md', 'cfd.md', 'private-key.md', 'ASIC.md', 'cardano-cli.md', 'cold-wallet.md', 'emurgo.md', 'schema.md', 'de-fi.md', 'marlowe.md', 'adalite.md', 'smart-contract.md', 'passive-node.md', 'block.md', 'faucet.md', 'oracle.md', 'stablecoin.md', 'fake-stake.md', 'interoperability.md', 'peer-discovery.md', 'reward.md', 'plutus-sdk.md', 'script.md', 'currency.md', 'redeemer.md', 'plutus-platform.md', 'security-token.md', 'plutus-application.md', 'peer-to-peer.md', 'satoshi.md', 'metadata.md', 'shelly.md', 'token.md', 'cardano-foundation.md', 'double-spending-problem.md', 'datum.md', 'eutxo.md', 'trusted-peer.md', 'hardware-wallet.md', 'contract-executable.md', 'alice-bob.md', 'securitization.md', 'plutus-ir.md', 'slot-leader.md', 'address.md', 'proof-of-stake--po-s.md', 'whale.md', 'ada.md', 'cost-per-epoch.md', 'saturation.md', 'off-chain-code.md', 'obft.md', 'fifty-one-percent-attack.md', 'ACTUS.md', 'cryptocurrency-wallet.md', 'hard-fork.md', 'staking.md', 'stake-pool-performance.md', 'plutus.md', 'trezor.md', 'hot-wallet.md', 'basho.md', 'validator-script.md', 'testnet.md', 'stake-pool.md', 'sybil-attack.md', 'hydra.md', 'slot.md', 'tokenization.md', 'dapp.md', 'zero-knowledge-proof.md', 'minting-transaction.md', 'ledger.md', 'public-key.md', 'fee.md', 'validation-context.md', 'byron.md', 'goguen.md', 'stake-pool-profit-margin.md', 'live-stake.md', 'fungible-token-asset.md', 'daedalus.md', 'delegate.md', 'ouroboros.md', 'voltaire.md', 'ledger-wallet.md', 'plutus-core.md', 'forging-context.md', 'asset-group.md', 'hodl.md', 'token-minting.md', 'nft.md', 'multisig.md', 'chain.md', 'bft.md', 'altcoins.md', 'tps.md', 'multi-asset.md', 'fork.md', 'protocol.md', 'contract-application.md', 'pledge.md', 'rewards-wallet.md', 'balance-wallet.md']\n"
     ]
    }
   ],
   "source": [
    "import os\n",
    "my_files = [x for x in os.listdir('tmp/') if x.endswith(\".md\")]\n",
    "print(my_files)\n"
   ]
  },
  {
   "cell_type": "code",
   "execution_count": 2,
   "metadata": {},
   "outputs": [
    {
     "name": "stdout",
     "output_type": "stream",
     "text": [
      "['forging-policy-script', 'pab-client-api', 'genesis-block', 'lovelace', 'plutus-tx', 'incentive', 'blockchain', 'airdrop', 'oracle-pool', 'script-output', 'network', 'ipfs', 'endpoint', 'key-pair', 'satoshi-labs', 'forging', 'atomic-swap', 'decentralized', 'yoroi', 'proof-of-work', 'cardano', 'utxo', 'iog', 'adrestia', 'consensus', 'epoch', 'blockchain-explorer', 'trezor-wallet', 'plutus-application-backend', 'crypto-mining', 'produced-blocks', 'minting', 'native-token', 'digital-asset', 'mainnet', 'stake-pool-operator--spo', 'on-chain-code', 'active-endpoint', 'cardano-node', 'utility-token', 'cfd', 'private-key', 'ASIC', 'cardano-cli', 'cold-wallet', 'emurgo', 'schema', 'de-fi', 'marlowe', 'adalite', 'smart-contract', 'passive-node', 'block', 'faucet', 'oracle', 'stablecoin', 'fake-stake', 'interoperability', 'peer-discovery', 'reward', 'plutus-sdk', 'script', 'currency', 'redeemer', 'plutus-platform', 'security-token', 'plutus-application', 'peer-to-peer', 'satoshi', 'metadata', 'shelly', 'token', 'cardano-foundation', 'double-spending-problem', 'datum', 'eutxo', 'trusted-peer', 'hardware-wallet', 'contract-executable', 'alice-bob', 'securitization', 'plutus-ir', 'slot-leader', 'address', 'proof-of-stake--po-s', 'whale', 'ada', 'cost-per-epoch', 'saturation', 'off-chain-code', 'obft', 'fifty-one-percent-attack', 'ACTUS', 'cryptocurrency-wallet', 'hard-fork', 'staking', 'stake-pool-performance', 'plutus', 'trezor', 'hot-wallet', 'basho', 'validator-script', 'testnet', 'stake-pool', 'sybil-attack', 'hydra', 'slot', 'tokenization', 'dapp', 'zero-knowledge-proof', 'minting-transaction', 'ledger', 'public-key', 'fee', 'validation-context', 'byron', 'goguen', 'stake-pool-profit-margin', 'live-stake', 'fungible-token-asset', 'daedalus', 'delegate', 'ouroboros', 'voltaire', 'ledger-wallet', 'plutus-core', 'forging-context', 'asset-group', 'hodl', 'token-minting', 'nft', 'multisig', 'chain', 'bft', 'altcoins', 'tps', 'multi-asset', 'fork', 'protocol', 'contract-application', 'pledge', 'rewards-wallet', 'balance-wallet']\n"
     ]
    }
   ],
   "source": [
    "import re\n",
    "list_filenames = my_files \n",
    "pattern = r'.md'\n",
    "# Replace all occurrences of character s with an empty string\n",
    "mod_string = [re.sub(pattern, '',x) for x in my_files]\n",
    "print(mod_string)"
   ]
  },
  {
   "cell_type": "code",
   "execution_count": 4,
   "metadata": {},
   "outputs": [],
   "source": [
    "# sort the list alphabetically\n",
    "mod_string.sort()\n",
    "\n",
    "\n",
    "# Save the list into a txt file\n",
    "myText = open(r'/Users/waelivie/Documents/GitHub/armada-seo-research/terms.txt','w')\n",
    "for i in mod_string:\n",
    "    myText.write(i + '\\n')\n",
    "\n",
    "myText.close()"
   ]
  },
  {
   "cell_type": "code",
   "execution_count": null,
   "metadata": {},
   "outputs": [],
   "source": []
  }
 ],
 "metadata": {
  "interpreter": {
   "hash": "344443636c3027c5042750c9c609acdda283a9c43681b128a8c1053e7ad2aa7d"
  },
  "kernelspec": {
   "display_name": "Python 3",
   "language": "python",
   "name": "python3"
  },
  "language_info": {
   "codemirror_mode": {
    "name": "ipython",
    "version": 3
   },
   "file_extension": ".py",
   "mimetype": "text/x-python",
   "name": "python",
   "nbconvert_exporter": "python",
   "pygments_lexer": "ipython3",
   "version": "3.7.4"
  }
 },
 "nbformat": 4,
 "nbformat_minor": 2
}
