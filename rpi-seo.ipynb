{
 "cells": [
  {
   "cell_type": "markdown",
   "metadata": {},
   "source": [
    "# Raspberry Pi SEO Research"
   ]
  },
  {
   "cell_type": "markdown",
   "metadata": {},
   "source": [
    "## Let's do some basic analysis of keywords related to \"raspberry pi\"\n",
    "\n",
    "\n",
    "1. First we need to import the modules needed to build our db and run analysis\n",
    "2. import the csv file with the keywords given by the google keyword planner\n",
    "3. build a Pandas db\n",
    "4. Analyze"
   ]
  },
  {
   "cell_type": "code",
   "execution_count": 23,
   "metadata": {},
   "outputs": [],
   "source": [
    "#Importing packages\n",
    "import math as m\n",
    "import pandas as pd\n",
    "import matplotlib.pyplot as plt\n",
    "import numpy as np\n",
    "import seaborn as sns\n",
    "from sklearn.preprocessing import StandardScaler\n",
    "from sklearn.preprocessing import MinMaxScaler\n",
    "from sklearn.cluster import KMeans\n",
    "from sklearn.model_selection import train_test_split \n",
    "from sklearn.linear_model import LinearRegression\n",
    "from sklearn import metrics\n",
    "\n",
    "pd.options.mode.chained_assignment = None  # default='warn'\n",
    "\n",
    "\n",
    "pd.options.display.max_columns = 70\n",
    "pd.options.display.max_rows = 99"
   ]
  },
  {
   "cell_type": "code",
   "execution_count": 24,
   "metadata": {},
   "outputs": [],
   "source": [
    "import os"
   ]
  },
  {
   "cell_type": "code",
   "execution_count": 25,
   "metadata": {},
   "outputs": [],
   "source": [
    "df = pd.read_excel('raspberry-pi-seo.xlsx', sheet_name='raspberry-pi-seo')"
   ]
  },
  {
   "cell_type": "markdown",
   "metadata": {},
   "source": [
    "### **Let's check out the number of terms (keywords) that have been given to use by the eyword planner tool**\n",
    "    - To do this we can just check the number of rows that are give in the pandas dataframe by using \"shape\" function"
   ]
  },
  {
   "cell_type": "code",
   "execution_count": 26,
   "metadata": {},
   "outputs": [
    {
     "output_type": "execute_result",
     "data": {
      "text/plain": [
       "710"
      ]
     },
     "metadata": {},
     "execution_count": 26
    }
   ],
   "source": [
    "num_rows = df.shape[0]\n",
    "num_rows"
   ]
  },
  {
   "cell_type": "markdown",
   "metadata": {},
   "source": [
    "- Okay, so we can see that there are 710 terms in our dataset, what we are going to do now is break this down into three categories"
   ]
  },
  {
   "cell_type": "code",
   "execution_count": 27,
   "metadata": {},
   "outputs": [],
   "source": [
    "df1 = df.groupby(['Keyword', 'Avg. monthly searches']).size().unstack(fill_value=0)"
   ]
  },
  {
   "cell_type": "code",
   "execution_count": 28,
   "metadata": {},
   "outputs": [],
   "source": [
    "aboveEqual_five_thousand = df.loc[df['Avg. monthly searches'] >= 5000]\n",
    "aboveEqual_fifty_thousand = df.loc[df['Avg. monthly searches'] >= 50000]\n",
    "aboveEqual_fiveHundred_thousand = df.loc[df['Avg. monthly searches'] >= 500000]"
   ]
  },
  {
   "cell_type": "markdown",
   "metadata": {},
   "source": [
    "### **Let's check out the number of terms (keywords) that have a Average monthly search rate above 5,000**\n"
   ]
  },
  {
   "cell_type": "code",
   "execution_count": 29,
   "metadata": {},
   "outputs": [
    {
     "output_type": "execute_result",
     "data": {
      "text/plain": [
       "65"
      ]
     },
     "metadata": {},
     "execution_count": 29
    }
   ],
   "source": [
    "num_rows5k = aboveEqual_five_thousand.shape[0]\n",
    "num_rows5k"
   ]
  },
  {
   "cell_type": "markdown",
   "metadata": {},
   "source": [
    "### **Let's check out the number of terms (keywords) that have a Average monthly search rate above 50,000**\n"
   ]
  },
  {
   "cell_type": "code",
   "execution_count": 30,
   "metadata": {},
   "outputs": [
    {
     "output_type": "execute_result",
     "data": {
      "text/plain": [
       "8"
      ]
     },
     "metadata": {},
     "execution_count": 30
    }
   ],
   "source": [
    "num_rows50k = aboveEqual_fifty_thousand.shape[0]\n",
    "num_rows50k"
   ]
  },
  {
   "cell_type": "markdown",
   "metadata": {},
   "source": [
    "### **Let's check out the number of terms (keywords) that have a Average monthly search rate above 500,000**\n"
   ]
  },
  {
   "cell_type": "code",
   "execution_count": 31,
   "metadata": {},
   "outputs": [
    {
     "output_type": "execute_result",
     "data": {
      "text/plain": [
       "1"
      ]
     },
     "metadata": {},
     "execution_count": 31
    }
   ],
   "source": [
    "num_rows500k = aboveEqual_fiveHundred_thousand.shape[0]\n",
    "num_rows500k"
   ]
  },
  {
   "cell_type": "markdown",
   "metadata": {},
   "source": [
    "## Analysis\n",
    "\n",
    "#### It is clear to me that we should mainly focus on the keywords related to \"raspberry pi\" that have an average monthly search \n",
    "\n",
    "#### frequency greater than or equal to 50,000 for now. So let's make a new df with these keywords and then we can extract the terms \n",
    "\n",
    "#### and put them into an array to be used for the website."
   ]
  },
  {
   "cell_type": "code",
   "execution_count": 32,
   "metadata": {},
   "outputs": [
    {
     "output_type": "execute_result",
     "data": {
      "text/plain": [
       "              Keyword Currency  Avg. monthly searches Competition  \\\n",
       "1        raspberry pi      USD                 500000        High   \n",
       "2      raspberry pi 4      USD                  50000        High   \n",
       "3    raspberry pi 400      USD                  50000        High   \n",
       "4      raspberry pi 3      USD                  50000        High   \n",
       "5   raspberry pi zero      USD                  50000        High   \n",
       "6  raspberry pi 4 8gb      USD                  50000        High   \n",
       "7                 pi4      USD                  50000         Low   \n",
       "8                r pi      USD                  50000         Low   \n",
       "\n",
       "   Competition (indexed value)  Top of page bid (low range)  \\\n",
       "1                         97.0                         0.15   \n",
       "2                         97.0                         0.18   \n",
       "3                        100.0                         0.14   \n",
       "4                        100.0                         0.27   \n",
       "5                        100.0                         0.22   \n",
       "6                        100.0                         0.37   \n",
       "7                         31.0                         0.21   \n",
       "8                          0.0                         1.14   \n",
       "\n",
       "   Top of page bid (high range)  Ad impression share  \\\n",
       "1                          3.03                  NaN   \n",
       "2                          0.99                  NaN   \n",
       "3                          0.57                  NaN   \n",
       "4                          0.89                  NaN   \n",
       "5                          0.95                  NaN   \n",
       "6                          0.50                  NaN   \n",
       "7                          1.56                  NaN   \n",
       "8                          4.72                  NaN   \n",
       "\n",
       "   Organic impression share  Organic average position  In account?  In plan?  \\\n",
       "1                       NaN                       NaN          NaN       NaN   \n",
       "2                       NaN                       NaN          NaN       NaN   \n",
       "3                       NaN                       NaN          NaN       NaN   \n",
       "4                       NaN                       NaN          NaN       NaN   \n",
       "5                       NaN                       NaN          NaN       NaN   \n",
       "6                       NaN                       NaN          NaN       NaN   \n",
       "7                       NaN                       NaN          NaN       NaN   \n",
       "8                       NaN                       NaN          NaN       NaN   \n",
       "\n",
       "   Searches: Jun 2020  Searches: Jul 2020  Searches: Aug 2020  \\\n",
       "1                 NaN                 NaN                 NaN   \n",
       "2                 NaN                 NaN                 NaN   \n",
       "3                 NaN                 NaN                 NaN   \n",
       "4                 NaN                 NaN                 NaN   \n",
       "5                 NaN                 NaN                 NaN   \n",
       "6                 NaN                 NaN                 NaN   \n",
       "7                 NaN                 NaN                 NaN   \n",
       "8                 NaN                 NaN                 NaN   \n",
       "\n",
       "   Searches: Sep 2020  Searches: Oct 2020  Searches: Nov 2020  \\\n",
       "1                 NaN                 NaN                 NaN   \n",
       "2                 NaN                 NaN                 NaN   \n",
       "3                 NaN                 NaN                 NaN   \n",
       "4                 NaN                 NaN                 NaN   \n",
       "5                 NaN                 NaN                 NaN   \n",
       "6                 NaN                 NaN                 NaN   \n",
       "7                 NaN                 NaN                 NaN   \n",
       "8                 NaN                 NaN                 NaN   \n",
       "\n",
       "   Searches: Dec 2020  Searches: Jan 2021  Searches: Feb 2021  \\\n",
       "1                 NaN                 NaN                 NaN   \n",
       "2                 NaN                 NaN                 NaN   \n",
       "3                 NaN                 NaN                 NaN   \n",
       "4                 NaN                 NaN                 NaN   \n",
       "5                 NaN                 NaN                 NaN   \n",
       "6                 NaN                 NaN                 NaN   \n",
       "7                 NaN                 NaN                 NaN   \n",
       "8                 NaN                 NaN                 NaN   \n",
       "\n",
       "   Searches: Mar 2021  Searches: Apr 2021  Searches: May 2021  \\\n",
       "1                 NaN                 NaN                 NaN   \n",
       "2                 NaN                 NaN                 NaN   \n",
       "3                 NaN                 NaN                 NaN   \n",
       "4                 NaN                 NaN                 NaN   \n",
       "5                 NaN                 NaN                 NaN   \n",
       "6                 NaN                 NaN                 NaN   \n",
       "7                 NaN                 NaN                 NaN   \n",
       "8                 NaN                 NaN                 NaN   \n",
       "\n",
       "  Concept: Platform   Concept: Phosphoinositide Concept: Operating System  \\\n",
       "1               NaN                         NaN                       NaN   \n",
       "2               NaN                        pi 4                       NaN   \n",
       "3               NaN                         NaN                       NaN   \n",
       "4               NaN                        pi 3                       NaN   \n",
       "5               NaN           raspberry pi zero                       NaN   \n",
       "6               NaN  pi 4, raspberry pi model b                       NaN   \n",
       "7               NaN                        pi 4                       NaN   \n",
       "8               NaN                         NaN                       NaN   \n",
       "\n",
       "  Concept: Company Concept: Other Brands Concept: Gene Concept: Non-Brands  \\\n",
       "1              NaN                   NaN           NaN                 NaN   \n",
       "2              NaN                   NaN           pi4          Non-Brands   \n",
       "3              NaN                   NaN           NaN          Non-Brands   \n",
       "4              NaN                   NaN           pi3          Non-Brands   \n",
       "5              NaN                   NaN           NaN          Non-Brands   \n",
       "6              NaN                   NaN           pi4          Non-Brands   \n",
       "7              NaN                   NaN           pi4          Non-Brands   \n",
       "8              NaN                   NaN           NaN          Non-Brands   \n",
       "\n",
       "  Concept: Others  \n",
       "1             NaN  \n",
       "2             NaN  \n",
       "3             NaN  \n",
       "4             NaN  \n",
       "5             NaN  \n",
       "6             NaN  \n",
       "7             NaN  \n",
       "8             NaN  "
      ],
      "text/html": "<div>\n<style scoped>\n    .dataframe tbody tr th:only-of-type {\n        vertical-align: middle;\n    }\n\n    .dataframe tbody tr th {\n        vertical-align: top;\n    }\n\n    .dataframe thead th {\n        text-align: right;\n    }\n</style>\n<table border=\"1\" class=\"dataframe\">\n  <thead>\n    <tr style=\"text-align: right;\">\n      <th></th>\n      <th>Keyword</th>\n      <th>Currency</th>\n      <th>Avg. monthly searches</th>\n      <th>Competition</th>\n      <th>Competition (indexed value)</th>\n      <th>Top of page bid (low range)</th>\n      <th>Top of page bid (high range)</th>\n      <th>Ad impression share</th>\n      <th>Organic impression share</th>\n      <th>Organic average position</th>\n      <th>In account?</th>\n      <th>In plan?</th>\n      <th>Searches: Jun 2020</th>\n      <th>Searches: Jul 2020</th>\n      <th>Searches: Aug 2020</th>\n      <th>Searches: Sep 2020</th>\n      <th>Searches: Oct 2020</th>\n      <th>Searches: Nov 2020</th>\n      <th>Searches: Dec 2020</th>\n      <th>Searches: Jan 2021</th>\n      <th>Searches: Feb 2021</th>\n      <th>Searches: Mar 2021</th>\n      <th>Searches: Apr 2021</th>\n      <th>Searches: May 2021</th>\n      <th>Concept: Platform</th>\n      <th>Concept: Phosphoinositide</th>\n      <th>Concept: Operating System</th>\n      <th>Concept: Company</th>\n      <th>Concept: Other Brands</th>\n      <th>Concept: Gene</th>\n      <th>Concept: Non-Brands</th>\n      <th>Concept: Others</th>\n    </tr>\n  </thead>\n  <tbody>\n    <tr>\n      <td>1</td>\n      <td>raspberry pi</td>\n      <td>USD</td>\n      <td>500000</td>\n      <td>High</td>\n      <td>97.0</td>\n      <td>0.15</td>\n      <td>3.03</td>\n      <td>NaN</td>\n      <td>NaN</td>\n      <td>NaN</td>\n      <td>NaN</td>\n      <td>NaN</td>\n      <td>NaN</td>\n      <td>NaN</td>\n      <td>NaN</td>\n      <td>NaN</td>\n      <td>NaN</td>\n      <td>NaN</td>\n      <td>NaN</td>\n      <td>NaN</td>\n      <td>NaN</td>\n      <td>NaN</td>\n      <td>NaN</td>\n      <td>NaN</td>\n      <td>NaN</td>\n      <td>NaN</td>\n      <td>NaN</td>\n      <td>NaN</td>\n      <td>NaN</td>\n      <td>NaN</td>\n      <td>NaN</td>\n      <td>NaN</td>\n    </tr>\n    <tr>\n      <td>2</td>\n      <td>raspberry pi 4</td>\n      <td>USD</td>\n      <td>50000</td>\n      <td>High</td>\n      <td>97.0</td>\n      <td>0.18</td>\n      <td>0.99</td>\n      <td>NaN</td>\n      <td>NaN</td>\n      <td>NaN</td>\n      <td>NaN</td>\n      <td>NaN</td>\n      <td>NaN</td>\n      <td>NaN</td>\n      <td>NaN</td>\n      <td>NaN</td>\n      <td>NaN</td>\n      <td>NaN</td>\n      <td>NaN</td>\n      <td>NaN</td>\n      <td>NaN</td>\n      <td>NaN</td>\n      <td>NaN</td>\n      <td>NaN</td>\n      <td>NaN</td>\n      <td>pi 4</td>\n      <td>NaN</td>\n      <td>NaN</td>\n      <td>NaN</td>\n      <td>pi4</td>\n      <td>Non-Brands</td>\n      <td>NaN</td>\n    </tr>\n    <tr>\n      <td>3</td>\n      <td>raspberry pi 400</td>\n      <td>USD</td>\n      <td>50000</td>\n      <td>High</td>\n      <td>100.0</td>\n      <td>0.14</td>\n      <td>0.57</td>\n      <td>NaN</td>\n      <td>NaN</td>\n      <td>NaN</td>\n      <td>NaN</td>\n      <td>NaN</td>\n      <td>NaN</td>\n      <td>NaN</td>\n      <td>NaN</td>\n      <td>NaN</td>\n      <td>NaN</td>\n      <td>NaN</td>\n      <td>NaN</td>\n      <td>NaN</td>\n      <td>NaN</td>\n      <td>NaN</td>\n      <td>NaN</td>\n      <td>NaN</td>\n      <td>NaN</td>\n      <td>NaN</td>\n      <td>NaN</td>\n      <td>NaN</td>\n      <td>NaN</td>\n      <td>NaN</td>\n      <td>Non-Brands</td>\n      <td>NaN</td>\n    </tr>\n    <tr>\n      <td>4</td>\n      <td>raspberry pi 3</td>\n      <td>USD</td>\n      <td>50000</td>\n      <td>High</td>\n      <td>100.0</td>\n      <td>0.27</td>\n      <td>0.89</td>\n      <td>NaN</td>\n      <td>NaN</td>\n      <td>NaN</td>\n      <td>NaN</td>\n      <td>NaN</td>\n      <td>NaN</td>\n      <td>NaN</td>\n      <td>NaN</td>\n      <td>NaN</td>\n      <td>NaN</td>\n      <td>NaN</td>\n      <td>NaN</td>\n      <td>NaN</td>\n      <td>NaN</td>\n      <td>NaN</td>\n      <td>NaN</td>\n      <td>NaN</td>\n      <td>NaN</td>\n      <td>pi 3</td>\n      <td>NaN</td>\n      <td>NaN</td>\n      <td>NaN</td>\n      <td>pi3</td>\n      <td>Non-Brands</td>\n      <td>NaN</td>\n    </tr>\n    <tr>\n      <td>5</td>\n      <td>raspberry pi zero</td>\n      <td>USD</td>\n      <td>50000</td>\n      <td>High</td>\n      <td>100.0</td>\n      <td>0.22</td>\n      <td>0.95</td>\n      <td>NaN</td>\n      <td>NaN</td>\n      <td>NaN</td>\n      <td>NaN</td>\n      <td>NaN</td>\n      <td>NaN</td>\n      <td>NaN</td>\n      <td>NaN</td>\n      <td>NaN</td>\n      <td>NaN</td>\n      <td>NaN</td>\n      <td>NaN</td>\n      <td>NaN</td>\n      <td>NaN</td>\n      <td>NaN</td>\n      <td>NaN</td>\n      <td>NaN</td>\n      <td>NaN</td>\n      <td>raspberry pi zero</td>\n      <td>NaN</td>\n      <td>NaN</td>\n      <td>NaN</td>\n      <td>NaN</td>\n      <td>Non-Brands</td>\n      <td>NaN</td>\n    </tr>\n    <tr>\n      <td>6</td>\n      <td>raspberry pi 4 8gb</td>\n      <td>USD</td>\n      <td>50000</td>\n      <td>High</td>\n      <td>100.0</td>\n      <td>0.37</td>\n      <td>0.50</td>\n      <td>NaN</td>\n      <td>NaN</td>\n      <td>NaN</td>\n      <td>NaN</td>\n      <td>NaN</td>\n      <td>NaN</td>\n      <td>NaN</td>\n      <td>NaN</td>\n      <td>NaN</td>\n      <td>NaN</td>\n      <td>NaN</td>\n      <td>NaN</td>\n      <td>NaN</td>\n      <td>NaN</td>\n      <td>NaN</td>\n      <td>NaN</td>\n      <td>NaN</td>\n      <td>NaN</td>\n      <td>pi 4, raspberry pi model b</td>\n      <td>NaN</td>\n      <td>NaN</td>\n      <td>NaN</td>\n      <td>pi4</td>\n      <td>Non-Brands</td>\n      <td>NaN</td>\n    </tr>\n    <tr>\n      <td>7</td>\n      <td>pi4</td>\n      <td>USD</td>\n      <td>50000</td>\n      <td>Low</td>\n      <td>31.0</td>\n      <td>0.21</td>\n      <td>1.56</td>\n      <td>NaN</td>\n      <td>NaN</td>\n      <td>NaN</td>\n      <td>NaN</td>\n      <td>NaN</td>\n      <td>NaN</td>\n      <td>NaN</td>\n      <td>NaN</td>\n      <td>NaN</td>\n      <td>NaN</td>\n      <td>NaN</td>\n      <td>NaN</td>\n      <td>NaN</td>\n      <td>NaN</td>\n      <td>NaN</td>\n      <td>NaN</td>\n      <td>NaN</td>\n      <td>NaN</td>\n      <td>pi 4</td>\n      <td>NaN</td>\n      <td>NaN</td>\n      <td>NaN</td>\n      <td>pi4</td>\n      <td>Non-Brands</td>\n      <td>NaN</td>\n    </tr>\n    <tr>\n      <td>8</td>\n      <td>r pi</td>\n      <td>USD</td>\n      <td>50000</td>\n      <td>Low</td>\n      <td>0.0</td>\n      <td>1.14</td>\n      <td>4.72</td>\n      <td>NaN</td>\n      <td>NaN</td>\n      <td>NaN</td>\n      <td>NaN</td>\n      <td>NaN</td>\n      <td>NaN</td>\n      <td>NaN</td>\n      <td>NaN</td>\n      <td>NaN</td>\n      <td>NaN</td>\n      <td>NaN</td>\n      <td>NaN</td>\n      <td>NaN</td>\n      <td>NaN</td>\n      <td>NaN</td>\n      <td>NaN</td>\n      <td>NaN</td>\n      <td>NaN</td>\n      <td>NaN</td>\n      <td>NaN</td>\n      <td>NaN</td>\n      <td>NaN</td>\n      <td>NaN</td>\n      <td>Non-Brands</td>\n      <td>NaN</td>\n    </tr>\n  </tbody>\n</table>\n</div>"
     },
     "metadata": {},
     "execution_count": 32
    }
   ],
   "source": [
    "frames = [aboveEqual_fiveHundred_thousand, aboveEqual_fifty_thousand]\n",
    "\n",
    "#append dataframes\n",
    "top_keywords = aboveEqual_fiveHundred_thousand.append(aboveEqual_fifty_thousand, ignore_index=True)\n",
    "top_keywords = top_keywords.drop(labels=0, axis=0)\n",
    "top_keywords"
   ]
  },
  {
   "cell_type": "code",
   "execution_count": 33,
   "metadata": {},
   "outputs": [
    {
     "output_type": "display_data",
     "data": {
      "text/plain": "<Figure size 5760x5760 with 0 Axes>"
     },
     "metadata": {}
    },
    {
     "output_type": "display_data",
     "data": {
      "text/plain": "<Figure size 432x288 with 1 Axes>",
      "image/svg+xml": "<?xml version=\"1.0\" encoding=\"utf-8\" standalone=\"no\"?>\n<!DOCTYPE svg PUBLIC \"-//W3C//DTD SVG 1.1//EN\"\n  \"http://www.w3.org/Graphics/SVG/1.1/DTD/svg11.dtd\">\n<!-- Created with matplotlib (https://matplotlib.org/) -->\n<svg height=\"345.038437pt\" version=\"1.1\" viewBox=\"0 0 563.635937 345.038437\" width=\"563.635937pt\" xmlns=\"http://www.w3.org/2000/svg\" xmlns:xlink=\"http://www.w3.org/1999/xlink\">\n <defs>\n  <style type=\"text/css\">\n*{stroke-linecap:butt;stroke-linejoin:round;}\n  </style>\n </defs>\n <g id=\"figure_1\">\n  <g id=\"patch_1\">\n   <path d=\"M 0 345.038437 \nL 563.635937 345.038437 \nL 563.635937 0 \nL 0 0 \nz\n\" style=\"fill:none;\"/>\n  </g>\n  <g id=\"axes_1\">\n   <g id=\"patch_2\">\n    <path d=\"M 66.053125 224.64 \nL 400.853125 224.64 \nL 400.853125 7.2 \nL 66.053125 7.2 \nz\n\" style=\"fill:#ffffff;\"/>\n   </g>\n   <g id=\"patch_3\">\n    <path clip-path=\"url(#p9ae698b2f1)\" d=\"M 76.137462 224.64 \nL 108.407342 224.64 \nL 108.407342 17.554286 \nL 76.137462 17.554286 \nz\n\" style=\"fill:#1f77b4;\"/>\n   </g>\n   <g id=\"patch_4\">\n    <path clip-path=\"url(#p9ae698b2f1)\" d=\"M 116.474812 224.64 \nL 148.744691 224.64 \nL 148.744691 203.931429 \nL 116.474812 203.931429 \nz\n\" style=\"fill:#1f77b4;\"/>\n   </g>\n   <g id=\"patch_5\">\n    <path clip-path=\"url(#p9ae698b2f1)\" d=\"M 156.812161 224.64 \nL 189.082041 224.64 \nL 189.082041 203.931429 \nL 156.812161 203.931429 \nz\n\" style=\"fill:#1f77b4;\"/>\n   </g>\n   <g id=\"patch_6\">\n    <path clip-path=\"url(#p9ae698b2f1)\" d=\"M 197.149511 224.64 \nL 229.41939 224.64 \nL 229.41939 203.931429 \nL 197.149511 203.931429 \nz\n\" style=\"fill:#1f77b4;\"/>\n   </g>\n   <g id=\"patch_7\">\n    <path clip-path=\"url(#p9ae698b2f1)\" d=\"M 237.48686 224.64 \nL 269.756739 224.64 \nL 269.756739 203.931429 \nL 237.48686 203.931429 \nz\n\" style=\"fill:#1f77b4;\"/>\n   </g>\n   <g id=\"patch_8\">\n    <path clip-path=\"url(#p9ae698b2f1)\" d=\"M 277.824209 224.64 \nL 310.094089 224.64 \nL 310.094089 203.931429 \nL 277.824209 203.931429 \nz\n\" style=\"fill:#1f77b4;\"/>\n   </g>\n   <g id=\"patch_9\">\n    <path clip-path=\"url(#p9ae698b2f1)\" d=\"M 318.161559 224.64 \nL 350.431438 224.64 \nL 350.431438 203.931429 \nL 318.161559 203.931429 \nz\n\" style=\"fill:#1f77b4;\"/>\n   </g>\n   <g id=\"patch_10\">\n    <path clip-path=\"url(#p9ae698b2f1)\" d=\"M 358.498908 224.64 \nL 390.768788 224.64 \nL 390.768788 203.931429 \nL 358.498908 203.931429 \nz\n\" style=\"fill:#1f77b4;\"/>\n   </g>\n   <g id=\"matplotlib.axis_1\">\n    <g id=\"xtick_1\">\n     <g id=\"line2d_1\">\n      <defs>\n       <path d=\"M 0 0 \nL 0 3.5 \n\" id=\"m6aff320af0\" style=\"stroke:#000000;stroke-width:0.8;\"/>\n      </defs>\n      <g>\n       <use style=\"stroke:#000000;stroke-width:0.8;\" x=\"92.272402\" xlink:href=\"#m6aff320af0\" y=\"224.64\"/>\n      </g>\n     </g>\n     <g id=\"text_1\">\n      <!-- raspberry pi -->\n      <defs>\n       <path d=\"M 41.109375 46.296875 \nQ 39.59375 47.171875 37.8125 47.578125 \nQ 36.03125 48 33.890625 48 \nQ 26.265625 48 22.1875 43.046875 \nQ 18.109375 38.09375 18.109375 28.8125 \nL 18.109375 0 \nL 9.078125 0 \nL 9.078125 54.6875 \nL 18.109375 54.6875 \nL 18.109375 46.1875 \nQ 20.953125 51.171875 25.484375 53.578125 \nQ 30.03125 56 36.53125 56 \nQ 37.453125 56 38.578125 55.875 \nQ 39.703125 55.765625 41.0625 55.515625 \nz\n\" id=\"DejaVuSans-114\"/>\n       <path d=\"M 34.28125 27.484375 \nQ 23.390625 27.484375 19.1875 25 \nQ 14.984375 22.515625 14.984375 16.5 \nQ 14.984375 11.71875 18.140625 8.90625 \nQ 21.296875 6.109375 26.703125 6.109375 \nQ 34.1875 6.109375 38.703125 11.40625 \nQ 43.21875 16.703125 43.21875 25.484375 \nL 43.21875 27.484375 \nz\nM 52.203125 31.203125 \nL 52.203125 0 \nL 43.21875 0 \nL 43.21875 8.296875 \nQ 40.140625 3.328125 35.546875 0.953125 \nQ 30.953125 -1.421875 24.3125 -1.421875 \nQ 15.921875 -1.421875 10.953125 3.296875 \nQ 6 8.015625 6 15.921875 \nQ 6 25.140625 12.171875 29.828125 \nQ 18.359375 34.515625 30.609375 34.515625 \nL 43.21875 34.515625 \nL 43.21875 35.40625 \nQ 43.21875 41.609375 39.140625 45 \nQ 35.0625 48.390625 27.6875 48.390625 \nQ 23 48.390625 18.546875 47.265625 \nQ 14.109375 46.140625 10.015625 43.890625 \nL 10.015625 52.203125 \nQ 14.9375 54.109375 19.578125 55.046875 \nQ 24.21875 56 28.609375 56 \nQ 40.484375 56 46.34375 49.84375 \nQ 52.203125 43.703125 52.203125 31.203125 \nz\n\" id=\"DejaVuSans-97\"/>\n       <path d=\"M 44.28125 53.078125 \nL 44.28125 44.578125 \nQ 40.484375 46.53125 36.375 47.5 \nQ 32.28125 48.484375 27.875 48.484375 \nQ 21.1875 48.484375 17.84375 46.4375 \nQ 14.5 44.390625 14.5 40.28125 \nQ 14.5 37.15625 16.890625 35.375 \nQ 19.28125 33.59375 26.515625 31.984375 \nL 29.59375 31.296875 \nQ 39.15625 29.25 43.1875 25.515625 \nQ 47.21875 21.78125 47.21875 15.09375 \nQ 47.21875 7.46875 41.1875 3.015625 \nQ 35.15625 -1.421875 24.609375 -1.421875 \nQ 20.21875 -1.421875 15.453125 -0.5625 \nQ 10.6875 0.296875 5.421875 2 \nL 5.421875 11.28125 \nQ 10.40625 8.6875 15.234375 7.390625 \nQ 20.0625 6.109375 24.8125 6.109375 \nQ 31.15625 6.109375 34.5625 8.28125 \nQ 37.984375 10.453125 37.984375 14.40625 \nQ 37.984375 18.0625 35.515625 20.015625 \nQ 33.0625 21.96875 24.703125 23.78125 \nL 21.578125 24.515625 \nQ 13.234375 26.265625 9.515625 29.90625 \nQ 5.8125 33.546875 5.8125 39.890625 \nQ 5.8125 47.609375 11.28125 51.796875 \nQ 16.75 56 26.8125 56 \nQ 31.78125 56 36.171875 55.265625 \nQ 40.578125 54.546875 44.28125 53.078125 \nz\n\" id=\"DejaVuSans-115\"/>\n       <path d=\"M 18.109375 8.203125 \nL 18.109375 -20.796875 \nL 9.078125 -20.796875 \nL 9.078125 54.6875 \nL 18.109375 54.6875 \nL 18.109375 46.390625 \nQ 20.953125 51.265625 25.265625 53.625 \nQ 29.59375 56 35.59375 56 \nQ 45.5625 56 51.78125 48.09375 \nQ 58.015625 40.1875 58.015625 27.296875 \nQ 58.015625 14.40625 51.78125 6.484375 \nQ 45.5625 -1.421875 35.59375 -1.421875 \nQ 29.59375 -1.421875 25.265625 0.953125 \nQ 20.953125 3.328125 18.109375 8.203125 \nz\nM 48.6875 27.296875 \nQ 48.6875 37.203125 44.609375 42.84375 \nQ 40.53125 48.484375 33.40625 48.484375 \nQ 26.265625 48.484375 22.1875 42.84375 \nQ 18.109375 37.203125 18.109375 27.296875 \nQ 18.109375 17.390625 22.1875 11.75 \nQ 26.265625 6.109375 33.40625 6.109375 \nQ 40.53125 6.109375 44.609375 11.75 \nQ 48.6875 17.390625 48.6875 27.296875 \nz\n\" id=\"DejaVuSans-112\"/>\n       <path d=\"M 48.6875 27.296875 \nQ 48.6875 37.203125 44.609375 42.84375 \nQ 40.53125 48.484375 33.40625 48.484375 \nQ 26.265625 48.484375 22.1875 42.84375 \nQ 18.109375 37.203125 18.109375 27.296875 \nQ 18.109375 17.390625 22.1875 11.75 \nQ 26.265625 6.109375 33.40625 6.109375 \nQ 40.53125 6.109375 44.609375 11.75 \nQ 48.6875 17.390625 48.6875 27.296875 \nz\nM 18.109375 46.390625 \nQ 20.953125 51.265625 25.265625 53.625 \nQ 29.59375 56 35.59375 56 \nQ 45.5625 56 51.78125 48.09375 \nQ 58.015625 40.1875 58.015625 27.296875 \nQ 58.015625 14.40625 51.78125 6.484375 \nQ 45.5625 -1.421875 35.59375 -1.421875 \nQ 29.59375 -1.421875 25.265625 0.953125 \nQ 20.953125 3.328125 18.109375 8.203125 \nL 18.109375 0 \nL 9.078125 0 \nL 9.078125 75.984375 \nL 18.109375 75.984375 \nz\n\" id=\"DejaVuSans-98\"/>\n       <path d=\"M 56.203125 29.59375 \nL 56.203125 25.203125 \nL 14.890625 25.203125 \nQ 15.484375 15.921875 20.484375 11.0625 \nQ 25.484375 6.203125 34.421875 6.203125 \nQ 39.59375 6.203125 44.453125 7.46875 \nQ 49.3125 8.734375 54.109375 11.28125 \nL 54.109375 2.78125 \nQ 49.265625 0.734375 44.1875 -0.34375 \nQ 39.109375 -1.421875 33.890625 -1.421875 \nQ 20.796875 -1.421875 13.15625 6.1875 \nQ 5.515625 13.8125 5.515625 26.8125 \nQ 5.515625 40.234375 12.765625 48.109375 \nQ 20.015625 56 32.328125 56 \nQ 43.359375 56 49.78125 48.890625 \nQ 56.203125 41.796875 56.203125 29.59375 \nz\nM 47.21875 32.234375 \nQ 47.125 39.59375 43.09375 43.984375 \nQ 39.0625 48.390625 32.421875 48.390625 \nQ 24.90625 48.390625 20.390625 44.140625 \nQ 15.875 39.890625 15.1875 32.171875 \nz\n\" id=\"DejaVuSans-101\"/>\n       <path d=\"M 32.171875 -5.078125 \nQ 28.375 -14.84375 24.75 -17.8125 \nQ 21.140625 -20.796875 15.09375 -20.796875 \nL 7.90625 -20.796875 \nL 7.90625 -13.28125 \nL 13.1875 -13.28125 \nQ 16.890625 -13.28125 18.9375 -11.515625 \nQ 21 -9.765625 23.484375 -3.21875 \nL 25.09375 0.875 \nL 2.984375 54.6875 \nL 12.5 54.6875 \nL 29.59375 11.921875 \nL 46.6875 54.6875 \nL 56.203125 54.6875 \nz\n\" id=\"DejaVuSans-121\"/>\n       <path id=\"DejaVuSans-32\"/>\n       <path d=\"M 9.421875 54.6875 \nL 18.40625 54.6875 \nL 18.40625 0 \nL 9.421875 0 \nz\nM 9.421875 75.984375 \nL 18.40625 75.984375 \nL 18.40625 64.59375 \nL 9.421875 64.59375 \nz\n\" id=\"DejaVuSans-105\"/>\n      </defs>\n      <g transform=\"translate(95.031777 292.382187)rotate(-90)scale(0.1 -0.1)\">\n       <use xlink:href=\"#DejaVuSans-114\"/>\n       <use x=\"41.113281\" xlink:href=\"#DejaVuSans-97\"/>\n       <use x=\"102.392578\" xlink:href=\"#DejaVuSans-115\"/>\n       <use x=\"154.492188\" xlink:href=\"#DejaVuSans-112\"/>\n       <use x=\"217.96875\" xlink:href=\"#DejaVuSans-98\"/>\n       <use x=\"281.445312\" xlink:href=\"#DejaVuSans-101\"/>\n       <use x=\"342.96875\" xlink:href=\"#DejaVuSans-114\"/>\n       <use x=\"384.066406\" xlink:href=\"#DejaVuSans-114\"/>\n       <use x=\"425.179688\" xlink:href=\"#DejaVuSans-121\"/>\n       <use x=\"484.359375\" xlink:href=\"#DejaVuSans-32\"/>\n       <use x=\"516.146484\" xlink:href=\"#DejaVuSans-112\"/>\n       <use x=\"579.623047\" xlink:href=\"#DejaVuSans-105\"/>\n      </g>\n     </g>\n    </g>\n    <g id=\"xtick_2\">\n     <g id=\"line2d_2\">\n      <g>\n       <use style=\"stroke:#000000;stroke-width:0.8;\" x=\"132.609752\" xlink:href=\"#m6aff320af0\" y=\"224.64\"/>\n      </g>\n     </g>\n     <g id=\"text_2\">\n      <!-- raspberry pi 4 -->\n      <defs>\n       <path d=\"M 37.796875 64.3125 \nL 12.890625 25.390625 \nL 37.796875 25.390625 \nz\nM 35.203125 72.90625 \nL 47.609375 72.90625 \nL 47.609375 25.390625 \nL 58.015625 25.390625 \nL 58.015625 17.1875 \nL 47.609375 17.1875 \nL 47.609375 0 \nL 37.796875 0 \nL 37.796875 17.1875 \nL 4.890625 17.1875 \nL 4.890625 26.703125 \nz\n\" id=\"DejaVuSans-52\"/>\n      </defs>\n      <g transform=\"translate(135.369127 301.922812)rotate(-90)scale(0.1 -0.1)\">\n       <use xlink:href=\"#DejaVuSans-114\"/>\n       <use x=\"41.113281\" xlink:href=\"#DejaVuSans-97\"/>\n       <use x=\"102.392578\" xlink:href=\"#DejaVuSans-115\"/>\n       <use x=\"154.492188\" xlink:href=\"#DejaVuSans-112\"/>\n       <use x=\"217.96875\" xlink:href=\"#DejaVuSans-98\"/>\n       <use x=\"281.445312\" xlink:href=\"#DejaVuSans-101\"/>\n       <use x=\"342.96875\" xlink:href=\"#DejaVuSans-114\"/>\n       <use x=\"384.066406\" xlink:href=\"#DejaVuSans-114\"/>\n       <use x=\"425.179688\" xlink:href=\"#DejaVuSans-121\"/>\n       <use x=\"484.359375\" xlink:href=\"#DejaVuSans-32\"/>\n       <use x=\"516.146484\" xlink:href=\"#DejaVuSans-112\"/>\n       <use x=\"579.623047\" xlink:href=\"#DejaVuSans-105\"/>\n       <use x=\"607.40625\" xlink:href=\"#DejaVuSans-32\"/>\n       <use x=\"639.193359\" xlink:href=\"#DejaVuSans-52\"/>\n      </g>\n     </g>\n    </g>\n    <g id=\"xtick_3\">\n     <g id=\"line2d_3\">\n      <g>\n       <use style=\"stroke:#000000;stroke-width:0.8;\" x=\"172.947101\" xlink:href=\"#m6aff320af0\" y=\"224.64\"/>\n      </g>\n     </g>\n     <g id=\"text_3\">\n      <!-- raspberry pi 400 -->\n      <defs>\n       <path d=\"M 31.78125 66.40625 \nQ 24.171875 66.40625 20.328125 58.90625 \nQ 16.5 51.421875 16.5 36.375 \nQ 16.5 21.390625 20.328125 13.890625 \nQ 24.171875 6.390625 31.78125 6.390625 \nQ 39.453125 6.390625 43.28125 13.890625 \nQ 47.125 21.390625 47.125 36.375 \nQ 47.125 51.421875 43.28125 58.90625 \nQ 39.453125 66.40625 31.78125 66.40625 \nz\nM 31.78125 74.21875 \nQ 44.046875 74.21875 50.515625 64.515625 \nQ 56.984375 54.828125 56.984375 36.375 \nQ 56.984375 17.96875 50.515625 8.265625 \nQ 44.046875 -1.421875 31.78125 -1.421875 \nQ 19.53125 -1.421875 13.0625 8.265625 \nQ 6.59375 17.96875 6.59375 36.375 \nQ 6.59375 54.828125 13.0625 64.515625 \nQ 19.53125 74.21875 31.78125 74.21875 \nz\n\" id=\"DejaVuSans-48\"/>\n      </defs>\n      <g transform=\"translate(175.706476 314.647812)rotate(-90)scale(0.1 -0.1)\">\n       <use xlink:href=\"#DejaVuSans-114\"/>\n       <use x=\"41.113281\" xlink:href=\"#DejaVuSans-97\"/>\n       <use x=\"102.392578\" xlink:href=\"#DejaVuSans-115\"/>\n       <use x=\"154.492188\" xlink:href=\"#DejaVuSans-112\"/>\n       <use x=\"217.96875\" xlink:href=\"#DejaVuSans-98\"/>\n       <use x=\"281.445312\" xlink:href=\"#DejaVuSans-101\"/>\n       <use x=\"342.96875\" xlink:href=\"#DejaVuSans-114\"/>\n       <use x=\"384.066406\" xlink:href=\"#DejaVuSans-114\"/>\n       <use x=\"425.179688\" xlink:href=\"#DejaVuSans-121\"/>\n       <use x=\"484.359375\" xlink:href=\"#DejaVuSans-32\"/>\n       <use x=\"516.146484\" xlink:href=\"#DejaVuSans-112\"/>\n       <use x=\"579.623047\" xlink:href=\"#DejaVuSans-105\"/>\n       <use x=\"607.40625\" xlink:href=\"#DejaVuSans-32\"/>\n       <use x=\"639.193359\" xlink:href=\"#DejaVuSans-52\"/>\n       <use x=\"702.816406\" xlink:href=\"#DejaVuSans-48\"/>\n       <use x=\"766.439453\" xlink:href=\"#DejaVuSans-48\"/>\n      </g>\n     </g>\n    </g>\n    <g id=\"xtick_4\">\n     <g id=\"line2d_4\">\n      <g>\n       <use style=\"stroke:#000000;stroke-width:0.8;\" x=\"213.28445\" xlink:href=\"#m6aff320af0\" y=\"224.64\"/>\n      </g>\n     </g>\n     <g id=\"text_4\">\n      <!-- raspberry pi 3 -->\n      <defs>\n       <path d=\"M 40.578125 39.3125 \nQ 47.65625 37.796875 51.625 33 \nQ 55.609375 28.21875 55.609375 21.1875 \nQ 55.609375 10.40625 48.1875 4.484375 \nQ 40.765625 -1.421875 27.09375 -1.421875 \nQ 22.515625 -1.421875 17.65625 -0.515625 \nQ 12.796875 0.390625 7.625 2.203125 \nL 7.625 11.71875 \nQ 11.71875 9.328125 16.59375 8.109375 \nQ 21.484375 6.890625 26.8125 6.890625 \nQ 36.078125 6.890625 40.9375 10.546875 \nQ 45.796875 14.203125 45.796875 21.1875 \nQ 45.796875 27.640625 41.28125 31.265625 \nQ 36.765625 34.90625 28.71875 34.90625 \nL 20.21875 34.90625 \nL 20.21875 43.015625 \nL 29.109375 43.015625 \nQ 36.375 43.015625 40.234375 45.921875 \nQ 44.09375 48.828125 44.09375 54.296875 \nQ 44.09375 59.90625 40.109375 62.90625 \nQ 36.140625 65.921875 28.71875 65.921875 \nQ 24.65625 65.921875 20.015625 65.03125 \nQ 15.375 64.15625 9.8125 62.3125 \nL 9.8125 71.09375 \nQ 15.4375 72.65625 20.34375 73.4375 \nQ 25.25 74.21875 29.59375 74.21875 \nQ 40.828125 74.21875 47.359375 69.109375 \nQ 53.90625 64.015625 53.90625 55.328125 \nQ 53.90625 49.265625 50.4375 45.09375 \nQ 46.96875 40.921875 40.578125 39.3125 \nz\n\" id=\"DejaVuSans-51\"/>\n      </defs>\n      <g transform=\"translate(216.043825 301.922812)rotate(-90)scale(0.1 -0.1)\">\n       <use xlink:href=\"#DejaVuSans-114\"/>\n       <use x=\"41.113281\" xlink:href=\"#DejaVuSans-97\"/>\n       <use x=\"102.392578\" xlink:href=\"#DejaVuSans-115\"/>\n       <use x=\"154.492188\" xlink:href=\"#DejaVuSans-112\"/>\n       <use x=\"217.96875\" xlink:href=\"#DejaVuSans-98\"/>\n       <use x=\"281.445312\" xlink:href=\"#DejaVuSans-101\"/>\n       <use x=\"342.96875\" xlink:href=\"#DejaVuSans-114\"/>\n       <use x=\"384.066406\" xlink:href=\"#DejaVuSans-114\"/>\n       <use x=\"425.179688\" xlink:href=\"#DejaVuSans-121\"/>\n       <use x=\"484.359375\" xlink:href=\"#DejaVuSans-32\"/>\n       <use x=\"516.146484\" xlink:href=\"#DejaVuSans-112\"/>\n       <use x=\"579.623047\" xlink:href=\"#DejaVuSans-105\"/>\n       <use x=\"607.40625\" xlink:href=\"#DejaVuSans-32\"/>\n       <use x=\"639.193359\" xlink:href=\"#DejaVuSans-51\"/>\n      </g>\n     </g>\n    </g>\n    <g id=\"xtick_5\">\n     <g id=\"line2d_5\">\n      <g>\n       <use style=\"stroke:#000000;stroke-width:0.8;\" x=\"253.6218\" xlink:href=\"#m6aff320af0\" y=\"224.64\"/>\n      </g>\n     </g>\n     <g id=\"text_5\">\n      <!-- raspberry pi zero -->\n      <defs>\n       <path d=\"M 5.515625 54.6875 \nL 48.1875 54.6875 \nL 48.1875 46.484375 \nL 14.40625 7.171875 \nL 48.1875 7.171875 \nL 48.1875 0 \nL 4.296875 0 \nL 4.296875 8.203125 \nL 38.09375 47.515625 \nL 5.515625 47.515625 \nz\n\" id=\"DejaVuSans-122\"/>\n       <path d=\"M 30.609375 48.390625 \nQ 23.390625 48.390625 19.1875 42.75 \nQ 14.984375 37.109375 14.984375 27.296875 \nQ 14.984375 17.484375 19.15625 11.84375 \nQ 23.34375 6.203125 30.609375 6.203125 \nQ 37.796875 6.203125 41.984375 11.859375 \nQ 46.1875 17.53125 46.1875 27.296875 \nQ 46.1875 37.015625 41.984375 42.703125 \nQ 37.796875 48.390625 30.609375 48.390625 \nz\nM 30.609375 56 \nQ 42.328125 56 49.015625 48.375 \nQ 55.71875 40.765625 55.71875 27.296875 \nQ 55.71875 13.875 49.015625 6.21875 \nQ 42.328125 -1.421875 30.609375 -1.421875 \nQ 18.84375 -1.421875 12.171875 6.21875 \nQ 5.515625 13.875 5.515625 27.296875 \nQ 5.515625 40.765625 12.171875 48.375 \nQ 18.84375 56 30.609375 56 \nz\n\" id=\"DejaVuSans-111\"/>\n      </defs>\n      <g transform=\"translate(256.381175 317.188437)rotate(-90)scale(0.1 -0.1)\">\n       <use xlink:href=\"#DejaVuSans-114\"/>\n       <use x=\"41.113281\" xlink:href=\"#DejaVuSans-97\"/>\n       <use x=\"102.392578\" xlink:href=\"#DejaVuSans-115\"/>\n       <use x=\"154.492188\" xlink:href=\"#DejaVuSans-112\"/>\n       <use x=\"217.96875\" xlink:href=\"#DejaVuSans-98\"/>\n       <use x=\"281.445312\" xlink:href=\"#DejaVuSans-101\"/>\n       <use x=\"342.96875\" xlink:href=\"#DejaVuSans-114\"/>\n       <use x=\"384.066406\" xlink:href=\"#DejaVuSans-114\"/>\n       <use x=\"425.179688\" xlink:href=\"#DejaVuSans-121\"/>\n       <use x=\"484.359375\" xlink:href=\"#DejaVuSans-32\"/>\n       <use x=\"516.146484\" xlink:href=\"#DejaVuSans-112\"/>\n       <use x=\"579.623047\" xlink:href=\"#DejaVuSans-105\"/>\n       <use x=\"607.40625\" xlink:href=\"#DejaVuSans-32\"/>\n       <use x=\"639.193359\" xlink:href=\"#DejaVuSans-122\"/>\n       <use x=\"691.683594\" xlink:href=\"#DejaVuSans-101\"/>\n       <use x=\"753.207031\" xlink:href=\"#DejaVuSans-114\"/>\n       <use x=\"794.289062\" xlink:href=\"#DejaVuSans-111\"/>\n      </g>\n     </g>\n    </g>\n    <g id=\"xtick_6\">\n     <g id=\"line2d_6\">\n      <g>\n       <use style=\"stroke:#000000;stroke-width:0.8;\" x=\"293.959149\" xlink:href=\"#m6aff320af0\" y=\"224.64\"/>\n      </g>\n     </g>\n     <g id=\"text_6\">\n      <!-- raspberry pi 4 8gb -->\n      <defs>\n       <path d=\"M 31.78125 34.625 \nQ 24.75 34.625 20.71875 30.859375 \nQ 16.703125 27.09375 16.703125 20.515625 \nQ 16.703125 13.921875 20.71875 10.15625 \nQ 24.75 6.390625 31.78125 6.390625 \nQ 38.8125 6.390625 42.859375 10.171875 \nQ 46.921875 13.96875 46.921875 20.515625 \nQ 46.921875 27.09375 42.890625 30.859375 \nQ 38.875 34.625 31.78125 34.625 \nz\nM 21.921875 38.8125 \nQ 15.578125 40.375 12.03125 44.71875 \nQ 8.5 49.078125 8.5 55.328125 \nQ 8.5 64.0625 14.71875 69.140625 \nQ 20.953125 74.21875 31.78125 74.21875 \nQ 42.671875 74.21875 48.875 69.140625 \nQ 55.078125 64.0625 55.078125 55.328125 \nQ 55.078125 49.078125 51.53125 44.71875 \nQ 48 40.375 41.703125 38.8125 \nQ 48.828125 37.15625 52.796875 32.3125 \nQ 56.78125 27.484375 56.78125 20.515625 \nQ 56.78125 9.90625 50.3125 4.234375 \nQ 43.84375 -1.421875 31.78125 -1.421875 \nQ 19.734375 -1.421875 13.25 4.234375 \nQ 6.78125 9.90625 6.78125 20.515625 \nQ 6.78125 27.484375 10.78125 32.3125 \nQ 14.796875 37.15625 21.921875 38.8125 \nz\nM 18.3125 54.390625 \nQ 18.3125 48.734375 21.84375 45.5625 \nQ 25.390625 42.390625 31.78125 42.390625 \nQ 38.140625 42.390625 41.71875 45.5625 \nQ 45.3125 48.734375 45.3125 54.390625 \nQ 45.3125 60.0625 41.71875 63.234375 \nQ 38.140625 66.40625 31.78125 66.40625 \nQ 25.390625 66.40625 21.84375 63.234375 \nQ 18.3125 60.0625 18.3125 54.390625 \nz\n\" id=\"DejaVuSans-56\"/>\n       <path d=\"M 45.40625 27.984375 \nQ 45.40625 37.75 41.375 43.109375 \nQ 37.359375 48.484375 30.078125 48.484375 \nQ 22.859375 48.484375 18.828125 43.109375 \nQ 14.796875 37.75 14.796875 27.984375 \nQ 14.796875 18.265625 18.828125 12.890625 \nQ 22.859375 7.515625 30.078125 7.515625 \nQ 37.359375 7.515625 41.375 12.890625 \nQ 45.40625 18.265625 45.40625 27.984375 \nz\nM 54.390625 6.78125 \nQ 54.390625 -7.171875 48.1875 -13.984375 \nQ 42 -20.796875 29.203125 -20.796875 \nQ 24.46875 -20.796875 20.265625 -20.09375 \nQ 16.0625 -19.390625 12.109375 -17.921875 \nL 12.109375 -9.1875 \nQ 16.0625 -11.328125 19.921875 -12.34375 \nQ 23.78125 -13.375 27.78125 -13.375 \nQ 36.625 -13.375 41.015625 -8.765625 \nQ 45.40625 -4.15625 45.40625 5.171875 \nL 45.40625 9.625 \nQ 42.625 4.78125 38.28125 2.390625 \nQ 33.9375 0 27.875 0 \nQ 17.828125 0 11.671875 7.65625 \nQ 5.515625 15.328125 5.515625 27.984375 \nQ 5.515625 40.671875 11.671875 48.328125 \nQ 17.828125 56 27.875 56 \nQ 33.9375 56 38.28125 53.609375 \nQ 42.625 51.21875 45.40625 46.390625 \nL 45.40625 54.6875 \nL 54.390625 54.6875 \nz\n\" id=\"DejaVuSans-103\"/>\n      </defs>\n      <g transform=\"translate(296.718524 324.160312)rotate(-90)scale(0.1 -0.1)\">\n       <use xlink:href=\"#DejaVuSans-114\"/>\n       <use x=\"41.113281\" xlink:href=\"#DejaVuSans-97\"/>\n       <use x=\"102.392578\" xlink:href=\"#DejaVuSans-115\"/>\n       <use x=\"154.492188\" xlink:href=\"#DejaVuSans-112\"/>\n       <use x=\"217.96875\" xlink:href=\"#DejaVuSans-98\"/>\n       <use x=\"281.445312\" xlink:href=\"#DejaVuSans-101\"/>\n       <use x=\"342.96875\" xlink:href=\"#DejaVuSans-114\"/>\n       <use x=\"384.066406\" xlink:href=\"#DejaVuSans-114\"/>\n       <use x=\"425.179688\" xlink:href=\"#DejaVuSans-121\"/>\n       <use x=\"484.359375\" xlink:href=\"#DejaVuSans-32\"/>\n       <use x=\"516.146484\" xlink:href=\"#DejaVuSans-112\"/>\n       <use x=\"579.623047\" xlink:href=\"#DejaVuSans-105\"/>\n       <use x=\"607.40625\" xlink:href=\"#DejaVuSans-32\"/>\n       <use x=\"639.193359\" xlink:href=\"#DejaVuSans-52\"/>\n       <use x=\"702.816406\" xlink:href=\"#DejaVuSans-32\"/>\n       <use x=\"734.603516\" xlink:href=\"#DejaVuSans-56\"/>\n       <use x=\"798.226562\" xlink:href=\"#DejaVuSans-103\"/>\n       <use x=\"861.703125\" xlink:href=\"#DejaVuSans-98\"/>\n      </g>\n     </g>\n    </g>\n    <g id=\"xtick_7\">\n     <g id=\"line2d_7\">\n      <g>\n       <use style=\"stroke:#000000;stroke-width:0.8;\" x=\"334.296498\" xlink:href=\"#m6aff320af0\" y=\"224.64\"/>\n      </g>\n     </g>\n     <g id=\"text_7\">\n      <!-- pi4 -->\n      <g transform=\"translate(337.055873 247.129062)rotate(-90)scale(0.1 -0.1)\">\n       <use xlink:href=\"#DejaVuSans-112\"/>\n       <use x=\"63.476562\" xlink:href=\"#DejaVuSans-105\"/>\n       <use x=\"91.259766\" xlink:href=\"#DejaVuSans-52\"/>\n      </g>\n     </g>\n    </g>\n    <g id=\"xtick_8\">\n     <g id=\"line2d_8\">\n      <g>\n       <use style=\"stroke:#000000;stroke-width:0.8;\" x=\"374.633848\" xlink:href=\"#m6aff320af0\" y=\"224.64\"/>\n      </g>\n     </g>\n     <g id=\"text_8\">\n      <!-- r pi -->\n      <g transform=\"translate(377.393223 248.055625)rotate(-90)scale(0.1 -0.1)\">\n       <use xlink:href=\"#DejaVuSans-114\"/>\n       <use x=\"41.113281\" xlink:href=\"#DejaVuSans-32\"/>\n       <use x=\"72.900391\" xlink:href=\"#DejaVuSans-112\"/>\n       <use x=\"136.376953\" xlink:href=\"#DejaVuSans-105\"/>\n      </g>\n     </g>\n    </g>\n    <g id=\"text_9\">\n     <!-- Keyword -->\n     <defs>\n      <path d=\"M 9.8125 72.90625 \nL 19.671875 72.90625 \nL 19.671875 42.09375 \nL 52.390625 72.90625 \nL 65.09375 72.90625 \nL 28.90625 38.921875 \nL 67.671875 0 \nL 54.6875 0 \nL 19.671875 35.109375 \nL 19.671875 0 \nL 9.8125 0 \nz\n\" id=\"DejaVuSans-75\"/>\n      <path d=\"M 4.203125 54.6875 \nL 13.1875 54.6875 \nL 24.421875 12.015625 \nL 35.59375 54.6875 \nL 46.1875 54.6875 \nL 57.421875 12.015625 \nL 68.609375 54.6875 \nL 77.59375 54.6875 \nL 63.28125 0 \nL 52.6875 0 \nL 40.921875 44.828125 \nL 29.109375 0 \nL 18.5 0 \nz\n\" id=\"DejaVuSans-119\"/>\n      <path d=\"M 45.40625 46.390625 \nL 45.40625 75.984375 \nL 54.390625 75.984375 \nL 54.390625 0 \nL 45.40625 0 \nL 45.40625 8.203125 \nQ 42.578125 3.328125 38.25 0.953125 \nQ 33.9375 -1.421875 27.875 -1.421875 \nQ 17.96875 -1.421875 11.734375 6.484375 \nQ 5.515625 14.40625 5.515625 27.296875 \nQ 5.515625 40.1875 11.734375 48.09375 \nQ 17.96875 56 27.875 56 \nQ 33.9375 56 38.25 53.625 \nQ 42.578125 51.265625 45.40625 46.390625 \nz\nM 14.796875 27.296875 \nQ 14.796875 17.390625 18.875 11.75 \nQ 22.953125 6.109375 30.078125 6.109375 \nQ 37.203125 6.109375 41.296875 11.75 \nQ 45.40625 17.390625 45.40625 27.296875 \nQ 45.40625 37.203125 41.296875 42.84375 \nQ 37.203125 48.484375 30.078125 48.484375 \nQ 22.953125 48.484375 18.875 42.84375 \nQ 14.796875 37.203125 14.796875 27.296875 \nz\n\" id=\"DejaVuSans-100\"/>\n     </defs>\n     <g transform=\"translate(211.764844 335.75875)scale(0.1 -0.1)\">\n      <use xlink:href=\"#DejaVuSans-75\"/>\n      <use x=\"65.498047\" xlink:href=\"#DejaVuSans-101\"/>\n      <use x=\"127.021484\" xlink:href=\"#DejaVuSans-121\"/>\n      <use x=\"186.201172\" xlink:href=\"#DejaVuSans-119\"/>\n      <use x=\"267.988281\" xlink:href=\"#DejaVuSans-111\"/>\n      <use x=\"329.169922\" xlink:href=\"#DejaVuSans-114\"/>\n      <use x=\"370.267578\" xlink:href=\"#DejaVuSans-100\"/>\n     </g>\n    </g>\n   </g>\n   <g id=\"matplotlib.axis_2\">\n    <g id=\"ytick_1\">\n     <g id=\"line2d_9\">\n      <defs>\n       <path d=\"M 0 0 \nL -3.5 0 \n\" id=\"mb3c489f277\" style=\"stroke:#000000;stroke-width:0.8;\"/>\n      </defs>\n      <g>\n       <use style=\"stroke:#000000;stroke-width:0.8;\" x=\"66.053125\" xlink:href=\"#mb3c489f277\" y=\"224.64\"/>\n      </g>\n     </g>\n     <g id=\"text_10\">\n      <!-- 0 -->\n      <g transform=\"translate(52.690625 228.439219)scale(0.1 -0.1)\">\n       <use xlink:href=\"#DejaVuSans-48\"/>\n      </g>\n     </g>\n    </g>\n    <g id=\"ytick_2\">\n     <g id=\"line2d_10\">\n      <g>\n       <use style=\"stroke:#000000;stroke-width:0.8;\" x=\"66.053125\" xlink:href=\"#mb3c489f277\" y=\"183.222857\"/>\n      </g>\n     </g>\n     <g id=\"text_11\">\n      <!-- 100000 -->\n      <defs>\n       <path d=\"M 12.40625 8.296875 \nL 28.515625 8.296875 \nL 28.515625 63.921875 \nL 10.984375 60.40625 \nL 10.984375 69.390625 \nL 28.421875 72.90625 \nL 38.28125 72.90625 \nL 38.28125 8.296875 \nL 54.390625 8.296875 \nL 54.390625 0 \nL 12.40625 0 \nz\n\" id=\"DejaVuSans-49\"/>\n      </defs>\n      <g transform=\"translate(20.878125 187.022076)scale(0.1 -0.1)\">\n       <use xlink:href=\"#DejaVuSans-49\"/>\n       <use x=\"63.623047\" xlink:href=\"#DejaVuSans-48\"/>\n       <use x=\"127.246094\" xlink:href=\"#DejaVuSans-48\"/>\n       <use x=\"190.869141\" xlink:href=\"#DejaVuSans-48\"/>\n       <use x=\"254.492188\" xlink:href=\"#DejaVuSans-48\"/>\n       <use x=\"318.115234\" xlink:href=\"#DejaVuSans-48\"/>\n      </g>\n     </g>\n    </g>\n    <g id=\"ytick_3\">\n     <g id=\"line2d_11\">\n      <g>\n       <use style=\"stroke:#000000;stroke-width:0.8;\" x=\"66.053125\" xlink:href=\"#mb3c489f277\" y=\"141.805714\"/>\n      </g>\n     </g>\n     <g id=\"text_12\">\n      <!-- 200000 -->\n      <defs>\n       <path d=\"M 19.1875 8.296875 \nL 53.609375 8.296875 \nL 53.609375 0 \nL 7.328125 0 \nL 7.328125 8.296875 \nQ 12.9375 14.109375 22.625 23.890625 \nQ 32.328125 33.6875 34.8125 36.53125 \nQ 39.546875 41.84375 41.421875 45.53125 \nQ 43.3125 49.21875 43.3125 52.78125 \nQ 43.3125 58.59375 39.234375 62.25 \nQ 35.15625 65.921875 28.609375 65.921875 \nQ 23.96875 65.921875 18.8125 64.3125 \nQ 13.671875 62.703125 7.8125 59.421875 \nL 7.8125 69.390625 \nQ 13.765625 71.78125 18.9375 73 \nQ 24.125 74.21875 28.421875 74.21875 \nQ 39.75 74.21875 46.484375 68.546875 \nQ 53.21875 62.890625 53.21875 53.421875 \nQ 53.21875 48.921875 51.53125 44.890625 \nQ 49.859375 40.875 45.40625 35.40625 \nQ 44.1875 33.984375 37.640625 27.21875 \nQ 31.109375 20.453125 19.1875 8.296875 \nz\n\" id=\"DejaVuSans-50\"/>\n      </defs>\n      <g transform=\"translate(20.878125 145.604933)scale(0.1 -0.1)\">\n       <use xlink:href=\"#DejaVuSans-50\"/>\n       <use x=\"63.623047\" xlink:href=\"#DejaVuSans-48\"/>\n       <use x=\"127.246094\" xlink:href=\"#DejaVuSans-48\"/>\n       <use x=\"190.869141\" xlink:href=\"#DejaVuSans-48\"/>\n       <use x=\"254.492188\" xlink:href=\"#DejaVuSans-48\"/>\n       <use x=\"318.115234\" xlink:href=\"#DejaVuSans-48\"/>\n      </g>\n     </g>\n    </g>\n    <g id=\"ytick_4\">\n     <g id=\"line2d_12\">\n      <g>\n       <use style=\"stroke:#000000;stroke-width:0.8;\" x=\"66.053125\" xlink:href=\"#mb3c489f277\" y=\"100.388571\"/>\n      </g>\n     </g>\n     <g id=\"text_13\">\n      <!-- 300000 -->\n      <g transform=\"translate(20.878125 104.18779)scale(0.1 -0.1)\">\n       <use xlink:href=\"#DejaVuSans-51\"/>\n       <use x=\"63.623047\" xlink:href=\"#DejaVuSans-48\"/>\n       <use x=\"127.246094\" xlink:href=\"#DejaVuSans-48\"/>\n       <use x=\"190.869141\" xlink:href=\"#DejaVuSans-48\"/>\n       <use x=\"254.492188\" xlink:href=\"#DejaVuSans-48\"/>\n       <use x=\"318.115234\" xlink:href=\"#DejaVuSans-48\"/>\n      </g>\n     </g>\n    </g>\n    <g id=\"ytick_5\">\n     <g id=\"line2d_13\">\n      <g>\n       <use style=\"stroke:#000000;stroke-width:0.8;\" x=\"66.053125\" xlink:href=\"#mb3c489f277\" y=\"58.971429\"/>\n      </g>\n     </g>\n     <g id=\"text_14\">\n      <!-- 400000 -->\n      <g transform=\"translate(20.878125 62.770647)scale(0.1 -0.1)\">\n       <use xlink:href=\"#DejaVuSans-52\"/>\n       <use x=\"63.623047\" xlink:href=\"#DejaVuSans-48\"/>\n       <use x=\"127.246094\" xlink:href=\"#DejaVuSans-48\"/>\n       <use x=\"190.869141\" xlink:href=\"#DejaVuSans-48\"/>\n       <use x=\"254.492188\" xlink:href=\"#DejaVuSans-48\"/>\n       <use x=\"318.115234\" xlink:href=\"#DejaVuSans-48\"/>\n      </g>\n     </g>\n    </g>\n    <g id=\"ytick_6\">\n     <g id=\"line2d_14\">\n      <g>\n       <use style=\"stroke:#000000;stroke-width:0.8;\" x=\"66.053125\" xlink:href=\"#mb3c489f277\" y=\"17.554286\"/>\n      </g>\n     </g>\n     <g id=\"text_15\">\n      <!-- 500000 -->\n      <defs>\n       <path d=\"M 10.796875 72.90625 \nL 49.515625 72.90625 \nL 49.515625 64.59375 \nL 19.828125 64.59375 \nL 19.828125 46.734375 \nQ 21.96875 47.46875 24.109375 47.828125 \nQ 26.265625 48.1875 28.421875 48.1875 \nQ 40.625 48.1875 47.75 41.5 \nQ 54.890625 34.8125 54.890625 23.390625 \nQ 54.890625 11.625 47.5625 5.09375 \nQ 40.234375 -1.421875 26.90625 -1.421875 \nQ 22.3125 -1.421875 17.546875 -0.640625 \nQ 12.796875 0.140625 7.71875 1.703125 \nL 7.71875 11.625 \nQ 12.109375 9.234375 16.796875 8.0625 \nQ 21.484375 6.890625 26.703125 6.890625 \nQ 35.15625 6.890625 40.078125 11.328125 \nQ 45.015625 15.765625 45.015625 23.390625 \nQ 45.015625 31 40.078125 35.4375 \nQ 35.15625 39.890625 26.703125 39.890625 \nQ 22.75 39.890625 18.8125 39.015625 \nQ 14.890625 38.140625 10.796875 36.28125 \nz\n\" id=\"DejaVuSans-53\"/>\n      </defs>\n      <g transform=\"translate(20.878125 21.353504)scale(0.1 -0.1)\">\n       <use xlink:href=\"#DejaVuSans-53\"/>\n       <use x=\"63.623047\" xlink:href=\"#DejaVuSans-48\"/>\n       <use x=\"127.246094\" xlink:href=\"#DejaVuSans-48\"/>\n       <use x=\"190.869141\" xlink:href=\"#DejaVuSans-48\"/>\n       <use x=\"254.492188\" xlink:href=\"#DejaVuSans-48\"/>\n       <use x=\"318.115234\" xlink:href=\"#DejaVuSans-48\"/>\n      </g>\n     </g>\n    </g>\n    <g id=\"text_16\">\n     <!-- Avg. monthly searches -->\n     <defs>\n      <path d=\"M 34.1875 63.1875 \nL 20.796875 26.90625 \nL 47.609375 26.90625 \nz\nM 28.609375 72.90625 \nL 39.796875 72.90625 \nL 67.578125 0 \nL 57.328125 0 \nL 50.6875 18.703125 \nL 17.828125 18.703125 \nL 11.1875 0 \nL 0.78125 0 \nz\n\" id=\"DejaVuSans-65\"/>\n      <path d=\"M 2.984375 54.6875 \nL 12.5 54.6875 \nL 29.59375 8.796875 \nL 46.6875 54.6875 \nL 56.203125 54.6875 \nL 35.6875 0 \nL 23.484375 0 \nz\n\" id=\"DejaVuSans-118\"/>\n      <path d=\"M 10.6875 12.40625 \nL 21 12.40625 \nL 21 0 \nL 10.6875 0 \nz\n\" id=\"DejaVuSans-46\"/>\n      <path d=\"M 52 44.1875 \nQ 55.375 50.25 60.0625 53.125 \nQ 64.75 56 71.09375 56 \nQ 79.640625 56 84.28125 50.015625 \nQ 88.921875 44.046875 88.921875 33.015625 \nL 88.921875 0 \nL 79.890625 0 \nL 79.890625 32.71875 \nQ 79.890625 40.578125 77.09375 44.375 \nQ 74.3125 48.1875 68.609375 48.1875 \nQ 61.625 48.1875 57.5625 43.546875 \nQ 53.515625 38.921875 53.515625 30.90625 \nL 53.515625 0 \nL 44.484375 0 \nL 44.484375 32.71875 \nQ 44.484375 40.625 41.703125 44.40625 \nQ 38.921875 48.1875 33.109375 48.1875 \nQ 26.21875 48.1875 22.15625 43.53125 \nQ 18.109375 38.875 18.109375 30.90625 \nL 18.109375 0 \nL 9.078125 0 \nL 9.078125 54.6875 \nL 18.109375 54.6875 \nL 18.109375 46.1875 \nQ 21.1875 51.21875 25.484375 53.609375 \nQ 29.78125 56 35.6875 56 \nQ 41.65625 56 45.828125 52.96875 \nQ 50 49.953125 52 44.1875 \nz\n\" id=\"DejaVuSans-109\"/>\n      <path d=\"M 54.890625 33.015625 \nL 54.890625 0 \nL 45.90625 0 \nL 45.90625 32.71875 \nQ 45.90625 40.484375 42.875 44.328125 \nQ 39.84375 48.1875 33.796875 48.1875 \nQ 26.515625 48.1875 22.3125 43.546875 \nQ 18.109375 38.921875 18.109375 30.90625 \nL 18.109375 0 \nL 9.078125 0 \nL 9.078125 54.6875 \nL 18.109375 54.6875 \nL 18.109375 46.1875 \nQ 21.34375 51.125 25.703125 53.5625 \nQ 30.078125 56 35.796875 56 \nQ 45.21875 56 50.046875 50.171875 \nQ 54.890625 44.34375 54.890625 33.015625 \nz\n\" id=\"DejaVuSans-110\"/>\n      <path d=\"M 18.3125 70.21875 \nL 18.3125 54.6875 \nL 36.8125 54.6875 \nL 36.8125 47.703125 \nL 18.3125 47.703125 \nL 18.3125 18.015625 \nQ 18.3125 11.328125 20.140625 9.421875 \nQ 21.96875 7.515625 27.59375 7.515625 \nL 36.8125 7.515625 \nL 36.8125 0 \nL 27.59375 0 \nQ 17.1875 0 13.234375 3.875 \nQ 9.28125 7.765625 9.28125 18.015625 \nL 9.28125 47.703125 \nL 2.6875 47.703125 \nL 2.6875 54.6875 \nL 9.28125 54.6875 \nL 9.28125 70.21875 \nz\n\" id=\"DejaVuSans-116\"/>\n      <path d=\"M 54.890625 33.015625 \nL 54.890625 0 \nL 45.90625 0 \nL 45.90625 32.71875 \nQ 45.90625 40.484375 42.875 44.328125 \nQ 39.84375 48.1875 33.796875 48.1875 \nQ 26.515625 48.1875 22.3125 43.546875 \nQ 18.109375 38.921875 18.109375 30.90625 \nL 18.109375 0 \nL 9.078125 0 \nL 9.078125 75.984375 \nL 18.109375 75.984375 \nL 18.109375 46.1875 \nQ 21.34375 51.125 25.703125 53.5625 \nQ 30.078125 56 35.796875 56 \nQ 45.21875 56 50.046875 50.171875 \nQ 54.890625 44.34375 54.890625 33.015625 \nz\n\" id=\"DejaVuSans-104\"/>\n      <path d=\"M 9.421875 75.984375 \nL 18.40625 75.984375 \nL 18.40625 0 \nL 9.421875 0 \nz\n\" id=\"DejaVuSans-108\"/>\n      <path d=\"M 48.78125 52.59375 \nL 48.78125 44.1875 \nQ 44.96875 46.296875 41.140625 47.34375 \nQ 37.3125 48.390625 33.40625 48.390625 \nQ 24.65625 48.390625 19.8125 42.84375 \nQ 14.984375 37.3125 14.984375 27.296875 \nQ 14.984375 17.28125 19.8125 11.734375 \nQ 24.65625 6.203125 33.40625 6.203125 \nQ 37.3125 6.203125 41.140625 7.25 \nQ 44.96875 8.296875 48.78125 10.40625 \nL 48.78125 2.09375 \nQ 45.015625 0.34375 40.984375 -0.53125 \nQ 36.96875 -1.421875 32.421875 -1.421875 \nQ 20.0625 -1.421875 12.78125 6.34375 \nQ 5.515625 14.109375 5.515625 27.296875 \nQ 5.515625 40.671875 12.859375 48.328125 \nQ 20.21875 56 33.015625 56 \nQ 37.15625 56 41.109375 55.140625 \nQ 45.0625 54.296875 48.78125 52.59375 \nz\n\" id=\"DejaVuSans-99\"/>\n     </defs>\n     <g transform=\"translate(14.798438 173.211406)rotate(-90)scale(0.1 -0.1)\">\n      <use xlink:href=\"#DejaVuSans-65\"/>\n      <use x=\"68.330078\" xlink:href=\"#DejaVuSans-118\"/>\n      <use x=\"127.509766\" xlink:href=\"#DejaVuSans-103\"/>\n      <use x=\"190.986328\" xlink:href=\"#DejaVuSans-46\"/>\n      <use x=\"222.773438\" xlink:href=\"#DejaVuSans-32\"/>\n      <use x=\"254.560547\" xlink:href=\"#DejaVuSans-109\"/>\n      <use x=\"351.972656\" xlink:href=\"#DejaVuSans-111\"/>\n      <use x=\"413.154297\" xlink:href=\"#DejaVuSans-110\"/>\n      <use x=\"476.533203\" xlink:href=\"#DejaVuSans-116\"/>\n      <use x=\"515.742188\" xlink:href=\"#DejaVuSans-104\"/>\n      <use x=\"579.121094\" xlink:href=\"#DejaVuSans-108\"/>\n      <use x=\"606.904297\" xlink:href=\"#DejaVuSans-121\"/>\n      <use x=\"666.083984\" xlink:href=\"#DejaVuSans-32\"/>\n      <use x=\"697.871094\" xlink:href=\"#DejaVuSans-115\"/>\n      <use x=\"749.970703\" xlink:href=\"#DejaVuSans-101\"/>\n      <use x=\"811.494141\" xlink:href=\"#DejaVuSans-97\"/>\n      <use x=\"872.773438\" xlink:href=\"#DejaVuSans-114\"/>\n      <use x=\"913.855469\" xlink:href=\"#DejaVuSans-99\"/>\n      <use x=\"968.835938\" xlink:href=\"#DejaVuSans-104\"/>\n      <use x=\"1032.214844\" xlink:href=\"#DejaVuSans-101\"/>\n      <use x=\"1093.738281\" xlink:href=\"#DejaVuSans-115\"/>\n     </g>\n    </g>\n   </g>\n   <g id=\"patch_11\">\n    <path d=\"M 66.053125 224.64 \nL 66.053125 7.2 \n\" style=\"fill:none;stroke:#000000;stroke-linecap:square;stroke-linejoin:miter;stroke-width:0.8;\"/>\n   </g>\n   <g id=\"patch_12\">\n    <path d=\"M 400.853125 224.64 \nL 400.853125 7.2 \n\" style=\"fill:none;stroke:#000000;stroke-linecap:square;stroke-linejoin:miter;stroke-width:0.8;\"/>\n   </g>\n   <g id=\"patch_13\">\n    <path d=\"M 66.053125 224.64 \nL 400.853125 224.64 \n\" style=\"fill:none;stroke:#000000;stroke-linecap:square;stroke-linejoin:miter;stroke-width:0.8;\"/>\n   </g>\n   <g id=\"patch_14\">\n    <path d=\"M 66.053125 7.2 \nL 400.853125 7.2 \n\" style=\"fill:none;stroke:#000000;stroke-linecap:square;stroke-linejoin:miter;stroke-width:0.8;\"/>\n   </g>\n   <g id=\"legend_1\">\n    <g id=\"patch_15\">\n     <path d=\"M 407.853125 29.878125 \nL 554.435938 29.878125 \nQ 556.435938 29.878125 556.435938 27.878125 \nL 556.435938 14.2 \nQ 556.435938 12.2 554.435938 12.2 \nL 407.853125 12.2 \nQ 405.853125 12.2 405.853125 14.2 \nL 405.853125 27.878125 \nQ 405.853125 29.878125 407.853125 29.878125 \nz\n\" style=\"fill:#ffffff;opacity:0.8;stroke:#cccccc;stroke-linejoin:miter;\"/>\n    </g>\n    <g id=\"patch_16\">\n     <path d=\"M 409.853125 23.798438 \nL 429.853125 23.798438 \nL 429.853125 16.798438 \nL 409.853125 16.798438 \nz\n\" style=\"fill:#1f77b4;\"/>\n    </g>\n    <g id=\"text_17\">\n     <!-- Avg. monthly searches -->\n     <g transform=\"translate(437.853125 23.798438)scale(0.1 -0.1)\">\n      <use xlink:href=\"#DejaVuSans-65\"/>\n      <use x=\"68.330078\" xlink:href=\"#DejaVuSans-118\"/>\n      <use x=\"127.509766\" xlink:href=\"#DejaVuSans-103\"/>\n      <use x=\"190.986328\" xlink:href=\"#DejaVuSans-46\"/>\n      <use x=\"222.773438\" xlink:href=\"#DejaVuSans-32\"/>\n      <use x=\"254.560547\" xlink:href=\"#DejaVuSans-109\"/>\n      <use x=\"351.972656\" xlink:href=\"#DejaVuSans-111\"/>\n      <use x=\"413.154297\" xlink:href=\"#DejaVuSans-110\"/>\n      <use x=\"476.533203\" xlink:href=\"#DejaVuSans-116\"/>\n      <use x=\"515.742188\" xlink:href=\"#DejaVuSans-104\"/>\n      <use x=\"579.121094\" xlink:href=\"#DejaVuSans-108\"/>\n      <use x=\"606.904297\" xlink:href=\"#DejaVuSans-121\"/>\n      <use x=\"666.083984\" xlink:href=\"#DejaVuSans-32\"/>\n      <use x=\"697.871094\" xlink:href=\"#DejaVuSans-115\"/>\n      <use x=\"749.970703\" xlink:href=\"#DejaVuSans-101\"/>\n      <use x=\"811.494141\" xlink:href=\"#DejaVuSans-97\"/>\n      <use x=\"872.773438\" xlink:href=\"#DejaVuSans-114\"/>\n      <use x=\"913.855469\" xlink:href=\"#DejaVuSans-99\"/>\n      <use x=\"968.835938\" xlink:href=\"#DejaVuSans-104\"/>\n      <use x=\"1032.214844\" xlink:href=\"#DejaVuSans-101\"/>\n      <use x=\"1093.738281\" xlink:href=\"#DejaVuSans-115\"/>\n     </g>\n    </g>\n   </g>\n  </g>\n </g>\n <defs>\n  <clipPath id=\"p9ae698b2f1\">\n   <rect height=\"217.44\" width=\"334.8\" x=\"66.053125\" y=\"7.2\"/>\n  </clipPath>\n </defs>\n</svg>\n",
      "image/png": "[encoded data removed]"
     },
     "metadata": {
      "needs_background": "light"
     }
    }
   ],
   "source": [
    "plt.figure(figsize=(80,80))\n",
    "top_keywords.plot(x=\"Keyword\", y=[\"Avg. monthly searches\"], kind=\"bar\",width=.8)\n",
    "plt.xlabel(\"Keyword\"),plt.ylabel('Avg. monthly searches'),plt.title(\"\")\n",
    "lgd = plt.legend(loc='upper left', bbox_to_anchor=(1,1))"
   ]
  },
  {
   "cell_type": "markdown",
   "metadata": {},
   "source": [
    "#### Now we can go ahead and take the keywords from the data frame and put them into an array, then we will make a new file and \n",
    "\n",
    "#### save the array of keywords (strings) into a simple .txt file to use for website."
   ]
  },
  {
   "cell_type": "code",
   "execution_count": 49,
   "metadata": {},
   "outputs": [],
   "source": [
    "keywords = np.array(top_keywords['Keyword']).reshape(-1,1)"
   ]
  },
  {
   "cell_type": "code",
   "execution_count": 35,
   "metadata": {},
   "outputs": [],
   "source": [
    "keywords = [element for sublst in keywords for element in sublst]"
   ]
  },
  {
   "cell_type": "code",
   "execution_count": 36,
   "metadata": {},
   "outputs": [
    {
     "output_type": "execute_result",
     "data": {
      "text/plain": [
       "['raspberry pi',\n",
       " 'raspberry pi 4',\n",
       " 'raspberry pi 400',\n",
       " 'raspberry pi 3',\n",
       " 'raspberry pi zero',\n",
       " 'raspberry pi 4 8gb',\n",
       " 'pi4',\n",
       " 'r pi']"
      ]
     },
     "metadata": {},
     "execution_count": 36
    }
   ],
   "source": [
    "keywords"
   ]
  },
  {
   "cell_type": "code",
   "execution_count": 37,
   "metadata": {},
   "outputs": [],
   "source": [
    "# get the keywords into a txt file\n",
    "myText = open(r'/Users/waelivie/Desktop/armada-seo-research/raspberry-pi.txt','w')\n",
    "for i in keywords:\n",
    "    myText.write(i + '\\n')\n",
    "\n",
    "myText.close()"
   ]
  },
  {
   "cell_type": "code",
   "execution_count": 38,
   "metadata": {},
   "outputs": [
    {
     "output_type": "stream",
     "name": "stdout",
     "text": [
      "['forging-policy-script.md', 'pab-client-api.md', 'genesis-block.md', 'lovelace.md', 'plutus-tx.md', 'incentive.md', 'blockchain.md', 'airdrop.md', 'oracle-pool.md', 'script-output.md', 'network.md', 'ipfs.md', 'endpoint.md', 'key-pair.md', 'forging.md', 'atomic-swap.md', 'decentralized.md', 'yoroi.md', 'proof-of-work.md', 'cardano.md', 'utxo.md', 'iog.md', 'adrestia.md', 'consensus.md', 'epoch.md', 'blockchain-explorer.md', 'plutus-application-backend.md', 'produced-blocks.md', 'minting.md', 'native-token.md', 'digital-asset.md', 'mainnet.md', 'stake-pool-operator--spo.md', 'on-chain-code.md', 'active-endpoint.md', 'cardano-node.md', 'utility-token.md', 'cfd.md', 'ASIC.md', 'cardano-cli.md', 'schema.md', 'de-fi.md', 'marlowe.md', 'adalite.md', 'smart-contract.md', 'block.md', 'faucet.md', 'oracle.md', 'stablecoin.md', 'fake-stake.md', 'interoperability.md', 'peer-discovery.md', 'reward.md', 'plutus-sdk.md', 'script.md', 'currency.md', 'redeemer.md', 'plutus-platform.md', 'security-token.md', 'plutus-application.md', 'peer-to-peer.md', 'satoshi.md', 'metadata.md', 'shelly.md', 'token.md', 'double-spending-problem.md', 'datum.md', 'eutxo.md', 'trusted-peer.md', 'contract-executable.md', 'alice-bob.md', 'securitization.md', 'plutus-ir.md', 'slot-leader.md', 'address.md', 'proof-of-stake--po-s.md', 'whale.md', 'ada.md', 'cost-per-epoch.md', 'saturation.md', 'off-chain-code.md', 'obft.md', 'fifty-one-percent-attack.md', 'ACTUS.md', 'hard-fork.md', 'staking.md', 'stake-pool-performance.md', 'plutus.md', 'basho.md', 'validator-script.md', 'testnet.md', 'stake-pool.md', 'sybil-attack.md', 'hydra.md', 'slot.md', 'tokenization.md', 'dapp.md', 'zero-knowledge-proof.md', 'minting-transaction.md', 'ledger.md', 'fee.md', 'validation-context.md', 'byron.md', 'goguen.md', 'stake-pool-profit-margin.md', 'live-stake.md', 'fungible-token-asset.md', 'daedalus.md', 'delegate.md', 'ouroboros.md', 'voltaire.md', 'plutus-core.md', 'forging-context.md', 'asset-group.md', 'token-minting.md', 'nft.md', 'multisig.md', 'chain.md', 'bft.md', 'altcoins.md', 'tps.md', 'multi-asset.md', 'fork.md', 'protocol.md', 'contract-application.md', 'pledge.md', 'rewards-wallet.md', 'balance-wallet.md']\n"
     ]
    }
   ],
   "source": [
    "import os\n",
    "my_files = [x for x in os.listdir('tmp/') if x.endswith(\".md\")]\n",
    "print(my_files)"
   ]
  },
  {
   "cell_type": "code",
   "execution_count": 42,
   "metadata": {},
   "outputs": [
    {
     "output_type": "stream",
     "name": "stdout",
     "text": [
      "['forging-policy-script', 'pab-client-api', 'genesis-block', 'lovelace', 'plutus-tx', 'incentive', 'blockchain', 'airdrop', 'oracle-pool', 'script-output', 'network', 'ipfs', 'endpoint', 'key-pair', 'forging', 'atomic-swap', 'decentralized', 'yoroi', 'proof-of-work', 'cardano', 'utxo', 'iog', 'adrestia', 'consensus', 'epoch', 'blockchain-explorer', 'plutus-application-backend', 'produced-blocks', 'minting', 'native-token', 'digital-asset', 'mainnet', 'stake-pool-operator--spo', 'on-chain-code', 'active-endpoint', 'cardano-node', 'utility-token', 'cfd', 'ASIC', 'cardano-cli', 'schema', 'de-fi', 'marlowe', 'adalite', 'smart-contract', 'block', 'faucet', 'oracle', 'stablecoin', 'fake-stake', 'interoperability', 'peer-discovery', 'reward', 'plutus-sdk', 'script', 'currency', 'redeemer', 'plutus-platform', 'security-token', 'plutus-application', 'peer-to-peer', 'satoshi', 'metadata', 'shelly', 'token', 'double-spending-problem', 'datum', 'eutxo', 'trusted-peer', 'contract-executable', 'alice-bob', 'securitization', 'plutus-ir', 'slot-leader', 'address', 'proof-of-stake--po-s', 'whale', 'ada', 'cost-per-epoch', 'saturation', 'off-chain-code', 'obft', 'fifty-one-percent-attack', 'ACTUS', 'hard-fork', 'staking', 'stake-pool-performance', 'plutus', 'basho', 'validator-script', 'testnet', 'stake-pool', 'sybil-attack', 'hydra', 'slot', 'tokenization', 'dapp', 'zero-knowledge-proof', 'minting-transaction', 'ledger', 'fee', 'validation-context', 'byron', 'goguen', 'stake-pool-profit-margin', 'live-stake', 'fungible-token-asset', 'daedalus', 'delegate', 'ouroboros', 'voltaire', 'plutus-core', 'forging-context', 'asset-group', 'token-minting', 'nft', 'multisig', 'chain', 'bft', 'altcoins', 'tps', 'multi-asset', 'fork', 'protocol', 'contract-application', 'pledge', 'rewards-wallet', 'balance-wallet']\n"
     ]
    }
   ],
   "source": [
    "import re\n",
    "list_filenames = my_files \n",
    "pattern = r'.md'\n",
    "# Replace all occurrences of character s with an empty string\n",
    "mod_string = [re.sub(pattern, '',x) for x in my_files]\n",
    "print(mod_string)"
   ]
  },
  {
   "cell_type": "code",
   "execution_count": 48,
   "metadata": {},
   "outputs": [],
   "source": [
    "# sort the list alphabetically\n",
    "mod_string.sort()\n",
    "\n",
    "\n",
    "# Save the list into a txt file\n",
    "myText = open(r'/Users/waelivie/Documents/GitHub/armada-seo-research/terms.txt','w')\n",
    "for i in mod_string:\n",
    "    myText.write(i + '\\n')\n",
    "\n",
    "myText.close()"
   ]
  }
 ],
 "metadata": {
  "kernelspec": {
   "name": "python3",
   "display_name": "Python 3.7.4 64-bit ('base': conda)"
  },
  "language_info": {
   "codemirror_mode": {
    "name": "ipython",
    "version": 3
   },
   "file_extension": ".py",
   "mimetype": "text/x-python",
   "name": "python",
   "nbconvert_exporter": "python",
   "pygments_lexer": "ipython3",
   "version": "3.7.4"
  },
  "interpreter": {
   "hash": "344443636c3027c5042750c9c609acdda283a9c43681b128a8c1053e7ad2aa7d"
  }
 },
 "nbformat": 4,
 "nbformat_minor": 2
}