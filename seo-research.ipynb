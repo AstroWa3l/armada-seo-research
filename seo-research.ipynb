{
 "metadata": {
  "language_info": {
   "codemirror_mode": {
    "name": "ipython",
    "version": 3
   },
   "file_extension": ".py",
   "mimetype": "text/x-python",
   "name": "python",
   "nbconvert_exporter": "python",
   "pygments_lexer": "ipython3",
   "version": "3.7.4"
  },
  "orig_nbformat": 4,
  "kernelspec": {
   "name": "python3",
   "display_name": "Python 3.7.4 64-bit ('base': conda)"
  },
  "interpreter": {
   "hash": "344443636c3027c5042750c9c609acdda283a9c43681b128a8c1053e7ad2aa7d"
  }
 },
 "nbformat": 4,
 "nbformat_minor": 2,
 "cells": [
  {
   "source": [
    "# SEO Keyword Research Analysis"
   ],
   "cell_type": "markdown",
   "metadata": {}
  },
  {
   "source": [
    "## Let's do some basic analysis of keywords related to our new Armada Alliance website\n",
    "\n",
    "\n",
    "1. First we need to import the modules needed to build our db and run analysis\n",
    "2. import the csv file with the keywords given by the google keyword planner\n",
    "3. build a Pandas db\n",
    "4. Analyze"
   ],
   "cell_type": "markdown",
   "metadata": {}
  },
  {
   "cell_type": "code",
   "execution_count": 41,
   "metadata": {},
   "outputs": [],
   "source": [
    "#Importing packages\n",
    "import os\n",
    "import math as m\n",
    "import pandas as pd\n",
    "import matplotlib.pyplot as plt\n",
    "import numpy as np\n",
    "import seaborn as sns\n",
    "from sklearn.preprocessing import StandardScaler\n",
    "from sklearn.preprocessing import MinMaxScaler\n",
    "from sklearn.cluster import KMeans\n",
    "from sklearn.model_selection import train_test_split \n",
    "from sklearn.linear_model import LinearRegression\n",
    "from sklearn import metrics\n",
    "\n",
    "pd.options.mode.chained_assignment = None  # default='warn'\n",
    "\n",
    "\n",
    "pd.options.display.max_columns = 70\n",
    "pd.options.display.max_rows = 99"
   ]
  },
  {
   "cell_type": "code",
   "execution_count": 42,
   "metadata": {},
   "outputs": [],
   "source": [
    "df = pd.read_excel('seo_terms_batch1.xlsx', sheet_name='Keyword Stats 2021-06-22 at 11_')"
   ]
  },
  {
   "cell_type": "code",
   "execution_count": 43,
   "metadata": {},
   "outputs": [
    {
     "output_type": "execute_result",
     "data": {
      "text/plain": [
       "3781"
      ]
     },
     "metadata": {},
     "execution_count": 43
    }
   ],
   "source": [
    "df.shape[0]"
   ]
  },
  {
   "cell_type": "code",
   "execution_count": 50,
   "metadata": {},
   "outputs": [
    {
     "output_type": "execute_result",
     "data": {
      "text/plain": [
       "Competition                            High  Low  Medium  Unknown\n",
       "Keyword         Avg. monthly searches                            \n",
       "1 ada           50.0                      0    1       0        0\n",
       "100x coin price 500.0                     0    1       0        0\n",
       "1011a019        50.0                      1    0       0        0\n",
       "1011a169        50.0                      1    0       0        0\n",
       "2010 ada        500.0                     0    1       0        0\n",
       "...                                     ...  ...     ...      ...\n",
       "zbg safemoon    5000.0                    0    1       0        0\n",
       "zcoin           5000.0                    0    1       0        0\n",
       "zcoin price     500.0                     0    1       0        0\n",
       "zen crypto      500.0                     0    1       0        0\n",
       "zep crypto      5000.0                    0    1       0        0\n",
       "\n",
       "[3777 rows x 4 columns]"
      ],
      "text/html": "<div>\n<style scoped>\n    .dataframe tbody tr th:only-of-type {\n        vertical-align: middle;\n    }\n\n    .dataframe tbody tr th {\n        vertical-align: top;\n    }\n\n    .dataframe thead th {\n        text-align: right;\n    }\n</style>\n<table border=\"1\" class=\"dataframe\">\n  <thead>\n    <tr style=\"text-align: right;\">\n      <th></th>\n      <th>Competition</th>\n      <th>High</th>\n      <th>Low</th>\n      <th>Medium</th>\n      <th>Unknown</th>\n    </tr>\n    <tr>\n      <th>Keyword</th>\n      <th>Avg. monthly searches</th>\n      <th></th>\n      <th></th>\n      <th></th>\n      <th></th>\n    </tr>\n  </thead>\n  <tbody>\n    <tr>\n      <td>1 ada</td>\n      <td>50.0</td>\n      <td>0</td>\n      <td>1</td>\n      <td>0</td>\n      <td>0</td>\n    </tr>\n    <tr>\n      <td>100x coin price</td>\n      <td>500.0</td>\n      <td>0</td>\n      <td>1</td>\n      <td>0</td>\n      <td>0</td>\n    </tr>\n    <tr>\n      <td>1011a019</td>\n      <td>50.0</td>\n      <td>1</td>\n      <td>0</td>\n      <td>0</td>\n      <td>0</td>\n    </tr>\n    <tr>\n      <td>1011a169</td>\n      <td>50.0</td>\n      <td>1</td>\n      <td>0</td>\n      <td>0</td>\n      <td>0</td>\n    </tr>\n    <tr>\n      <td>2010 ada</td>\n      <td>500.0</td>\n      <td>0</td>\n      <td>1</td>\n      <td>0</td>\n      <td>0</td>\n    </tr>\n    <tr>\n      <td>...</td>\n      <td>...</td>\n      <td>...</td>\n      <td>...</td>\n      <td>...</td>\n      <td>...</td>\n    </tr>\n    <tr>\n      <td>zbg safemoon</td>\n      <td>5000.0</td>\n      <td>0</td>\n      <td>1</td>\n      <td>0</td>\n      <td>0</td>\n    </tr>\n    <tr>\n      <td>zcoin</td>\n      <td>5000.0</td>\n      <td>0</td>\n      <td>1</td>\n      <td>0</td>\n      <td>0</td>\n    </tr>\n    <tr>\n      <td>zcoin price</td>\n      <td>500.0</td>\n      <td>0</td>\n      <td>1</td>\n      <td>0</td>\n      <td>0</td>\n    </tr>\n    <tr>\n      <td>zen crypto</td>\n      <td>500.0</td>\n      <td>0</td>\n      <td>1</td>\n      <td>0</td>\n      <td>0</td>\n    </tr>\n    <tr>\n      <td>zep crypto</td>\n      <td>5000.0</td>\n      <td>0</td>\n      <td>1</td>\n      <td>0</td>\n      <td>0</td>\n    </tr>\n  </tbody>\n</table>\n<p>3777 rows × 4 columns</p>\n</div>"
     },
     "metadata": {},
     "execution_count": 50
    }
   ],
   "source": [
    "df1 = df.groupby(['Keyword', 'Avg. monthly searches','Competition']).size().unstack(fill_value=0)\n",
    "df1"
   ]
  },
  {
   "cell_type": "code",
   "execution_count": 55,
   "metadata": {},
   "outputs": [],
   "source": [
    "aboveEqual_five_thousand = df.loc[df['Avg. monthly searches'] >= 5000]\n",
    "aboveEqual_fifty_thousand = df.loc[df['Avg. monthly searches'] >= 50000]\n",
    "aboveEqual_fiveHundred_thousand = df.loc[df['Avg. monthly searches'] >= 500000]"
   ]
  },
  {
   "cell_type": "code",
   "execution_count": 56,
   "metadata": {},
   "outputs": [
    {
     "output_type": "execute_result",
     "data": {
      "text/plain": [
       "839"
      ]
     },
     "metadata": {},
     "execution_count": 56
    }
   ],
   "source": [
    "num_rows5k = aboveEqual_five_thousand.shape[0]\n",
    "num_rows5k"
   ]
  },
  {
   "cell_type": "code",
   "execution_count": 57,
   "metadata": {},
   "outputs": [
    {
     "output_type": "execute_result",
     "data": {
      "text/plain": [
       "110"
      ]
     },
     "metadata": {},
     "execution_count": 57
    }
   ],
   "source": [
    "num_rows50k = aboveEqual_fifty_thousand.shape[0]\n",
    "num_rows50k"
   ]
  },
  {
   "cell_type": "code",
   "execution_count": 58,
   "metadata": {},
   "outputs": [
    {
     "output_type": "execute_result",
     "data": {
      "text/plain": [
       "11"
      ]
     },
     "metadata": {},
     "execution_count": 58
    }
   ],
   "source": [
    "num_rows500k = aboveEqual_fiveHundred_thousand.shape[0]\n",
    "num_rows500k"
   ]
  },
  {
   "cell_type": "code",
   "execution_count": 59,
   "metadata": {},
   "outputs": [
    {
     "output_type": "execute_result",
     "data": {
      "text/plain": [
       "                Keyword Currency  Avg. monthly searches Competition  \\\n",
       "1                   ada      USD               500000.0         Low   \n",
       "2               address      USD               500000.0         Low   \n",
       "3        cryptocurrency      USD               500000.0         Low   \n",
       "4                crypto      USD               500000.0         Low   \n",
       "5            binance us      USD               500000.0         Low   \n",
       "..                  ...      ...                    ...         ...   \n",
       "116        coins market      USD                50000.0         Low   \n",
       "117  turning on airdrop      USD                50000.0         Low   \n",
       "118       asics outlets      USD                50000.0        High   \n",
       "119      apple airdrops      USD               500000.0        High   \n",
       "120         airdrop how      USD                50000.0         Low   \n",
       "\n",
       "     Competition (indexed value)  Top of page bid (low range)  \\\n",
       "1                           19.0                         0.86   \n",
       "2                            4.0                         0.23   \n",
       "3                           30.0                         1.65   \n",
       "4                           24.0                         1.80   \n",
       "5                            7.0                         3.32   \n",
       "..                           ...                          ...   \n",
       "116                          3.0                         2.05   \n",
       "117                          0.0                          NaN   \n",
       "118                        100.0                         0.48   \n",
       "119                        100.0                         0.35   \n",
       "120                          0.0                         0.74   \n",
       "\n",
       "     Top of page bid (high range)  Ad impression share  \\\n",
       "1                            5.89                  NaN   \n",
       "2                            0.75                  NaN   \n",
       "3                           10.17                  NaN   \n",
       "4                            9.93                  NaN   \n",
       "5                           21.37                  NaN   \n",
       "..                            ...                  ...   \n",
       "116                         14.28                  NaN   \n",
       "117                           NaN                  NaN   \n",
       "118                          0.74                  NaN   \n",
       "119                          0.98                  NaN   \n",
       "120                          2.50                  NaN   \n",
       "\n",
       "     Organic impression share  Organic average position  In account? In plan?  \\\n",
       "1                         NaN                       NaN          NaN      NaN   \n",
       "2                         NaN                       NaN          NaN      NaN   \n",
       "3                         NaN                       NaN          NaN      NaN   \n",
       "4                         NaN                       NaN          NaN      NaN   \n",
       "5                         NaN                       NaN          NaN      NaN   \n",
       "..                        ...                       ...          ...      ...   \n",
       "116                       NaN                       NaN          NaN      NaN   \n",
       "117                       NaN                       NaN          NaN      NaN   \n",
       "118                       NaN                       NaN          NaN      NaN   \n",
       "119                       NaN                       NaN          NaN      NaN   \n",
       "120                       NaN                       NaN          NaN      NaN   \n",
       "\n",
       "     Searches: Jun 2020  Searches: Jul 2020  Searches: Aug 2020  \\\n",
       "1                   NaN                 NaN                 NaN   \n",
       "2                   NaN                 NaN                 NaN   \n",
       "3                   NaN                 NaN                 NaN   \n",
       "4                   NaN                 NaN                 NaN   \n",
       "5                   NaN                 NaN                 NaN   \n",
       "..                  ...                 ...                 ...   \n",
       "116                 NaN                 NaN                 NaN   \n",
       "117                 NaN                 NaN                 NaN   \n",
       "118                 NaN                 NaN                 NaN   \n",
       "119                 NaN                 NaN                 NaN   \n",
       "120                 NaN                 NaN                 NaN   \n",
       "\n",
       "     Searches: Sep 2020  Searches: Oct 2020  Searches: Nov 2020  \\\n",
       "1                   NaN                 NaN                 NaN   \n",
       "2                   NaN                 NaN                 NaN   \n",
       "3                   NaN                 NaN                 NaN   \n",
       "4                   NaN                 NaN                 NaN   \n",
       "5                   NaN                 NaN                 NaN   \n",
       "..                  ...                 ...                 ...   \n",
       "116                 NaN                 NaN                 NaN   \n",
       "117                 NaN                 NaN                 NaN   \n",
       "118                 NaN                 NaN                 NaN   \n",
       "119                 NaN                 NaN                 NaN   \n",
       "120                 NaN                 NaN                 NaN   \n",
       "\n",
       "     Searches: Dec 2020  Searches: Jan 2021  Searches: Feb 2021  \\\n",
       "1                   NaN                 NaN                 NaN   \n",
       "2                   NaN                 NaN                 NaN   \n",
       "3                   NaN                 NaN                 NaN   \n",
       "4                   NaN                 NaN                 NaN   \n",
       "5                   NaN                 NaN                 NaN   \n",
       "..                  ...                 ...                 ...   \n",
       "116                 NaN                 NaN                 NaN   \n",
       "117                 NaN                 NaN                 NaN   \n",
       "118                 NaN                 NaN                 NaN   \n",
       "119                 NaN                 NaN                 NaN   \n",
       "120                 NaN                 NaN                 NaN   \n",
       "\n",
       "     Searches: Mar 2021  Searches: Apr 2021  Searches: May 2021  \\\n",
       "1                   NaN                 NaN                 NaN   \n",
       "2                   NaN                 NaN                 NaN   \n",
       "3                   NaN                 NaN                 NaN   \n",
       "4                   NaN                 NaN                 NaN   \n",
       "5                   NaN                 NaN                 NaN   \n",
       "..                  ...                 ...                 ...   \n",
       "116                 NaN                 NaN                 NaN   \n",
       "117                 NaN                 NaN                 NaN   \n",
       "118                 NaN                 NaN                 NaN   \n",
       "119                 NaN                 NaN                 NaN   \n",
       "120                 NaN                 NaN                 NaN   \n",
       "\n",
       "    Concept: Retailer Concept: Site Concept: Website Concept: Other Brands  \\\n",
       "1                 NaN           NaN              NaN                   NaN   \n",
       "2                 NaN           NaN              NaN                   NaN   \n",
       "3                 NaN           NaN              NaN                   NaN   \n",
       "4                 NaN           NaN              NaN                   NaN   \n",
       "5                 NaN           NaN              NaN                   NaN   \n",
       "..                ...           ...              ...                   ...   \n",
       "116               NaN           NaN              NaN                   NaN   \n",
       "117               NaN           NaN              NaN                   NaN   \n",
       "118               NaN           NaN              NaN                 asics   \n",
       "119               NaN           NaN              NaN                   NaN   \n",
       "120               NaN           NaN              NaN                   NaN   \n",
       "\n",
       "    Concept: Non-Brands Concept: Financial Institution Concept: Others  \\\n",
       "1                   NaN                            NaN             NaN   \n",
       "2                   NaN                            NaN             NaN   \n",
       "3                   NaN                            NaN             NaN   \n",
       "4            Non-Brands                            NaN             NaN   \n",
       "5                   NaN                            NaN             NaN   \n",
       "..                  ...                            ...             ...   \n",
       "116          Non-Brands                            NaN             NaN   \n",
       "117          Non-Brands                            NaN             NaN   \n",
       "118                 NaN                            NaN             NaN   \n",
       "119          Non-Brands                            NaN           apple   \n",
       "120          Non-Brands                            NaN             NaN   \n",
       "\n",
       "    Concept: Exchange Concept: Eletronics Brand  \n",
       "1                 NaN                       NaN  \n",
       "2                 NaN                       NaN  \n",
       "3                 NaN                       NaN  \n",
       "4                 NaN                       NaN  \n",
       "5             binance                       NaN  \n",
       "..                ...                       ...  \n",
       "116               NaN                       NaN  \n",
       "117               NaN                       NaN  \n",
       "118               NaN                       NaN  \n",
       "119               NaN                       NaN  \n",
       "120               NaN                       NaN  \n",
       "\n",
       "[120 rows x 33 columns]"
      ],
      "text/html": "<div>\n<style scoped>\n    .dataframe tbody tr th:only-of-type {\n        vertical-align: middle;\n    }\n\n    .dataframe tbody tr th {\n        vertical-align: top;\n    }\n\n    .dataframe thead th {\n        text-align: right;\n    }\n</style>\n<table border=\"1\" class=\"dataframe\">\n  <thead>\n    <tr style=\"text-align: right;\">\n      <th></th>\n      <th>Keyword</th>\n      <th>Currency</th>\n      <th>Avg. monthly searches</th>\n      <th>Competition</th>\n      <th>Competition (indexed value)</th>\n      <th>Top of page bid (low range)</th>\n      <th>Top of page bid (high range)</th>\n      <th>Ad impression share</th>\n      <th>Organic impression share</th>\n      <th>Organic average position</th>\n      <th>In account?</th>\n      <th>In plan?</th>\n      <th>Searches: Jun 2020</th>\n      <th>Searches: Jul 2020</th>\n      <th>Searches: Aug 2020</th>\n      <th>Searches: Sep 2020</th>\n      <th>Searches: Oct 2020</th>\n      <th>Searches: Nov 2020</th>\n      <th>Searches: Dec 2020</th>\n      <th>Searches: Jan 2021</th>\n      <th>Searches: Feb 2021</th>\n      <th>Searches: Mar 2021</th>\n      <th>Searches: Apr 2021</th>\n      <th>Searches: May 2021</th>\n      <th>Concept: Retailer</th>\n      <th>Concept: Site</th>\n      <th>Concept: Website</th>\n      <th>Concept: Other Brands</th>\n      <th>Concept: Non-Brands</th>\n      <th>Concept: Financial Institution</th>\n      <th>Concept: Others</th>\n      <th>Concept: Exchange</th>\n      <th>Concept: Eletronics Brand</th>\n    </tr>\n  </thead>\n  <tbody>\n    <tr>\n      <td>1</td>\n      <td>ada</td>\n      <td>USD</td>\n      <td>500000.0</td>\n      <td>Low</td>\n      <td>19.0</td>\n      <td>0.86</td>\n      <td>5.89</td>\n      <td>NaN</td>\n      <td>NaN</td>\n      <td>NaN</td>\n      <td>NaN</td>\n      <td>NaN</td>\n      <td>NaN</td>\n      <td>NaN</td>\n      <td>NaN</td>\n      <td>NaN</td>\n      <td>NaN</td>\n      <td>NaN</td>\n      <td>NaN</td>\n      <td>NaN</td>\n      <td>NaN</td>\n      <td>NaN</td>\n      <td>NaN</td>\n      <td>NaN</td>\n      <td>NaN</td>\n      <td>NaN</td>\n      <td>NaN</td>\n      <td>NaN</td>\n      <td>NaN</td>\n      <td>NaN</td>\n      <td>NaN</td>\n      <td>NaN</td>\n      <td>NaN</td>\n    </tr>\n    <tr>\n      <td>2</td>\n      <td>address</td>\n      <td>USD</td>\n      <td>500000.0</td>\n      <td>Low</td>\n      <td>4.0</td>\n      <td>0.23</td>\n      <td>0.75</td>\n      <td>NaN</td>\n      <td>NaN</td>\n      <td>NaN</td>\n      <td>NaN</td>\n      <td>NaN</td>\n      <td>NaN</td>\n      <td>NaN</td>\n      <td>NaN</td>\n      <td>NaN</td>\n      <td>NaN</td>\n      <td>NaN</td>\n      <td>NaN</td>\n      <td>NaN</td>\n      <td>NaN</td>\n      <td>NaN</td>\n      <td>NaN</td>\n      <td>NaN</td>\n      <td>NaN</td>\n      <td>NaN</td>\n      <td>NaN</td>\n      <td>NaN</td>\n      <td>NaN</td>\n      <td>NaN</td>\n      <td>NaN</td>\n      <td>NaN</td>\n      <td>NaN</td>\n    </tr>\n    <tr>\n      <td>3</td>\n      <td>cryptocurrency</td>\n      <td>USD</td>\n      <td>500000.0</td>\n      <td>Low</td>\n      <td>30.0</td>\n      <td>1.65</td>\n      <td>10.17</td>\n      <td>NaN</td>\n      <td>NaN</td>\n      <td>NaN</td>\n      <td>NaN</td>\n      <td>NaN</td>\n      <td>NaN</td>\n      <td>NaN</td>\n      <td>NaN</td>\n      <td>NaN</td>\n      <td>NaN</td>\n      <td>NaN</td>\n      <td>NaN</td>\n      <td>NaN</td>\n      <td>NaN</td>\n      <td>NaN</td>\n      <td>NaN</td>\n      <td>NaN</td>\n      <td>NaN</td>\n      <td>NaN</td>\n      <td>NaN</td>\n      <td>NaN</td>\n      <td>NaN</td>\n      <td>NaN</td>\n      <td>NaN</td>\n      <td>NaN</td>\n      <td>NaN</td>\n    </tr>\n    <tr>\n      <td>4</td>\n      <td>crypto</td>\n      <td>USD</td>\n      <td>500000.0</td>\n      <td>Low</td>\n      <td>24.0</td>\n      <td>1.80</td>\n      <td>9.93</td>\n      <td>NaN</td>\n      <td>NaN</td>\n      <td>NaN</td>\n      <td>NaN</td>\n      <td>NaN</td>\n      <td>NaN</td>\n      <td>NaN</td>\n      <td>NaN</td>\n      <td>NaN</td>\n      <td>NaN</td>\n      <td>NaN</td>\n      <td>NaN</td>\n      <td>NaN</td>\n      <td>NaN</td>\n      <td>NaN</td>\n      <td>NaN</td>\n      <td>NaN</td>\n      <td>NaN</td>\n      <td>NaN</td>\n      <td>NaN</td>\n      <td>NaN</td>\n      <td>Non-Brands</td>\n      <td>NaN</td>\n      <td>NaN</td>\n      <td>NaN</td>\n      <td>NaN</td>\n    </tr>\n    <tr>\n      <td>5</td>\n      <td>binance us</td>\n      <td>USD</td>\n      <td>500000.0</td>\n      <td>Low</td>\n      <td>7.0</td>\n      <td>3.32</td>\n      <td>21.37</td>\n      <td>NaN</td>\n      <td>NaN</td>\n      <td>NaN</td>\n      <td>NaN</td>\n      <td>NaN</td>\n      <td>NaN</td>\n      <td>NaN</td>\n      <td>NaN</td>\n      <td>NaN</td>\n      <td>NaN</td>\n      <td>NaN</td>\n      <td>NaN</td>\n      <td>NaN</td>\n      <td>NaN</td>\n      <td>NaN</td>\n      <td>NaN</td>\n      <td>NaN</td>\n      <td>NaN</td>\n      <td>NaN</td>\n      <td>NaN</td>\n      <td>NaN</td>\n      <td>NaN</td>\n      <td>NaN</td>\n      <td>NaN</td>\n      <td>binance</td>\n      <td>NaN</td>\n    </tr>\n    <tr>\n      <td>...</td>\n      <td>...</td>\n      <td>...</td>\n      <td>...</td>\n      <td>...</td>\n      <td>...</td>\n      <td>...</td>\n      <td>...</td>\n      <td>...</td>\n      <td>...</td>\n      <td>...</td>\n      <td>...</td>\n      <td>...</td>\n      <td>...</td>\n      <td>...</td>\n      <td>...</td>\n      <td>...</td>\n      <td>...</td>\n      <td>...</td>\n      <td>...</td>\n      <td>...</td>\n      <td>...</td>\n      <td>...</td>\n      <td>...</td>\n      <td>...</td>\n      <td>...</td>\n      <td>...</td>\n      <td>...</td>\n      <td>...</td>\n      <td>...</td>\n      <td>...</td>\n      <td>...</td>\n      <td>...</td>\n      <td>...</td>\n    </tr>\n    <tr>\n      <td>116</td>\n      <td>coins market</td>\n      <td>USD</td>\n      <td>50000.0</td>\n      <td>Low</td>\n      <td>3.0</td>\n      <td>2.05</td>\n      <td>14.28</td>\n      <td>NaN</td>\n      <td>NaN</td>\n      <td>NaN</td>\n      <td>NaN</td>\n      <td>NaN</td>\n      <td>NaN</td>\n      <td>NaN</td>\n      <td>NaN</td>\n      <td>NaN</td>\n      <td>NaN</td>\n      <td>NaN</td>\n      <td>NaN</td>\n      <td>NaN</td>\n      <td>NaN</td>\n      <td>NaN</td>\n      <td>NaN</td>\n      <td>NaN</td>\n      <td>NaN</td>\n      <td>NaN</td>\n      <td>NaN</td>\n      <td>NaN</td>\n      <td>Non-Brands</td>\n      <td>NaN</td>\n      <td>NaN</td>\n      <td>NaN</td>\n      <td>NaN</td>\n    </tr>\n    <tr>\n      <td>117</td>\n      <td>turning on airdrop</td>\n      <td>USD</td>\n      <td>50000.0</td>\n      <td>Low</td>\n      <td>0.0</td>\n      <td>NaN</td>\n      <td>NaN</td>\n      <td>NaN</td>\n      <td>NaN</td>\n      <td>NaN</td>\n      <td>NaN</td>\n      <td>NaN</td>\n      <td>NaN</td>\n      <td>NaN</td>\n      <td>NaN</td>\n      <td>NaN</td>\n      <td>NaN</td>\n      <td>NaN</td>\n      <td>NaN</td>\n      <td>NaN</td>\n      <td>NaN</td>\n      <td>NaN</td>\n      <td>NaN</td>\n      <td>NaN</td>\n      <td>NaN</td>\n      <td>NaN</td>\n      <td>NaN</td>\n      <td>NaN</td>\n      <td>Non-Brands</td>\n      <td>NaN</td>\n      <td>NaN</td>\n      <td>NaN</td>\n      <td>NaN</td>\n    </tr>\n    <tr>\n      <td>118</td>\n      <td>asics outlets</td>\n      <td>USD</td>\n      <td>50000.0</td>\n      <td>High</td>\n      <td>100.0</td>\n      <td>0.48</td>\n      <td>0.74</td>\n      <td>NaN</td>\n      <td>NaN</td>\n      <td>NaN</td>\n      <td>NaN</td>\n      <td>NaN</td>\n      <td>NaN</td>\n      <td>NaN</td>\n      <td>NaN</td>\n      <td>NaN</td>\n      <td>NaN</td>\n      <td>NaN</td>\n      <td>NaN</td>\n      <td>NaN</td>\n      <td>NaN</td>\n      <td>NaN</td>\n      <td>NaN</td>\n      <td>NaN</td>\n      <td>NaN</td>\n      <td>NaN</td>\n      <td>NaN</td>\n      <td>asics</td>\n      <td>NaN</td>\n      <td>NaN</td>\n      <td>NaN</td>\n      <td>NaN</td>\n      <td>NaN</td>\n    </tr>\n    <tr>\n      <td>119</td>\n      <td>apple airdrops</td>\n      <td>USD</td>\n      <td>500000.0</td>\n      <td>High</td>\n      <td>100.0</td>\n      <td>0.35</td>\n      <td>0.98</td>\n      <td>NaN</td>\n      <td>NaN</td>\n      <td>NaN</td>\n      <td>NaN</td>\n      <td>NaN</td>\n      <td>NaN</td>\n      <td>NaN</td>\n      <td>NaN</td>\n      <td>NaN</td>\n      <td>NaN</td>\n      <td>NaN</td>\n      <td>NaN</td>\n      <td>NaN</td>\n      <td>NaN</td>\n      <td>NaN</td>\n      <td>NaN</td>\n      <td>NaN</td>\n      <td>NaN</td>\n      <td>NaN</td>\n      <td>NaN</td>\n      <td>NaN</td>\n      <td>Non-Brands</td>\n      <td>NaN</td>\n      <td>apple</td>\n      <td>NaN</td>\n      <td>NaN</td>\n    </tr>\n    <tr>\n      <td>120</td>\n      <td>airdrop how</td>\n      <td>USD</td>\n      <td>50000.0</td>\n      <td>Low</td>\n      <td>0.0</td>\n      <td>0.74</td>\n      <td>2.50</td>\n      <td>NaN</td>\n      <td>NaN</td>\n      <td>NaN</td>\n      <td>NaN</td>\n      <td>NaN</td>\n      <td>NaN</td>\n      <td>NaN</td>\n      <td>NaN</td>\n      <td>NaN</td>\n      <td>NaN</td>\n      <td>NaN</td>\n      <td>NaN</td>\n      <td>NaN</td>\n      <td>NaN</td>\n      <td>NaN</td>\n      <td>NaN</td>\n      <td>NaN</td>\n      <td>NaN</td>\n      <td>NaN</td>\n      <td>NaN</td>\n      <td>NaN</td>\n      <td>Non-Brands</td>\n      <td>NaN</td>\n      <td>NaN</td>\n      <td>NaN</td>\n      <td>NaN</td>\n    </tr>\n  </tbody>\n</table>\n<p>120 rows × 33 columns</p>\n</div>"
     },
     "metadata": {},
     "execution_count": 59
    }
   ],
   "source": [
    "frames = [aboveEqual_fiveHundred_thousand, aboveEqual_fifty_thousand]\n",
    "\n",
    "#append dataframes\n",
    "top_keywords = aboveEqual_fiveHundred_thousand.append(aboveEqual_fifty_thousand, ignore_index=True)\n",
    "top_keywords = top_keywords.drop(labels=0, axis=0)\n",
    "top_keywords"
   ]
  },
  {
   "cell_type": "code",
   "execution_count": 60,
   "metadata": {},
   "outputs": [
    {
     "output_type": "execute_result",
     "data": {
      "text/plain": [
       "              Keyword Currency  Avg. monthly searches Competition  \\\n",
       "1                 ada      USD               500000.0         Low   \n",
       "12                ada      USD               500000.0         Low   \n",
       "107    coincap market      USD               500000.0         Low   \n",
       "2             address      USD               500000.0         Low   \n",
       "112   coinbase stocks      USD               500000.0         Low   \n",
       "..                ...      ...                    ...         ...   \n",
       "47      asics gt 2000      USD                50000.0        High   \n",
       "46   asics gel nimbus      USD                50000.0        High   \n",
       "45    asics novablast      USD                50000.0        High   \n",
       "44   safe moon crypto      USD                50000.0         Low   \n",
       "120       airdrop how      USD                50000.0         Low   \n",
       "\n",
       "     Competition (indexed value)  Top of page bid (low range)  \\\n",
       "1                           19.0                         0.86   \n",
       "12                          19.0                         0.86   \n",
       "107                          2.0                         2.46   \n",
       "2                            4.0                         0.23   \n",
       "112                          3.0                         1.66   \n",
       "..                           ...                          ...   \n",
       "47                         100.0                         0.48   \n",
       "46                         100.0                         0.40   \n",
       "45                         100.0                         0.39   \n",
       "44                          29.0                         2.55   \n",
       "120                          0.0                         0.74   \n",
       "\n",
       "     Top of page bid (high range)  Ad impression share  \\\n",
       "1                            5.89                  NaN   \n",
       "12                           5.89                  NaN   \n",
       "107                         20.22                  NaN   \n",
       "2                            0.75                  NaN   \n",
       "112                         16.77                  NaN   \n",
       "..                            ...                  ...   \n",
       "47                           0.77                  NaN   \n",
       "46                           1.00                  NaN   \n",
       "45                           0.83                  NaN   \n",
       "44                          21.84                  NaN   \n",
       "120                          2.50                  NaN   \n",
       "\n",
       "     Organic impression share  Organic average position  In account? In plan?  \\\n",
       "1                         NaN                       NaN          NaN      NaN   \n",
       "12                        NaN                       NaN          NaN      NaN   \n",
       "107                       NaN                       NaN          NaN      NaN   \n",
       "2                         NaN                       NaN          NaN      NaN   \n",
       "112                       NaN                       NaN          NaN      NaN   \n",
       "..                        ...                       ...          ...      ...   \n",
       "47                        NaN                       NaN          NaN      NaN   \n",
       "46                        NaN                       NaN          NaN      NaN   \n",
       "45                        NaN                       NaN          NaN      NaN   \n",
       "44                        NaN                       NaN          NaN      NaN   \n",
       "120                       NaN                       NaN          NaN      NaN   \n",
       "\n",
       "     Searches: Jun 2020  Searches: Jul 2020  Searches: Aug 2020  \\\n",
       "1                   NaN                 NaN                 NaN   \n",
       "12                  NaN                 NaN                 NaN   \n",
       "107                 NaN                 NaN                 NaN   \n",
       "2                   NaN                 NaN                 NaN   \n",
       "112                 NaN                 NaN                 NaN   \n",
       "..                  ...                 ...                 ...   \n",
       "47                  NaN                 NaN                 NaN   \n",
       "46                  NaN                 NaN                 NaN   \n",
       "45                  NaN                 NaN                 NaN   \n",
       "44                  NaN                 NaN                 NaN   \n",
       "120                 NaN                 NaN                 NaN   \n",
       "\n",
       "     Searches: Sep 2020  Searches: Oct 2020  Searches: Nov 2020  \\\n",
       "1                   NaN                 NaN                 NaN   \n",
       "12                  NaN                 NaN                 NaN   \n",
       "107                 NaN                 NaN                 NaN   \n",
       "2                   NaN                 NaN                 NaN   \n",
       "112                 NaN                 NaN                 NaN   \n",
       "..                  ...                 ...                 ...   \n",
       "47                  NaN                 NaN                 NaN   \n",
       "46                  NaN                 NaN                 NaN   \n",
       "45                  NaN                 NaN                 NaN   \n",
       "44                  NaN                 NaN                 NaN   \n",
       "120                 NaN                 NaN                 NaN   \n",
       "\n",
       "     Searches: Dec 2020  Searches: Jan 2021  Searches: Feb 2021  \\\n",
       "1                   NaN                 NaN                 NaN   \n",
       "12                  NaN                 NaN                 NaN   \n",
       "107                 NaN                 NaN                 NaN   \n",
       "2                   NaN                 NaN                 NaN   \n",
       "112                 NaN                 NaN                 NaN   \n",
       "..                  ...                 ...                 ...   \n",
       "47                  NaN                 NaN                 NaN   \n",
       "46                  NaN                 NaN                 NaN   \n",
       "45                  NaN                 NaN                 NaN   \n",
       "44                  NaN                 NaN                 NaN   \n",
       "120                 NaN                 NaN                 NaN   \n",
       "\n",
       "     Searches: Mar 2021  Searches: Apr 2021  Searches: May 2021  \\\n",
       "1                   NaN                 NaN                 NaN   \n",
       "12                  NaN                 NaN                 NaN   \n",
       "107                 NaN                 NaN                 NaN   \n",
       "2                   NaN                 NaN                 NaN   \n",
       "112                 NaN                 NaN                 NaN   \n",
       "..                  ...                 ...                 ...   \n",
       "47                  NaN                 NaN                 NaN   \n",
       "46                  NaN                 NaN                 NaN   \n",
       "45                  NaN                 NaN                 NaN   \n",
       "44                  NaN                 NaN                 NaN   \n",
       "120                 NaN                 NaN                 NaN   \n",
       "\n",
       "    Concept: Retailer Concept: Site Concept: Website Concept: Other Brands  \\\n",
       "1                 NaN           NaN              NaN                   NaN   \n",
       "12                NaN           NaN              NaN                   NaN   \n",
       "107               NaN           NaN          coincap                   NaN   \n",
       "2                 NaN           NaN              NaN                   NaN   \n",
       "112               NaN           NaN              NaN                   NaN   \n",
       "..                ...           ...              ...                   ...   \n",
       "47                NaN           NaN              NaN                 asics   \n",
       "46                NaN           NaN              NaN                 asics   \n",
       "45                NaN           NaN              NaN                 asics   \n",
       "44                NaN           NaN              NaN                   NaN   \n",
       "120               NaN           NaN              NaN                   NaN   \n",
       "\n",
       "    Concept: Non-Brands Concept: Financial Institution Concept: Others  \\\n",
       "1                   NaN                            NaN             NaN   \n",
       "12                  NaN                            NaN             NaN   \n",
       "107                 NaN                            NaN             NaN   \n",
       "2                   NaN                            NaN             NaN   \n",
       "112                 NaN                            NaN             NaN   \n",
       "..                  ...                            ...             ...   \n",
       "47                  NaN                            NaN             NaN   \n",
       "46                  NaN                            NaN             NaN   \n",
       "45                  NaN                            NaN             NaN   \n",
       "44           Non-Brands                            NaN             NaN   \n",
       "120          Non-Brands                            NaN             NaN   \n",
       "\n",
       "    Concept: Exchange Concept: Eletronics Brand  \n",
       "1                 NaN                       NaN  \n",
       "12                NaN                       NaN  \n",
       "107               NaN                       NaN  \n",
       "2                 NaN                       NaN  \n",
       "112          coinbase                       NaN  \n",
       "..                ...                       ...  \n",
       "47                NaN                       NaN  \n",
       "46                NaN                       NaN  \n",
       "45                NaN                       NaN  \n",
       "44                NaN                       NaN  \n",
       "120               NaN                       NaN  \n",
       "\n",
       "[120 rows x 33 columns]"
      ],
      "text/html": "<div>\n<style scoped>\n    .dataframe tbody tr th:only-of-type {\n        vertical-align: middle;\n    }\n\n    .dataframe tbody tr th {\n        vertical-align: top;\n    }\n\n    .dataframe thead th {\n        text-align: right;\n    }\n</style>\n<table border=\"1\" class=\"dataframe\">\n  <thead>\n    <tr style=\"text-align: right;\">\n      <th></th>\n      <th>Keyword</th>\n      <th>Currency</th>\n      <th>Avg. monthly searches</th>\n      <th>Competition</th>\n      <th>Competition (indexed value)</th>\n      <th>Top of page bid (low range)</th>\n      <th>Top of page bid (high range)</th>\n      <th>Ad impression share</th>\n      <th>Organic impression share</th>\n      <th>Organic average position</th>\n      <th>In account?</th>\n      <th>In plan?</th>\n      <th>Searches: Jun 2020</th>\n      <th>Searches: Jul 2020</th>\n      <th>Searches: Aug 2020</th>\n      <th>Searches: Sep 2020</th>\n      <th>Searches: Oct 2020</th>\n      <th>Searches: Nov 2020</th>\n      <th>Searches: Dec 2020</th>\n      <th>Searches: Jan 2021</th>\n      <th>Searches: Feb 2021</th>\n      <th>Searches: Mar 2021</th>\n      <th>Searches: Apr 2021</th>\n      <th>Searches: May 2021</th>\n      <th>Concept: Retailer</th>\n      <th>Concept: Site</th>\n      <th>Concept: Website</th>\n      <th>Concept: Other Brands</th>\n      <th>Concept: Non-Brands</th>\n      <th>Concept: Financial Institution</th>\n      <th>Concept: Others</th>\n      <th>Concept: Exchange</th>\n      <th>Concept: Eletronics Brand</th>\n    </tr>\n  </thead>\n  <tbody>\n    <tr>\n      <td>1</td>\n      <td>ada</td>\n      <td>USD</td>\n      <td>500000.0</td>\n      <td>Low</td>\n      <td>19.0</td>\n      <td>0.86</td>\n      <td>5.89</td>\n      <td>NaN</td>\n      <td>NaN</td>\n      <td>NaN</td>\n      <td>NaN</td>\n      <td>NaN</td>\n      <td>NaN</td>\n      <td>NaN</td>\n      <td>NaN</td>\n      <td>NaN</td>\n      <td>NaN</td>\n      <td>NaN</td>\n      <td>NaN</td>\n      <td>NaN</td>\n      <td>NaN</td>\n      <td>NaN</td>\n      <td>NaN</td>\n      <td>NaN</td>\n      <td>NaN</td>\n      <td>NaN</td>\n      <td>NaN</td>\n      <td>NaN</td>\n      <td>NaN</td>\n      <td>NaN</td>\n      <td>NaN</td>\n      <td>NaN</td>\n      <td>NaN</td>\n    </tr>\n    <tr>\n      <td>12</td>\n      <td>ada</td>\n      <td>USD</td>\n      <td>500000.0</td>\n      <td>Low</td>\n      <td>19.0</td>\n      <td>0.86</td>\n      <td>5.89</td>\n      <td>NaN</td>\n      <td>NaN</td>\n      <td>NaN</td>\n      <td>NaN</td>\n      <td>NaN</td>\n      <td>NaN</td>\n      <td>NaN</td>\n      <td>NaN</td>\n      <td>NaN</td>\n      <td>NaN</td>\n      <td>NaN</td>\n      <td>NaN</td>\n      <td>NaN</td>\n      <td>NaN</td>\n      <td>NaN</td>\n      <td>NaN</td>\n      <td>NaN</td>\n      <td>NaN</td>\n      <td>NaN</td>\n      <td>NaN</td>\n      <td>NaN</td>\n      <td>NaN</td>\n      <td>NaN</td>\n      <td>NaN</td>\n      <td>NaN</td>\n      <td>NaN</td>\n    </tr>\n    <tr>\n      <td>107</td>\n      <td>coincap market</td>\n      <td>USD</td>\n      <td>500000.0</td>\n      <td>Low</td>\n      <td>2.0</td>\n      <td>2.46</td>\n      <td>20.22</td>\n      <td>NaN</td>\n      <td>NaN</td>\n      <td>NaN</td>\n      <td>NaN</td>\n      <td>NaN</td>\n      <td>NaN</td>\n      <td>NaN</td>\n      <td>NaN</td>\n      <td>NaN</td>\n      <td>NaN</td>\n      <td>NaN</td>\n      <td>NaN</td>\n      <td>NaN</td>\n      <td>NaN</td>\n      <td>NaN</td>\n      <td>NaN</td>\n      <td>NaN</td>\n      <td>NaN</td>\n      <td>NaN</td>\n      <td>coincap</td>\n      <td>NaN</td>\n      <td>NaN</td>\n      <td>NaN</td>\n      <td>NaN</td>\n      <td>NaN</td>\n      <td>NaN</td>\n    </tr>\n    <tr>\n      <td>2</td>\n      <td>address</td>\n      <td>USD</td>\n      <td>500000.0</td>\n      <td>Low</td>\n      <td>4.0</td>\n      <td>0.23</td>\n      <td>0.75</td>\n      <td>NaN</td>\n      <td>NaN</td>\n      <td>NaN</td>\n      <td>NaN</td>\n      <td>NaN</td>\n      <td>NaN</td>\n      <td>NaN</td>\n      <td>NaN</td>\n      <td>NaN</td>\n      <td>NaN</td>\n      <td>NaN</td>\n      <td>NaN</td>\n      <td>NaN</td>\n      <td>NaN</td>\n      <td>NaN</td>\n      <td>NaN</td>\n      <td>NaN</td>\n      <td>NaN</td>\n      <td>NaN</td>\n      <td>NaN</td>\n      <td>NaN</td>\n      <td>NaN</td>\n      <td>NaN</td>\n      <td>NaN</td>\n      <td>NaN</td>\n      <td>NaN</td>\n    </tr>\n    <tr>\n      <td>112</td>\n      <td>coinbase stocks</td>\n      <td>USD</td>\n      <td>500000.0</td>\n      <td>Low</td>\n      <td>3.0</td>\n      <td>1.66</td>\n      <td>16.77</td>\n      <td>NaN</td>\n      <td>NaN</td>\n      <td>NaN</td>\n      <td>NaN</td>\n      <td>NaN</td>\n      <td>NaN</td>\n      <td>NaN</td>\n      <td>NaN</td>\n      <td>NaN</td>\n      <td>NaN</td>\n      <td>NaN</td>\n      <td>NaN</td>\n      <td>NaN</td>\n      <td>NaN</td>\n      <td>NaN</td>\n      <td>NaN</td>\n      <td>NaN</td>\n      <td>NaN</td>\n      <td>NaN</td>\n      <td>NaN</td>\n      <td>NaN</td>\n      <td>NaN</td>\n      <td>NaN</td>\n      <td>NaN</td>\n      <td>coinbase</td>\n      <td>NaN</td>\n    </tr>\n    <tr>\n      <td>...</td>\n      <td>...</td>\n      <td>...</td>\n      <td>...</td>\n      <td>...</td>\n      <td>...</td>\n      <td>...</td>\n      <td>...</td>\n      <td>...</td>\n      <td>...</td>\n      <td>...</td>\n      <td>...</td>\n      <td>...</td>\n      <td>...</td>\n      <td>...</td>\n      <td>...</td>\n      <td>...</td>\n      <td>...</td>\n      <td>...</td>\n      <td>...</td>\n      <td>...</td>\n      <td>...</td>\n      <td>...</td>\n      <td>...</td>\n      <td>...</td>\n      <td>...</td>\n      <td>...</td>\n      <td>...</td>\n      <td>...</td>\n      <td>...</td>\n      <td>...</td>\n      <td>...</td>\n      <td>...</td>\n      <td>...</td>\n    </tr>\n    <tr>\n      <td>47</td>\n      <td>asics gt 2000</td>\n      <td>USD</td>\n      <td>50000.0</td>\n      <td>High</td>\n      <td>100.0</td>\n      <td>0.48</td>\n      <td>0.77</td>\n      <td>NaN</td>\n      <td>NaN</td>\n      <td>NaN</td>\n      <td>NaN</td>\n      <td>NaN</td>\n      <td>NaN</td>\n      <td>NaN</td>\n      <td>NaN</td>\n      <td>NaN</td>\n      <td>NaN</td>\n      <td>NaN</td>\n      <td>NaN</td>\n      <td>NaN</td>\n      <td>NaN</td>\n      <td>NaN</td>\n      <td>NaN</td>\n      <td>NaN</td>\n      <td>NaN</td>\n      <td>NaN</td>\n      <td>NaN</td>\n      <td>asics</td>\n      <td>NaN</td>\n      <td>NaN</td>\n      <td>NaN</td>\n      <td>NaN</td>\n      <td>NaN</td>\n    </tr>\n    <tr>\n      <td>46</td>\n      <td>asics gel nimbus</td>\n      <td>USD</td>\n      <td>50000.0</td>\n      <td>High</td>\n      <td>100.0</td>\n      <td>0.40</td>\n      <td>1.00</td>\n      <td>NaN</td>\n      <td>NaN</td>\n      <td>NaN</td>\n      <td>NaN</td>\n      <td>NaN</td>\n      <td>NaN</td>\n      <td>NaN</td>\n      <td>NaN</td>\n      <td>NaN</td>\n      <td>NaN</td>\n      <td>NaN</td>\n      <td>NaN</td>\n      <td>NaN</td>\n      <td>NaN</td>\n      <td>NaN</td>\n      <td>NaN</td>\n      <td>NaN</td>\n      <td>NaN</td>\n      <td>NaN</td>\n      <td>NaN</td>\n      <td>asics</td>\n      <td>NaN</td>\n      <td>NaN</td>\n      <td>NaN</td>\n      <td>NaN</td>\n      <td>NaN</td>\n    </tr>\n    <tr>\n      <td>45</td>\n      <td>asics novablast</td>\n      <td>USD</td>\n      <td>50000.0</td>\n      <td>High</td>\n      <td>100.0</td>\n      <td>0.39</td>\n      <td>0.83</td>\n      <td>NaN</td>\n      <td>NaN</td>\n      <td>NaN</td>\n      <td>NaN</td>\n      <td>NaN</td>\n      <td>NaN</td>\n      <td>NaN</td>\n      <td>NaN</td>\n      <td>NaN</td>\n      <td>NaN</td>\n      <td>NaN</td>\n      <td>NaN</td>\n      <td>NaN</td>\n      <td>NaN</td>\n      <td>NaN</td>\n      <td>NaN</td>\n      <td>NaN</td>\n      <td>NaN</td>\n      <td>NaN</td>\n      <td>NaN</td>\n      <td>asics</td>\n      <td>NaN</td>\n      <td>NaN</td>\n      <td>NaN</td>\n      <td>NaN</td>\n      <td>NaN</td>\n    </tr>\n    <tr>\n      <td>44</td>\n      <td>safe moon crypto</td>\n      <td>USD</td>\n      <td>50000.0</td>\n      <td>Low</td>\n      <td>29.0</td>\n      <td>2.55</td>\n      <td>21.84</td>\n      <td>NaN</td>\n      <td>NaN</td>\n      <td>NaN</td>\n      <td>NaN</td>\n      <td>NaN</td>\n      <td>NaN</td>\n      <td>NaN</td>\n      <td>NaN</td>\n      <td>NaN</td>\n      <td>NaN</td>\n      <td>NaN</td>\n      <td>NaN</td>\n      <td>NaN</td>\n      <td>NaN</td>\n      <td>NaN</td>\n      <td>NaN</td>\n      <td>NaN</td>\n      <td>NaN</td>\n      <td>NaN</td>\n      <td>NaN</td>\n      <td>NaN</td>\n      <td>Non-Brands</td>\n      <td>NaN</td>\n      <td>NaN</td>\n      <td>NaN</td>\n      <td>NaN</td>\n    </tr>\n    <tr>\n      <td>120</td>\n      <td>airdrop how</td>\n      <td>USD</td>\n      <td>50000.0</td>\n      <td>Low</td>\n      <td>0.0</td>\n      <td>0.74</td>\n      <td>2.50</td>\n      <td>NaN</td>\n      <td>NaN</td>\n      <td>NaN</td>\n      <td>NaN</td>\n      <td>NaN</td>\n      <td>NaN</td>\n      <td>NaN</td>\n      <td>NaN</td>\n      <td>NaN</td>\n      <td>NaN</td>\n      <td>NaN</td>\n      <td>NaN</td>\n      <td>NaN</td>\n      <td>NaN</td>\n      <td>NaN</td>\n      <td>NaN</td>\n      <td>NaN</td>\n      <td>NaN</td>\n      <td>NaN</td>\n      <td>NaN</td>\n      <td>NaN</td>\n      <td>Non-Brands</td>\n      <td>NaN</td>\n      <td>NaN</td>\n      <td>NaN</td>\n      <td>NaN</td>\n    </tr>\n  </tbody>\n</table>\n<p>120 rows × 33 columns</p>\n</div>"
     },
     "metadata": {},
     "execution_count": 60
    }
   ],
   "source": [
    "top_keywords.sort_values(by='Avg. monthly searches', ascending=False)"
   ]
  },
  {
   "cell_type": "code",
   "execution_count": 64,
   "metadata": {},
   "outputs": [],
   "source": [
    "avg_monthly_searches = np.array(top_keywords['Avg. monthly searches']).reshape(-1,1)\n",
    "competition_value = np.array(top_keywords['Competition (indexed value)']).reshape(-1,1)"
   ]
  },
  {
   "cell_type": "code",
   "execution_count": 66,
   "metadata": {},
   "outputs": [
    {
     "output_type": "execute_result",
     "data": {
      "text/plain": [
       "<matplotlib.collections.PathCollection at 0x7f84520b2410>"
      ]
     },
     "metadata": {},
     "execution_count": 66
    },
    {
     "output_type": "display_data",
     "data": {
      "text/plain": "<Figure size 432x288 with 1 Axes>",
      "image/svg+xml": "<?xml version=\"1.0\" encoding=\"utf-8\" standalone=\"no\"?>\n<!DOCTYPE svg PUBLIC \"-//W3C//DTD SVG 1.1//EN\"\n  \"http://www.w3.org/Graphics/SVG/1.1/DTD/svg11.dtd\">\n<!-- Created with matplotlib (https://matplotlib.org/) -->\n<svg height=\"248.518125pt\" version=\"1.1\" viewBox=\"0 0 394.375 248.518125\" width=\"394.375pt\" xmlns=\"http://www.w3.org/2000/svg\" xmlns:xlink=\"http://www.w3.org/1999/xlink\">\n <defs>\n  <style type=\"text/css\">\n*{stroke-linecap:butt;stroke-linejoin:round;}\n  </style>\n </defs>\n <g id=\"figure_1\">\n  <g id=\"patch_1\">\n   <path d=\"M 0 248.518125 \nL 394.375 248.518125 \nL 394.375 0 \nL 0 0 \nz\n\" style=\"fill:none;\"/>\n  </g>\n  <g id=\"axes_1\">\n   <g id=\"patch_2\">\n    <path d=\"M 52.375 224.64 \nL 387.175 224.64 \nL 387.175 7.2 \nL 52.375 7.2 \nz\n\" style=\"fill:#ffffff;\"/>\n   </g>\n   <g id=\"PathCollection_1\">\n    <defs>\n     <path d=\"M 0 3 \nC 0.795609 3 1.55874 2.683901 2.12132 2.12132 \nC 2.683901 1.55874 3 0.795609 3 0 \nC 3 -0.795609 2.683901 -1.55874 2.12132 -2.12132 \nC 1.55874 -2.683901 0.795609 -3 0 -3 \nC -0.795609 -3 -1.55874 -2.683901 -2.12132 -2.12132 \nC -2.683901 -1.55874 -3 -0.795609 -3 0 \nC -3 0.795609 -2.683901 1.55874 -2.12132 2.12132 \nC -1.55874 2.683901 -0.795609 3 0 3 \nz\n\" id=\"m1d7d831a2a\" style=\"stroke:#1f77b4;\"/>\n    </defs>\n    <g clip-path=\"url(#pe1883564f6)\">\n     <use style=\"fill:#1f77b4;stroke:#1f77b4;\" x=\"125.439179\" xlink:href=\"#m1d7d831a2a\" y=\"17.083642\"/>\n     <use style=\"fill:#1f77b4;stroke:#1f77b4;\" x=\"79.792814\" xlink:href=\"#m1d7d831a2a\" y=\"17.083642\"/>\n     <use style=\"fill:#1f77b4;stroke:#1f77b4;\" x=\"158.91318\" xlink:href=\"#m1d7d831a2a\" y=\"17.083642\"/>\n     <use style=\"fill:#1f77b4;stroke:#1f77b4;\" x=\"140.654634\" xlink:href=\"#m1d7d831a2a\" y=\"17.083642\"/>\n     <use style=\"fill:#1f77b4;stroke:#1f77b4;\" x=\"88.922087\" xlink:href=\"#m1d7d831a2a\" y=\"17.083642\"/>\n     <use style=\"fill:#1f77b4;stroke:#1f77b4;\" x=\"143.697725\" xlink:href=\"#m1d7d831a2a\" y=\"17.083642\"/>\n     <use style=\"fill:#1f77b4;stroke:#1f77b4;\" x=\"73.706632\" xlink:href=\"#m1d7d831a2a\" y=\"17.083642\"/>\n     <use style=\"fill:#1f77b4;stroke:#1f77b4;\" x=\"76.749723\" xlink:href=\"#m1d7d831a2a\" y=\"17.083642\"/>\n     <use style=\"fill:#1f77b4;stroke:#1f77b4;\" x=\"110.223724\" xlink:href=\"#m1d7d831a2a\" y=\"17.083642\"/>\n     <use style=\"fill:#1f77b4;stroke:#1f77b4;\" x=\"371.92955\" xlink:href=\"#m1d7d831a2a\" y=\"17.083642\"/>\n     <use style=\"fill:#1f77b4;stroke:#1f77b4;\" x=\"371.92955\" xlink:href=\"#m1d7d831a2a\" y=\"17.083642\"/>\n     <use style=\"fill:#1f77b4;stroke:#1f77b4;\" x=\"125.439179\" xlink:href=\"#m1d7d831a2a\" y=\"17.083642\"/>\n     <use style=\"fill:#1f77b4;stroke:#1f77b4;\" x=\"79.792814\" xlink:href=\"#m1d7d831a2a\" y=\"17.083642\"/>\n     <use style=\"fill:#1f77b4;stroke:#1f77b4;\" x=\"70.663541\" xlink:href=\"#m1d7d831a2a\" y=\"214.756358\"/>\n     <use style=\"fill:#1f77b4;stroke:#1f77b4;\" x=\"158.91318\" xlink:href=\"#m1d7d831a2a\" y=\"17.083642\"/>\n     <use style=\"fill:#1f77b4;stroke:#1f77b4;\" x=\"140.654634\" xlink:href=\"#m1d7d831a2a\" y=\"17.083642\"/>\n     <use style=\"fill:#1f77b4;stroke:#1f77b4;\" x=\"73.706632\" xlink:href=\"#m1d7d831a2a\" y=\"214.756358\"/>\n     <use style=\"fill:#1f77b4;stroke:#1f77b4;\" x=\"88.922087\" xlink:href=\"#m1d7d831a2a\" y=\"17.083642\"/>\n     <use style=\"fill:#1f77b4;stroke:#1f77b4;\" x=\"67.62045\" xlink:href=\"#m1d7d831a2a\" y=\"214.756358\"/>\n     <use style=\"fill:#1f77b4;stroke:#1f77b4;\" x=\"371.92955\" xlink:href=\"#m1d7d831a2a\" y=\"214.756358\"/>\n     <use style=\"fill:#1f77b4;stroke:#1f77b4;\" x=\"143.697725\" xlink:href=\"#m1d7d831a2a\" y=\"17.083642\"/>\n     <use style=\"fill:#1f77b4;stroke:#1f77b4;\" x=\"110.223724\" xlink:href=\"#m1d7d831a2a\" y=\"214.756358\"/>\n     <use style=\"fill:#1f77b4;stroke:#1f77b4;\" x=\"110.223724\" xlink:href=\"#m1d7d831a2a\" y=\"214.756358\"/>\n     <use style=\"fill:#1f77b4;stroke:#1f77b4;\" x=\"371.92955\" xlink:href=\"#m1d7d831a2a\" y=\"214.756358\"/>\n     <use style=\"fill:#1f77b4;stroke:#1f77b4;\" x=\"110.223724\" xlink:href=\"#m1d7d831a2a\" y=\"214.756358\"/>\n     <use style=\"fill:#1f77b4;stroke:#1f77b4;\" x=\"88.922087\" xlink:href=\"#m1d7d831a2a\" y=\"214.756358\"/>\n     <use style=\"fill:#1f77b4;stroke:#1f77b4;\" x=\"98.05136\" xlink:href=\"#m1d7d831a2a\" y=\"214.756358\"/>\n     <use style=\"fill:#1f77b4;stroke:#1f77b4;\" x=\"85.878996\" xlink:href=\"#m1d7d831a2a\" y=\"214.756358\"/>\n     <use style=\"fill:#1f77b4;stroke:#1f77b4;\" x=\"371.92955\" xlink:href=\"#m1d7d831a2a\" y=\"214.756358\"/>\n     <use style=\"fill:#1f77b4;stroke:#1f77b4;\" x=\"91.965178\" xlink:href=\"#m1d7d831a2a\" y=\"214.756358\"/>\n     <use style=\"fill:#1f77b4;stroke:#1f77b4;\" x=\"73.706632\" xlink:href=\"#m1d7d831a2a\" y=\"214.756358\"/>\n     <use style=\"fill:#1f77b4;stroke:#1f77b4;\" x=\"119.352997\" xlink:href=\"#m1d7d831a2a\" y=\"214.756358\"/>\n     <use style=\"fill:#1f77b4;stroke:#1f77b4;\" x=\"119.352997\" xlink:href=\"#m1d7d831a2a\" y=\"214.756358\"/>\n     <use style=\"fill:#1f77b4;stroke:#1f77b4;\" x=\"371.92955\" xlink:href=\"#m1d7d831a2a\" y=\"214.756358\"/>\n     <use style=\"fill:#1f77b4;stroke:#1f77b4;\" x=\"128.48227\" xlink:href=\"#m1d7d831a2a\" y=\"214.756358\"/>\n     <use style=\"fill:#1f77b4;stroke:#1f77b4;\" x=\"67.62045\" xlink:href=\"#m1d7d831a2a\" y=\"214.756358\"/>\n     <use style=\"fill:#1f77b4;stroke:#1f77b4;\" x=\"164.999362\" xlink:href=\"#m1d7d831a2a\" y=\"214.756358\"/>\n     <use style=\"fill:#1f77b4;stroke:#1f77b4;\" x=\"116.309906\" xlink:href=\"#m1d7d831a2a\" y=\"214.756358\"/>\n     <use style=\"fill:#1f77b4;stroke:#1f77b4;\" x=\"371.92955\" xlink:href=\"#m1d7d831a2a\" y=\"214.756358\"/>\n     <use style=\"fill:#1f77b4;stroke:#1f77b4;\" x=\"125.439179\" xlink:href=\"#m1d7d831a2a\" y=\"214.756358\"/>\n     <use style=\"fill:#1f77b4;stroke:#1f77b4;\" x=\"368.886459\" xlink:href=\"#m1d7d831a2a\" y=\"214.756358\"/>\n     <use style=\"fill:#1f77b4;stroke:#1f77b4;\" x=\"76.749723\" xlink:href=\"#m1d7d831a2a\" y=\"214.756358\"/>\n     <use style=\"fill:#1f77b4;stroke:#1f77b4;\" x=\"152.826998\" xlink:href=\"#m1d7d831a2a\" y=\"214.756358\"/>\n     <use style=\"fill:#1f77b4;stroke:#1f77b4;\" x=\"155.870089\" xlink:href=\"#m1d7d831a2a\" y=\"214.756358\"/>\n     <use style=\"fill:#1f77b4;stroke:#1f77b4;\" x=\"371.92955\" xlink:href=\"#m1d7d831a2a\" y=\"214.756358\"/>\n     <use style=\"fill:#1f77b4;stroke:#1f77b4;\" x=\"371.92955\" xlink:href=\"#m1d7d831a2a\" y=\"214.756358\"/>\n     <use style=\"fill:#1f77b4;stroke:#1f77b4;\" x=\"371.92955\" xlink:href=\"#m1d7d831a2a\" y=\"214.756358\"/>\n     <use style=\"fill:#1f77b4;stroke:#1f77b4;\" x=\"146.740816\" xlink:href=\"#m1d7d831a2a\" y=\"214.756358\"/>\n     <use style=\"fill:#1f77b4;stroke:#1f77b4;\" x=\"91.965178\" xlink:href=\"#m1d7d831a2a\" y=\"214.756358\"/>\n     <use style=\"fill:#1f77b4;stroke:#1f77b4;\" x=\"371.92955\" xlink:href=\"#m1d7d831a2a\" y=\"214.756358\"/>\n     <use style=\"fill:#1f77b4;stroke:#1f77b4;\" x=\"82.835905\" xlink:href=\"#m1d7d831a2a\" y=\"214.756358\"/>\n     <use style=\"fill:#1f77b4;stroke:#1f77b4;\" x=\"158.91318\" xlink:href=\"#m1d7d831a2a\" y=\"214.756358\"/>\n     <use style=\"fill:#1f77b4;stroke:#1f77b4;\" x=\"219.775\" xlink:href=\"#m1d7d831a2a\" y=\"214.756358\"/>\n     <use style=\"fill:#1f77b4;stroke:#1f77b4;\" x=\"371.92955\" xlink:href=\"#m1d7d831a2a\" y=\"214.756358\"/>\n     <use style=\"fill:#1f77b4;stroke:#1f77b4;\" x=\"70.663541\" xlink:href=\"#m1d7d831a2a\" y=\"214.756358\"/>\n     <use style=\"fill:#1f77b4;stroke:#1f77b4;\" x=\"101.094451\" xlink:href=\"#m1d7d831a2a\" y=\"214.756358\"/>\n     <use style=\"fill:#1f77b4;stroke:#1f77b4;\" x=\"73.706632\" xlink:href=\"#m1d7d831a2a\" y=\"214.756358\"/>\n     <use style=\"fill:#1f77b4;stroke:#1f77b4;\" x=\"107.180633\" xlink:href=\"#m1d7d831a2a\" y=\"214.756358\"/>\n     <use style=\"fill:#1f77b4;stroke:#1f77b4;\" x=\"125.439179\" xlink:href=\"#m1d7d831a2a\" y=\"214.756358\"/>\n     <use style=\"fill:#1f77b4;stroke:#1f77b4;\" x=\"101.094451\" xlink:href=\"#m1d7d831a2a\" y=\"214.756358\"/>\n     <use style=\"fill:#1f77b4;stroke:#1f77b4;\" x=\"134.568452\" xlink:href=\"#m1d7d831a2a\" y=\"214.756358\"/>\n     <use style=\"fill:#1f77b4;stroke:#1f77b4;\" x=\"70.663541\" xlink:href=\"#m1d7d831a2a\" y=\"214.756358\"/>\n     <use style=\"fill:#1f77b4;stroke:#1f77b4;\" x=\"104.137542\" xlink:href=\"#m1d7d831a2a\" y=\"214.756358\"/>\n     <use style=\"fill:#1f77b4;stroke:#1f77b4;\" x=\"85.878996\" xlink:href=\"#m1d7d831a2a\" y=\"214.756358\"/>\n     <use style=\"fill:#1f77b4;stroke:#1f77b4;\" x=\"371.92955\" xlink:href=\"#m1d7d831a2a\" y=\"214.756358\"/>\n     <use style=\"fill:#1f77b4;stroke:#1f77b4;\" x=\"164.999362\" xlink:href=\"#m1d7d831a2a\" y=\"214.756358\"/>\n     <use style=\"fill:#1f77b4;stroke:#1f77b4;\" x=\"95.008269\" xlink:href=\"#m1d7d831a2a\" y=\"214.756358\"/>\n     <use style=\"fill:#1f77b4;stroke:#1f77b4;\" x=\"79.792814\" xlink:href=\"#m1d7d831a2a\" y=\"214.756358\"/>\n     <use style=\"fill:#1f77b4;stroke:#1f77b4;\" x=\"73.706632\" xlink:href=\"#m1d7d831a2a\" y=\"214.756358\"/>\n     <use style=\"fill:#1f77b4;stroke:#1f77b4;\" x=\"73.706632\" xlink:href=\"#m1d7d831a2a\" y=\"214.756358\"/>\n     <use style=\"fill:#1f77b4;stroke:#1f77b4;\" x=\"119.352997\" xlink:href=\"#m1d7d831a2a\" y=\"214.756358\"/>\n     <use style=\"fill:#1f77b4;stroke:#1f77b4;\" x=\"134.568452\" xlink:href=\"#m1d7d831a2a\" y=\"214.756358\"/>\n     <use style=\"fill:#1f77b4;stroke:#1f77b4;\" x=\"67.62045\" xlink:href=\"#m1d7d831a2a\" y=\"214.756358\"/>\n     <use style=\"fill:#1f77b4;stroke:#1f77b4;\" x=\"85.878996\" xlink:href=\"#m1d7d831a2a\" y=\"214.756358\"/>\n     <use style=\"fill:#1f77b4;stroke:#1f77b4;\" x=\"371.92955\" xlink:href=\"#m1d7d831a2a\" y=\"214.756358\"/>\n     <use style=\"fill:#1f77b4;stroke:#1f77b4;\" x=\"76.749723\" xlink:href=\"#m1d7d831a2a\" y=\"214.756358\"/>\n     <use style=\"fill:#1f77b4;stroke:#1f77b4;\" x=\"95.008269\" xlink:href=\"#m1d7d831a2a\" y=\"214.756358\"/>\n     <use style=\"fill:#1f77b4;stroke:#1f77b4;\" x=\"250.20591\" xlink:href=\"#m1d7d831a2a\" y=\"214.756358\"/>\n     <use style=\"fill:#1f77b4;stroke:#1f77b4;\" x=\"95.008269\" xlink:href=\"#m1d7d831a2a\" y=\"214.756358\"/>\n     <use style=\"fill:#1f77b4;stroke:#1f77b4;\" x=\"73.706632\" xlink:href=\"#m1d7d831a2a\" y=\"214.756358\"/>\n     <use style=\"fill:#1f77b4;stroke:#1f77b4;\" x=\"104.137542\" xlink:href=\"#m1d7d831a2a\" y=\"214.756358\"/>\n     <use style=\"fill:#1f77b4;stroke:#1f77b4;\" x=\"91.965178\" xlink:href=\"#m1d7d831a2a\" y=\"214.756358\"/>\n     <use style=\"fill:#1f77b4;stroke:#1f77b4;\" x=\"88.922087\" xlink:href=\"#m1d7d831a2a\" y=\"214.756358\"/>\n     <use style=\"fill:#1f77b4;stroke:#1f77b4;\" x=\"265.421365\" xlink:href=\"#m1d7d831a2a\" y=\"214.756358\"/>\n     <use style=\"fill:#1f77b4;stroke:#1f77b4;\" x=\"149.783907\" xlink:href=\"#m1d7d831a2a\" y=\"214.756358\"/>\n     <use style=\"fill:#1f77b4;stroke:#1f77b4;\" x=\"161.956271\" xlink:href=\"#m1d7d831a2a\" y=\"214.756358\"/>\n     <use style=\"fill:#1f77b4;stroke:#1f77b4;\" x=\"277.593729\" xlink:href=\"#m1d7d831a2a\" y=\"214.756358\"/>\n     <use style=\"fill:#1f77b4;stroke:#1f77b4;\" x=\"113.266815\" xlink:href=\"#m1d7d831a2a\" y=\"214.756358\"/>\n     <use style=\"fill:#1f77b4;stroke:#1f77b4;\" x=\"177.171726\" xlink:href=\"#m1d7d831a2a\" y=\"214.756358\"/>\n     <use style=\"fill:#1f77b4;stroke:#1f77b4;\" x=\"67.62045\" xlink:href=\"#m1d7d831a2a\" y=\"214.756358\"/>\n     <use style=\"fill:#1f77b4;stroke:#1f77b4;\" x=\"131.525361\" xlink:href=\"#m1d7d831a2a\" y=\"214.756358\"/>\n     <use style=\"fill:#1f77b4;stroke:#1f77b4;\" x=\"371.92955\" xlink:href=\"#m1d7d831a2a\" y=\"214.756358\"/>\n     <use style=\"fill:#1f77b4;stroke:#1f77b4;\" x=\"113.266815\" xlink:href=\"#m1d7d831a2a\" y=\"214.756358\"/>\n     <use style=\"fill:#1f77b4;stroke:#1f77b4;\" x=\"101.094451\" xlink:href=\"#m1d7d831a2a\" y=\"214.756358\"/>\n     <use style=\"fill:#1f77b4;stroke:#1f77b4;\" x=\"168.042453\" xlink:href=\"#m1d7d831a2a\" y=\"214.756358\"/>\n     <use style=\"fill:#1f77b4;stroke:#1f77b4;\" x=\"213.688818\" xlink:href=\"#m1d7d831a2a\" y=\"214.756358\"/>\n     <use style=\"fill:#1f77b4;stroke:#1f77b4;\" x=\"371.92955\" xlink:href=\"#m1d7d831a2a\" y=\"214.756358\"/>\n     <use style=\"fill:#1f77b4;stroke:#1f77b4;\" x=\"253.249001\" xlink:href=\"#m1d7d831a2a\" y=\"214.756358\"/>\n     <use style=\"fill:#1f77b4;stroke:#1f77b4;\" x=\"250.20591\" xlink:href=\"#m1d7d831a2a\" y=\"214.756358\"/>\n     <use style=\"fill:#1f77b4;stroke:#1f77b4;\" x=\"371.92955\" xlink:href=\"#m1d7d831a2a\" y=\"214.756358\"/>\n     <use style=\"fill:#1f77b4;stroke:#1f77b4;\" x=\"371.92955\" xlink:href=\"#m1d7d831a2a\" y=\"214.756358\"/>\n     <use style=\"fill:#1f77b4;stroke:#1f77b4;\" x=\"207.602636\" xlink:href=\"#m1d7d831a2a\" y=\"214.756358\"/>\n     <use style=\"fill:#1f77b4;stroke:#1f77b4;\" x=\"73.706632\" xlink:href=\"#m1d7d831a2a\" y=\"214.756358\"/>\n     <use style=\"fill:#1f77b4;stroke:#1f77b4;\" x=\"177.171726\" xlink:href=\"#m1d7d831a2a\" y=\"214.756358\"/>\n     <use style=\"fill:#1f77b4;stroke:#1f77b4;\" x=\"76.749723\" xlink:href=\"#m1d7d831a2a\" y=\"214.756358\"/>\n     <use style=\"fill:#1f77b4;stroke:#1f77b4;\" x=\"335.412458\" xlink:href=\"#m1d7d831a2a\" y=\"214.756358\"/>\n     <use style=\"fill:#1f77b4;stroke:#1f77b4;\" x=\"73.706632\" xlink:href=\"#m1d7d831a2a\" y=\"17.083642\"/>\n     <use style=\"fill:#1f77b4;stroke:#1f77b4;\" x=\"371.92955\" xlink:href=\"#m1d7d831a2a\" y=\"214.756358\"/>\n     <use style=\"fill:#1f77b4;stroke:#1f77b4;\" x=\"371.92955\" xlink:href=\"#m1d7d831a2a\" y=\"214.756358\"/>\n     <use style=\"fill:#1f77b4;stroke:#1f77b4;\" x=\"222.818091\" xlink:href=\"#m1d7d831a2a\" y=\"214.756358\"/>\n     <use style=\"fill:#1f77b4;stroke:#1f77b4;\" x=\"262.378274\" xlink:href=\"#m1d7d831a2a\" y=\"214.756358\"/>\n     <use style=\"fill:#1f77b4;stroke:#1f77b4;\" x=\"76.749723\" xlink:href=\"#m1d7d831a2a\" y=\"17.083642\"/>\n     <use style=\"fill:#1f77b4;stroke:#1f77b4;\" x=\"76.749723\" xlink:href=\"#m1d7d831a2a\" y=\"214.756358\"/>\n     <use style=\"fill:#1f77b4;stroke:#1f77b4;\" x=\"119.352997\" xlink:href=\"#m1d7d831a2a\" y=\"214.756358\"/>\n     <use style=\"fill:#1f77b4;stroke:#1f77b4;\" x=\"110.223724\" xlink:href=\"#m1d7d831a2a\" y=\"17.083642\"/>\n     <use style=\"fill:#1f77b4;stroke:#1f77b4;\" x=\"76.749723\" xlink:href=\"#m1d7d831a2a\" y=\"214.756358\"/>\n     <use style=\"fill:#1f77b4;stroke:#1f77b4;\" x=\"67.62045\" xlink:href=\"#m1d7d831a2a\" y=\"214.756358\"/>\n     <use style=\"fill:#1f77b4;stroke:#1f77b4;\" x=\"371.92955\" xlink:href=\"#m1d7d831a2a\" y=\"214.756358\"/>\n     <use style=\"fill:#1f77b4;stroke:#1f77b4;\" x=\"371.92955\" xlink:href=\"#m1d7d831a2a\" y=\"17.083642\"/>\n     <use style=\"fill:#1f77b4;stroke:#1f77b4;\" x=\"67.62045\" xlink:href=\"#m1d7d831a2a\" y=\"214.756358\"/>\n    </g>\n   </g>\n   <g id=\"matplotlib.axis_1\">\n    <g id=\"xtick_1\">\n     <g id=\"line2d_1\">\n      <defs>\n       <path d=\"M 0 0 \nL 0 3.5 \n\" id=\"m90dedc93e2\" style=\"stroke:#000000;stroke-width:0.8;\"/>\n      </defs>\n      <g>\n       <use style=\"stroke:#000000;stroke-width:0.8;\" x=\"67.62045\" xlink:href=\"#m90dedc93e2\" y=\"224.64\"/>\n      </g>\n     </g>\n     <g id=\"text_1\">\n      <!-- 0 -->\n      <defs>\n       <path d=\"M 31.78125 66.40625 \nQ 24.171875 66.40625 20.328125 58.90625 \nQ 16.5 51.421875 16.5 36.375 \nQ 16.5 21.390625 20.328125 13.890625 \nQ 24.171875 6.390625 31.78125 6.390625 \nQ 39.453125 6.390625 43.28125 13.890625 \nQ 47.125 21.390625 47.125 36.375 \nQ 47.125 51.421875 43.28125 58.90625 \nQ 39.453125 66.40625 31.78125 66.40625 \nz\nM 31.78125 74.21875 \nQ 44.046875 74.21875 50.515625 64.515625 \nQ 56.984375 54.828125 56.984375 36.375 \nQ 56.984375 17.96875 50.515625 8.265625 \nQ 44.046875 -1.421875 31.78125 -1.421875 \nQ 19.53125 -1.421875 13.0625 8.265625 \nQ 6.59375 17.96875 6.59375 36.375 \nQ 6.59375 54.828125 13.0625 64.515625 \nQ 19.53125 74.21875 31.78125 74.21875 \nz\n\" id=\"DejaVuSans-48\"/>\n      </defs>\n      <g transform=\"translate(64.4392 239.238438)scale(0.1 -0.1)\">\n       <use xlink:href=\"#DejaVuSans-48\"/>\n      </g>\n     </g>\n    </g>\n    <g id=\"xtick_2\">\n     <g id=\"line2d_2\">\n      <g>\n       <use style=\"stroke:#000000;stroke-width:0.8;\" x=\"128.48227\" xlink:href=\"#m90dedc93e2\" y=\"224.64\"/>\n      </g>\n     </g>\n     <g id=\"text_2\">\n      <!-- 20 -->\n      <defs>\n       <path d=\"M 19.1875 8.296875 \nL 53.609375 8.296875 \nL 53.609375 0 \nL 7.328125 0 \nL 7.328125 8.296875 \nQ 12.9375 14.109375 22.625 23.890625 \nQ 32.328125 33.6875 34.8125 36.53125 \nQ 39.546875 41.84375 41.421875 45.53125 \nQ 43.3125 49.21875 43.3125 52.78125 \nQ 43.3125 58.59375 39.234375 62.25 \nQ 35.15625 65.921875 28.609375 65.921875 \nQ 23.96875 65.921875 18.8125 64.3125 \nQ 13.671875 62.703125 7.8125 59.421875 \nL 7.8125 69.390625 \nQ 13.765625 71.78125 18.9375 73 \nQ 24.125 74.21875 28.421875 74.21875 \nQ 39.75 74.21875 46.484375 68.546875 \nQ 53.21875 62.890625 53.21875 53.421875 \nQ 53.21875 48.921875 51.53125 44.890625 \nQ 49.859375 40.875 45.40625 35.40625 \nQ 44.1875 33.984375 37.640625 27.21875 \nQ 31.109375 20.453125 19.1875 8.296875 \nz\n\" id=\"DejaVuSans-50\"/>\n      </defs>\n      <g transform=\"translate(122.11977 239.238438)scale(0.1 -0.1)\">\n       <use xlink:href=\"#DejaVuSans-50\"/>\n       <use x=\"63.623047\" xlink:href=\"#DejaVuSans-48\"/>\n      </g>\n     </g>\n    </g>\n    <g id=\"xtick_3\">\n     <g id=\"line2d_3\">\n      <g>\n       <use style=\"stroke:#000000;stroke-width:0.8;\" x=\"189.34409\" xlink:href=\"#m90dedc93e2\" y=\"224.64\"/>\n      </g>\n     </g>\n     <g id=\"text_3\">\n      <!-- 40 -->\n      <defs>\n       <path d=\"M 37.796875 64.3125 \nL 12.890625 25.390625 \nL 37.796875 25.390625 \nz\nM 35.203125 72.90625 \nL 47.609375 72.90625 \nL 47.609375 25.390625 \nL 58.015625 25.390625 \nL 58.015625 17.1875 \nL 47.609375 17.1875 \nL 47.609375 0 \nL 37.796875 0 \nL 37.796875 17.1875 \nL 4.890625 17.1875 \nL 4.890625 26.703125 \nz\n\" id=\"DejaVuSans-52\"/>\n      </defs>\n      <g transform=\"translate(182.98159 239.238438)scale(0.1 -0.1)\">\n       <use xlink:href=\"#DejaVuSans-52\"/>\n       <use x=\"63.623047\" xlink:href=\"#DejaVuSans-48\"/>\n      </g>\n     </g>\n    </g>\n    <g id=\"xtick_4\">\n     <g id=\"line2d_4\">\n      <g>\n       <use style=\"stroke:#000000;stroke-width:0.8;\" x=\"250.20591\" xlink:href=\"#m90dedc93e2\" y=\"224.64\"/>\n      </g>\n     </g>\n     <g id=\"text_4\">\n      <!-- 60 -->\n      <defs>\n       <path d=\"M 33.015625 40.375 \nQ 26.375 40.375 22.484375 35.828125 \nQ 18.609375 31.296875 18.609375 23.390625 \nQ 18.609375 15.53125 22.484375 10.953125 \nQ 26.375 6.390625 33.015625 6.390625 \nQ 39.65625 6.390625 43.53125 10.953125 \nQ 47.40625 15.53125 47.40625 23.390625 \nQ 47.40625 31.296875 43.53125 35.828125 \nQ 39.65625 40.375 33.015625 40.375 \nz\nM 52.59375 71.296875 \nL 52.59375 62.3125 \nQ 48.875 64.0625 45.09375 64.984375 \nQ 41.3125 65.921875 37.59375 65.921875 \nQ 27.828125 65.921875 22.671875 59.328125 \nQ 17.53125 52.734375 16.796875 39.40625 \nQ 19.671875 43.65625 24.015625 45.921875 \nQ 28.375 48.1875 33.59375 48.1875 \nQ 44.578125 48.1875 50.953125 41.515625 \nQ 57.328125 34.859375 57.328125 23.390625 \nQ 57.328125 12.15625 50.6875 5.359375 \nQ 44.046875 -1.421875 33.015625 -1.421875 \nQ 20.359375 -1.421875 13.671875 8.265625 \nQ 6.984375 17.96875 6.984375 36.375 \nQ 6.984375 53.65625 15.1875 63.9375 \nQ 23.390625 74.21875 37.203125 74.21875 \nQ 40.921875 74.21875 44.703125 73.484375 \nQ 48.484375 72.75 52.59375 71.296875 \nz\n\" id=\"DejaVuSans-54\"/>\n      </defs>\n      <g transform=\"translate(243.84341 239.238438)scale(0.1 -0.1)\">\n       <use xlink:href=\"#DejaVuSans-54\"/>\n       <use x=\"63.623047\" xlink:href=\"#DejaVuSans-48\"/>\n      </g>\n     </g>\n    </g>\n    <g id=\"xtick_5\">\n     <g id=\"line2d_5\">\n      <g>\n       <use style=\"stroke:#000000;stroke-width:0.8;\" x=\"311.06773\" xlink:href=\"#m90dedc93e2\" y=\"224.64\"/>\n      </g>\n     </g>\n     <g id=\"text_5\">\n      <!-- 80 -->\n      <defs>\n       <path d=\"M 31.78125 34.625 \nQ 24.75 34.625 20.71875 30.859375 \nQ 16.703125 27.09375 16.703125 20.515625 \nQ 16.703125 13.921875 20.71875 10.15625 \nQ 24.75 6.390625 31.78125 6.390625 \nQ 38.8125 6.390625 42.859375 10.171875 \nQ 46.921875 13.96875 46.921875 20.515625 \nQ 46.921875 27.09375 42.890625 30.859375 \nQ 38.875 34.625 31.78125 34.625 \nz\nM 21.921875 38.8125 \nQ 15.578125 40.375 12.03125 44.71875 \nQ 8.5 49.078125 8.5 55.328125 \nQ 8.5 64.0625 14.71875 69.140625 \nQ 20.953125 74.21875 31.78125 74.21875 \nQ 42.671875 74.21875 48.875 69.140625 \nQ 55.078125 64.0625 55.078125 55.328125 \nQ 55.078125 49.078125 51.53125 44.71875 \nQ 48 40.375 41.703125 38.8125 \nQ 48.828125 37.15625 52.796875 32.3125 \nQ 56.78125 27.484375 56.78125 20.515625 \nQ 56.78125 9.90625 50.3125 4.234375 \nQ 43.84375 -1.421875 31.78125 -1.421875 \nQ 19.734375 -1.421875 13.25 4.234375 \nQ 6.78125 9.90625 6.78125 20.515625 \nQ 6.78125 27.484375 10.78125 32.3125 \nQ 14.796875 37.15625 21.921875 38.8125 \nz\nM 18.3125 54.390625 \nQ 18.3125 48.734375 21.84375 45.5625 \nQ 25.390625 42.390625 31.78125 42.390625 \nQ 38.140625 42.390625 41.71875 45.5625 \nQ 45.3125 48.734375 45.3125 54.390625 \nQ 45.3125 60.0625 41.71875 63.234375 \nQ 38.140625 66.40625 31.78125 66.40625 \nQ 25.390625 66.40625 21.84375 63.234375 \nQ 18.3125 60.0625 18.3125 54.390625 \nz\n\" id=\"DejaVuSans-56\"/>\n      </defs>\n      <g transform=\"translate(304.70523 239.238438)scale(0.1 -0.1)\">\n       <use xlink:href=\"#DejaVuSans-56\"/>\n       <use x=\"63.623047\" xlink:href=\"#DejaVuSans-48\"/>\n      </g>\n     </g>\n    </g>\n    <g id=\"xtick_6\">\n     <g id=\"line2d_6\">\n      <g>\n       <use style=\"stroke:#000000;stroke-width:0.8;\" x=\"371.92955\" xlink:href=\"#m90dedc93e2\" y=\"224.64\"/>\n      </g>\n     </g>\n     <g id=\"text_6\">\n      <!-- 100 -->\n      <defs>\n       <path d=\"M 12.40625 8.296875 \nL 28.515625 8.296875 \nL 28.515625 63.921875 \nL 10.984375 60.40625 \nL 10.984375 69.390625 \nL 28.421875 72.90625 \nL 38.28125 72.90625 \nL 38.28125 8.296875 \nL 54.390625 8.296875 \nL 54.390625 0 \nL 12.40625 0 \nz\n\" id=\"DejaVuSans-49\"/>\n      </defs>\n      <g transform=\"translate(362.3858 239.238438)scale(0.1 -0.1)\">\n       <use xlink:href=\"#DejaVuSans-49\"/>\n       <use x=\"63.623047\" xlink:href=\"#DejaVuSans-48\"/>\n       <use x=\"127.246094\" xlink:href=\"#DejaVuSans-48\"/>\n      </g>\n     </g>\n    </g>\n   </g>\n   <g id=\"matplotlib.axis_2\">\n    <g id=\"ytick_1\">\n     <g id=\"line2d_7\">\n      <defs>\n       <path d=\"M 0 0 \nL -3.5 0 \n\" id=\"m0753ab39af\" style=\"stroke:#000000;stroke-width:0.8;\"/>\n      </defs>\n      <g>\n       <use style=\"stroke:#000000;stroke-width:0.8;\" x=\"52.375\" xlink:href=\"#m0753ab39af\" y=\"192.792723\"/>\n      </g>\n     </g>\n     <g id=\"text_7\">\n      <!-- 100000 -->\n      <g transform=\"translate(7.2 196.591941)scale(0.1 -0.1)\">\n       <use xlink:href=\"#DejaVuSans-49\"/>\n       <use x=\"63.623047\" xlink:href=\"#DejaVuSans-48\"/>\n       <use x=\"127.246094\" xlink:href=\"#DejaVuSans-48\"/>\n       <use x=\"190.869141\" xlink:href=\"#DejaVuSans-48\"/>\n       <use x=\"254.492188\" xlink:href=\"#DejaVuSans-48\"/>\n       <use x=\"318.115234\" xlink:href=\"#DejaVuSans-48\"/>\n      </g>\n     </g>\n    </g>\n    <g id=\"ytick_2\">\n     <g id=\"line2d_8\">\n      <g>\n       <use style=\"stroke:#000000;stroke-width:0.8;\" x=\"52.375\" xlink:href=\"#m0753ab39af\" y=\"148.865453\"/>\n      </g>\n     </g>\n     <g id=\"text_8\">\n      <!-- 200000 -->\n      <g transform=\"translate(7.2 152.664671)scale(0.1 -0.1)\">\n       <use xlink:href=\"#DejaVuSans-50\"/>\n       <use x=\"63.623047\" xlink:href=\"#DejaVuSans-48\"/>\n       <use x=\"127.246094\" xlink:href=\"#DejaVuSans-48\"/>\n       <use x=\"190.869141\" xlink:href=\"#DejaVuSans-48\"/>\n       <use x=\"254.492188\" xlink:href=\"#DejaVuSans-48\"/>\n       <use x=\"318.115234\" xlink:href=\"#DejaVuSans-48\"/>\n      </g>\n     </g>\n    </g>\n    <g id=\"ytick_3\">\n     <g id=\"line2d_9\">\n      <g>\n       <use style=\"stroke:#000000;stroke-width:0.8;\" x=\"52.375\" xlink:href=\"#m0753ab39af\" y=\"104.938182\"/>\n      </g>\n     </g>\n     <g id=\"text_9\">\n      <!-- 300000 -->\n      <defs>\n       <path d=\"M 40.578125 39.3125 \nQ 47.65625 37.796875 51.625 33 \nQ 55.609375 28.21875 55.609375 21.1875 \nQ 55.609375 10.40625 48.1875 4.484375 \nQ 40.765625 -1.421875 27.09375 -1.421875 \nQ 22.515625 -1.421875 17.65625 -0.515625 \nQ 12.796875 0.390625 7.625 2.203125 \nL 7.625 11.71875 \nQ 11.71875 9.328125 16.59375 8.109375 \nQ 21.484375 6.890625 26.8125 6.890625 \nQ 36.078125 6.890625 40.9375 10.546875 \nQ 45.796875 14.203125 45.796875 21.1875 \nQ 45.796875 27.640625 41.28125 31.265625 \nQ 36.765625 34.90625 28.71875 34.90625 \nL 20.21875 34.90625 \nL 20.21875 43.015625 \nL 29.109375 43.015625 \nQ 36.375 43.015625 40.234375 45.921875 \nQ 44.09375 48.828125 44.09375 54.296875 \nQ 44.09375 59.90625 40.109375 62.90625 \nQ 36.140625 65.921875 28.71875 65.921875 \nQ 24.65625 65.921875 20.015625 65.03125 \nQ 15.375 64.15625 9.8125 62.3125 \nL 9.8125 71.09375 \nQ 15.4375 72.65625 20.34375 73.4375 \nQ 25.25 74.21875 29.59375 74.21875 \nQ 40.828125 74.21875 47.359375 69.109375 \nQ 53.90625 64.015625 53.90625 55.328125 \nQ 53.90625 49.265625 50.4375 45.09375 \nQ 46.96875 40.921875 40.578125 39.3125 \nz\n\" id=\"DejaVuSans-51\"/>\n      </defs>\n      <g transform=\"translate(7.2 108.737401)scale(0.1 -0.1)\">\n       <use xlink:href=\"#DejaVuSans-51\"/>\n       <use x=\"63.623047\" xlink:href=\"#DejaVuSans-48\"/>\n       <use x=\"127.246094\" xlink:href=\"#DejaVuSans-48\"/>\n       <use x=\"190.869141\" xlink:href=\"#DejaVuSans-48\"/>\n       <use x=\"254.492188\" xlink:href=\"#DejaVuSans-48\"/>\n       <use x=\"318.115234\" xlink:href=\"#DejaVuSans-48\"/>\n      </g>\n     </g>\n    </g>\n    <g id=\"ytick_4\">\n     <g id=\"line2d_10\">\n      <g>\n       <use style=\"stroke:#000000;stroke-width:0.8;\" x=\"52.375\" xlink:href=\"#m0753ab39af\" y=\"61.010912\"/>\n      </g>\n     </g>\n     <g id=\"text_10\">\n      <!-- 400000 -->\n      <g transform=\"translate(7.2 64.810131)scale(0.1 -0.1)\">\n       <use xlink:href=\"#DejaVuSans-52\"/>\n       <use x=\"63.623047\" xlink:href=\"#DejaVuSans-48\"/>\n       <use x=\"127.246094\" xlink:href=\"#DejaVuSans-48\"/>\n       <use x=\"190.869141\" xlink:href=\"#DejaVuSans-48\"/>\n       <use x=\"254.492188\" xlink:href=\"#DejaVuSans-48\"/>\n       <use x=\"318.115234\" xlink:href=\"#DejaVuSans-48\"/>\n      </g>\n     </g>\n    </g>\n    <g id=\"ytick_5\">\n     <g id=\"line2d_11\">\n      <g>\n       <use style=\"stroke:#000000;stroke-width:0.8;\" x=\"52.375\" xlink:href=\"#m0753ab39af\" y=\"17.083642\"/>\n      </g>\n     </g>\n     <g id=\"text_11\">\n      <!-- 500000 -->\n      <defs>\n       <path d=\"M 10.796875 72.90625 \nL 49.515625 72.90625 \nL 49.515625 64.59375 \nL 19.828125 64.59375 \nL 19.828125 46.734375 \nQ 21.96875 47.46875 24.109375 47.828125 \nQ 26.265625 48.1875 28.421875 48.1875 \nQ 40.625 48.1875 47.75 41.5 \nQ 54.890625 34.8125 54.890625 23.390625 \nQ 54.890625 11.625 47.5625 5.09375 \nQ 40.234375 -1.421875 26.90625 -1.421875 \nQ 22.3125 -1.421875 17.546875 -0.640625 \nQ 12.796875 0.140625 7.71875 1.703125 \nL 7.71875 11.625 \nQ 12.109375 9.234375 16.796875 8.0625 \nQ 21.484375 6.890625 26.703125 6.890625 \nQ 35.15625 6.890625 40.078125 11.328125 \nQ 45.015625 15.765625 45.015625 23.390625 \nQ 45.015625 31 40.078125 35.4375 \nQ 35.15625 39.890625 26.703125 39.890625 \nQ 22.75 39.890625 18.8125 39.015625 \nQ 14.890625 38.140625 10.796875 36.28125 \nz\n\" id=\"DejaVuSans-53\"/>\n      </defs>\n      <g transform=\"translate(7.2 20.882861)scale(0.1 -0.1)\">\n       <use xlink:href=\"#DejaVuSans-53\"/>\n       <use x=\"63.623047\" xlink:href=\"#DejaVuSans-48\"/>\n       <use x=\"127.246094\" xlink:href=\"#DejaVuSans-48\"/>\n       <use x=\"190.869141\" xlink:href=\"#DejaVuSans-48\"/>\n       <use x=\"254.492188\" xlink:href=\"#DejaVuSans-48\"/>\n       <use x=\"318.115234\" xlink:href=\"#DejaVuSans-48\"/>\n      </g>\n     </g>\n    </g>\n   </g>\n   <g id=\"patch_3\">\n    <path d=\"M 52.375 224.64 \nL 52.375 7.2 \n\" style=\"fill:none;stroke:#000000;stroke-linecap:square;stroke-linejoin:miter;stroke-width:0.8;\"/>\n   </g>\n   <g id=\"patch_4\">\n    <path d=\"M 387.175 224.64 \nL 387.175 7.2 \n\" style=\"fill:none;stroke:#000000;stroke-linecap:square;stroke-linejoin:miter;stroke-width:0.8;\"/>\n   </g>\n   <g id=\"patch_5\">\n    <path d=\"M 52.375 224.64 \nL 387.175 224.64 \n\" style=\"fill:none;stroke:#000000;stroke-linecap:square;stroke-linejoin:miter;stroke-width:0.8;\"/>\n   </g>\n   <g id=\"patch_6\">\n    <path d=\"M 52.375 7.2 \nL 387.175 7.2 \n\" style=\"fill:none;stroke:#000000;stroke-linecap:square;stroke-linejoin:miter;stroke-width:0.8;\"/>\n   </g>\n  </g>\n </g>\n <defs>\n  <clipPath id=\"pe1883564f6\">\n   <rect height=\"217.44\" width=\"334.8\" x=\"52.375\" y=\"7.2\"/>\n  </clipPath>\n </defs>\n</svg>\n",
      "image/png": "[encoded data removed]"
     },
     "metadata": {
      "needs_background": "light"
     }
    }
   ],
   "source": [
    "plt.scatter(competition_value, avg_monthly_searches)"
   ]
  },
  {
   "cell_type": "code",
   "execution_count": null,
   "metadata": {},
   "outputs": [],
   "source": []
  }
 ]
}