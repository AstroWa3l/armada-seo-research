{
 "cells": [
  {
   "cell_type": "markdown",
   "metadata": {},
   "source": [
    "# Raspberry Pi SEO Research"
   ]
  },
  {
   "cell_type": "markdown",
   "metadata": {},
   "source": [
    "## Let's do some basic analysis of keywords related to \"raspberry pi\"\n",
    "\n",
    "\n",
    "1. First we need to import the modules needed to build our db and run analysis\n",
    "2. import the csv file with the keywords given by the google keyword planner\n",
    "3. build a Pandas db\n",
    "4. Analyze"
   ]
  },
  {
   "cell_type": "code",
   "execution_count": 1,
   "metadata": {},
   "outputs": [],
   "source": [
    "#Importing packages\n",
    "import math as m\n",
    "import pandas as pd\n",
    "import matplotlib.pyplot as plt\n",
    "import numpy as np\n",
    "import seaborn as sns\n",
    "from sklearn.preprocessing import StandardScaler\n",
    "from sklearn.preprocessing import MinMaxScaler\n",
    "from sklearn.cluster import KMeans\n",
    "from sklearn.model_selection import train_test_split \n",
    "from sklearn.linear_model import LinearRegression\n",
    "from sklearn import metrics\n",
    "\n",
    "pd.options.mode.chained_assignment = None  # default='warn'\n",
    "\n",
    "\n",
    "pd.options.display.max_columns = 70\n",
    "pd.options.display.max_rows = 99"
   ]
  },
  {
   "cell_type": "code",
   "execution_count": 46,
   "metadata": {},
   "outputs": [],
   "source": [
    "import os"
   ]
  },
  {
   "cell_type": "code",
   "execution_count": 2,
   "metadata": {},
   "outputs": [],
   "source": [
    "df = pd.read_excel('raspberry-pi-seo.xlsx', sheet_name='raspberry-pi-seo')"
   ]
  },
  {
   "cell_type": "markdown",
   "metadata": {},
   "source": [
    "### **Let's check out the number of terms (keywords) that have been given to use by the heyword planner tool**\n",
    "    - To do this we can just check the number of rows that are give in the pandas dataframe by using \"shape\" function"
   ]
  },
  {
   "cell_type": "code",
   "execution_count": 3,
   "metadata": {},
   "outputs": [
    {
     "data": {
      "text/plain": [
       "710"
      ]
     },
     "execution_count": 3,
     "metadata": {},
     "output_type": "execute_result"
    }
   ],
   "source": [
    "num_rows = df.shape[0]\n",
    "num_rows"
   ]
  },
  {
   "cell_type": "markdown",
   "metadata": {},
   "source": [
    "- Okay, so we can see that there are 710 terms in our dataset, what we are going to do now is break this down into three categories"
   ]
  },
  {
   "cell_type": "code",
   "execution_count": 4,
   "metadata": {},
   "outputs": [],
   "source": [
    "df1 = df.groupby(['Keyword', 'Avg. monthly searches']).size().unstack(fill_value=0)"
   ]
  },
  {
   "cell_type": "code",
   "execution_count": 23,
   "metadata": {},
   "outputs": [],
   "source": [
    "aboveEqual_five_thousand = df.loc[df['Avg. monthly searches'] >= 5000]\n",
    "aboveEqual_fifty_thousand = df.loc[df['Avg. monthly searches'] >= 50000]\n",
    "aboveEqual_fiveHundred_thousand = df.loc[df['Avg. monthly searches'] >= 500000]"
   ]
  },
  {
   "cell_type": "markdown",
   "metadata": {},
   "source": [
    "### **Let's check out the number of terms (keywords) that have a Average monthly search rate above 5,000**\n"
   ]
  },
  {
   "cell_type": "code",
   "execution_count": 24,
   "metadata": {},
   "outputs": [
    {
     "data": {
      "text/plain": [
       "65"
      ]
     },
     "execution_count": 24,
     "metadata": {},
     "output_type": "execute_result"
    }
   ],
   "source": [
    "num_rows5k = aboveEqual_five_thousand.shape[0]\n",
    "num_rows5k"
   ]
  },
  {
   "cell_type": "markdown",
   "metadata": {},
   "source": [
    "### **Let's check out the number of terms (keywords) that have a Average monthly search rate above 50,000**\n"
   ]
  },
  {
   "cell_type": "code",
   "execution_count": 25,
   "metadata": {},
   "outputs": [
    {
     "data": {
      "text/plain": [
       "8"
      ]
     },
     "execution_count": 25,
     "metadata": {},
     "output_type": "execute_result"
    }
   ],
   "source": [
    "num_rows50k = aboveEqual_fifty_thousand.shape[0]\n",
    "num_rows50k"
   ]
  },
  {
   "cell_type": "markdown",
   "metadata": {},
   "source": [
    "### **Let's check out the number of terms (keywords) that have a Average monthly search rate above 500,000**\n"
   ]
  },
  {
   "cell_type": "code",
   "execution_count": 26,
   "metadata": {},
   "outputs": [
    {
     "data": {
      "text/plain": [
       "1"
      ]
     },
     "execution_count": 26,
     "metadata": {},
     "output_type": "execute_result"
    }
   ],
   "source": [
    "num_rows500k = aboveEqual_fiveHundred_thousand.shape[0]\n",
    "num_rows500k"
   ]
  },
  {
   "cell_type": "markdown",
   "metadata": {},
   "source": [
    "## Analysis\n",
    "\n",
    "#### It is clear to me that we should mainly focus on the keywords related to \"raspberry pi\" that have an average monthly search \n",
    "\n",
    "#### frequency greater than or equal to 50,000 for now. So let's make a new df with these keywords and then we can extract the terms \n",
    "\n",
    "#### and put them into an array to be used for the website."
   ]
  },
  {
   "cell_type": "code",
   "execution_count": 29,
   "metadata": {},
   "outputs": [
    {
     "data": {
      "text/html": [
       "<div>\n",
       "<style scoped>\n",
       "    .dataframe tbody tr th:only-of-type {\n",
       "        vertical-align: middle;\n",
       "    }\n",
       "\n",
       "    .dataframe tbody tr th {\n",
       "        vertical-align: top;\n",
       "    }\n",
       "\n",
       "    .dataframe thead th {\n",
       "        text-align: right;\n",
       "    }\n",
       "</style>\n",
       "<table border=\"1\" class=\"dataframe\">\n",
       "  <thead>\n",
       "    <tr style=\"text-align: right;\">\n",
       "      <th></th>\n",
       "      <th>Keyword</th>\n",
       "      <th>Currency</th>\n",
       "      <th>Avg. monthly searches</th>\n",
       "      <th>Competition</th>\n",
       "      <th>Competition (indexed value)</th>\n",
       "      <th>Top of page bid (low range)</th>\n",
       "      <th>Top of page bid (high range)</th>\n",
       "      <th>Ad impression share</th>\n",
       "      <th>Organic impression share</th>\n",
       "      <th>Organic average position</th>\n",
       "      <th>In account?</th>\n",
       "      <th>In plan?</th>\n",
       "      <th>Searches: Jun 2020</th>\n",
       "      <th>Searches: Jul 2020</th>\n",
       "      <th>Searches: Aug 2020</th>\n",
       "      <th>Searches: Sep 2020</th>\n",
       "      <th>Searches: Oct 2020</th>\n",
       "      <th>Searches: Nov 2020</th>\n",
       "      <th>Searches: Dec 2020</th>\n",
       "      <th>Searches: Jan 2021</th>\n",
       "      <th>Searches: Feb 2021</th>\n",
       "      <th>Searches: Mar 2021</th>\n",
       "      <th>Searches: Apr 2021</th>\n",
       "      <th>Searches: May 2021</th>\n",
       "      <th>Concept: Platform</th>\n",
       "      <th>Concept: Phosphoinositide</th>\n",
       "      <th>Concept: Operating System</th>\n",
       "      <th>Concept: Company</th>\n",
       "      <th>Concept: Other Brands</th>\n",
       "      <th>Concept: Gene</th>\n",
       "      <th>Concept: Non-Brands</th>\n",
       "      <th>Concept: Others</th>\n",
       "    </tr>\n",
       "  </thead>\n",
       "  <tbody>\n",
       "    <tr>\n",
       "      <th>1</th>\n",
       "      <td>raspberry pi</td>\n",
       "      <td>USD</td>\n",
       "      <td>500000</td>\n",
       "      <td>High</td>\n",
       "      <td>97.0</td>\n",
       "      <td>0.15</td>\n",
       "      <td>3.03</td>\n",
       "      <td>NaN</td>\n",
       "      <td>NaN</td>\n",
       "      <td>NaN</td>\n",
       "      <td>NaN</td>\n",
       "      <td>NaN</td>\n",
       "      <td>NaN</td>\n",
       "      <td>NaN</td>\n",
       "      <td>NaN</td>\n",
       "      <td>NaN</td>\n",
       "      <td>NaN</td>\n",
       "      <td>NaN</td>\n",
       "      <td>NaN</td>\n",
       "      <td>NaN</td>\n",
       "      <td>NaN</td>\n",
       "      <td>NaN</td>\n",
       "      <td>NaN</td>\n",
       "      <td>NaN</td>\n",
       "      <td>NaN</td>\n",
       "      <td>NaN</td>\n",
       "      <td>NaN</td>\n",
       "      <td>NaN</td>\n",
       "      <td>NaN</td>\n",
       "      <td>NaN</td>\n",
       "      <td>NaN</td>\n",
       "      <td>NaN</td>\n",
       "    </tr>\n",
       "    <tr>\n",
       "      <th>2</th>\n",
       "      <td>raspberry pi 4</td>\n",
       "      <td>USD</td>\n",
       "      <td>50000</td>\n",
       "      <td>High</td>\n",
       "      <td>97.0</td>\n",
       "      <td>0.18</td>\n",
       "      <td>0.99</td>\n",
       "      <td>NaN</td>\n",
       "      <td>NaN</td>\n",
       "      <td>NaN</td>\n",
       "      <td>NaN</td>\n",
       "      <td>NaN</td>\n",
       "      <td>NaN</td>\n",
       "      <td>NaN</td>\n",
       "      <td>NaN</td>\n",
       "      <td>NaN</td>\n",
       "      <td>NaN</td>\n",
       "      <td>NaN</td>\n",
       "      <td>NaN</td>\n",
       "      <td>NaN</td>\n",
       "      <td>NaN</td>\n",
       "      <td>NaN</td>\n",
       "      <td>NaN</td>\n",
       "      <td>NaN</td>\n",
       "      <td>NaN</td>\n",
       "      <td>pi 4</td>\n",
       "      <td>NaN</td>\n",
       "      <td>NaN</td>\n",
       "      <td>NaN</td>\n",
       "      <td>pi4</td>\n",
       "      <td>Non-Brands</td>\n",
       "      <td>NaN</td>\n",
       "    </tr>\n",
       "    <tr>\n",
       "      <th>3</th>\n",
       "      <td>raspberry pi 400</td>\n",
       "      <td>USD</td>\n",
       "      <td>50000</td>\n",
       "      <td>High</td>\n",
       "      <td>100.0</td>\n",
       "      <td>0.14</td>\n",
       "      <td>0.57</td>\n",
       "      <td>NaN</td>\n",
       "      <td>NaN</td>\n",
       "      <td>NaN</td>\n",
       "      <td>NaN</td>\n",
       "      <td>NaN</td>\n",
       "      <td>NaN</td>\n",
       "      <td>NaN</td>\n",
       "      <td>NaN</td>\n",
       "      <td>NaN</td>\n",
       "      <td>NaN</td>\n",
       "      <td>NaN</td>\n",
       "      <td>NaN</td>\n",
       "      <td>NaN</td>\n",
       "      <td>NaN</td>\n",
       "      <td>NaN</td>\n",
       "      <td>NaN</td>\n",
       "      <td>NaN</td>\n",
       "      <td>NaN</td>\n",
       "      <td>NaN</td>\n",
       "      <td>NaN</td>\n",
       "      <td>NaN</td>\n",
       "      <td>NaN</td>\n",
       "      <td>NaN</td>\n",
       "      <td>Non-Brands</td>\n",
       "      <td>NaN</td>\n",
       "    </tr>\n",
       "    <tr>\n",
       "      <th>4</th>\n",
       "      <td>raspberry pi 3</td>\n",
       "      <td>USD</td>\n",
       "      <td>50000</td>\n",
       "      <td>High</td>\n",
       "      <td>100.0</td>\n",
       "      <td>0.27</td>\n",
       "      <td>0.89</td>\n",
       "      <td>NaN</td>\n",
       "      <td>NaN</td>\n",
       "      <td>NaN</td>\n",
       "      <td>NaN</td>\n",
       "      <td>NaN</td>\n",
       "      <td>NaN</td>\n",
       "      <td>NaN</td>\n",
       "      <td>NaN</td>\n",
       "      <td>NaN</td>\n",
       "      <td>NaN</td>\n",
       "      <td>NaN</td>\n",
       "      <td>NaN</td>\n",
       "      <td>NaN</td>\n",
       "      <td>NaN</td>\n",
       "      <td>NaN</td>\n",
       "      <td>NaN</td>\n",
       "      <td>NaN</td>\n",
       "      <td>NaN</td>\n",
       "      <td>pi 3</td>\n",
       "      <td>NaN</td>\n",
       "      <td>NaN</td>\n",
       "      <td>NaN</td>\n",
       "      <td>pi3</td>\n",
       "      <td>Non-Brands</td>\n",
       "      <td>NaN</td>\n",
       "    </tr>\n",
       "    <tr>\n",
       "      <th>5</th>\n",
       "      <td>raspberry pi zero</td>\n",
       "      <td>USD</td>\n",
       "      <td>50000</td>\n",
       "      <td>High</td>\n",
       "      <td>100.0</td>\n",
       "      <td>0.22</td>\n",
       "      <td>0.95</td>\n",
       "      <td>NaN</td>\n",
       "      <td>NaN</td>\n",
       "      <td>NaN</td>\n",
       "      <td>NaN</td>\n",
       "      <td>NaN</td>\n",
       "      <td>NaN</td>\n",
       "      <td>NaN</td>\n",
       "      <td>NaN</td>\n",
       "      <td>NaN</td>\n",
       "      <td>NaN</td>\n",
       "      <td>NaN</td>\n",
       "      <td>NaN</td>\n",
       "      <td>NaN</td>\n",
       "      <td>NaN</td>\n",
       "      <td>NaN</td>\n",
       "      <td>NaN</td>\n",
       "      <td>NaN</td>\n",
       "      <td>NaN</td>\n",
       "      <td>raspberry pi zero</td>\n",
       "      <td>NaN</td>\n",
       "      <td>NaN</td>\n",
       "      <td>NaN</td>\n",
       "      <td>NaN</td>\n",
       "      <td>Non-Brands</td>\n",
       "      <td>NaN</td>\n",
       "    </tr>\n",
       "    <tr>\n",
       "      <th>6</th>\n",
       "      <td>raspberry pi 4 8gb</td>\n",
       "      <td>USD</td>\n",
       "      <td>50000</td>\n",
       "      <td>High</td>\n",
       "      <td>100.0</td>\n",
       "      <td>0.37</td>\n",
       "      <td>0.50</td>\n",
       "      <td>NaN</td>\n",
       "      <td>NaN</td>\n",
       "      <td>NaN</td>\n",
       "      <td>NaN</td>\n",
       "      <td>NaN</td>\n",
       "      <td>NaN</td>\n",
       "      <td>NaN</td>\n",
       "      <td>NaN</td>\n",
       "      <td>NaN</td>\n",
       "      <td>NaN</td>\n",
       "      <td>NaN</td>\n",
       "      <td>NaN</td>\n",
       "      <td>NaN</td>\n",
       "      <td>NaN</td>\n",
       "      <td>NaN</td>\n",
       "      <td>NaN</td>\n",
       "      <td>NaN</td>\n",
       "      <td>NaN</td>\n",
       "      <td>pi 4, raspberry pi model b</td>\n",
       "      <td>NaN</td>\n",
       "      <td>NaN</td>\n",
       "      <td>NaN</td>\n",
       "      <td>pi4</td>\n",
       "      <td>Non-Brands</td>\n",
       "      <td>NaN</td>\n",
       "    </tr>\n",
       "    <tr>\n",
       "      <th>7</th>\n",
       "      <td>pi4</td>\n",
       "      <td>USD</td>\n",
       "      <td>50000</td>\n",
       "      <td>Low</td>\n",
       "      <td>31.0</td>\n",
       "      <td>0.21</td>\n",
       "      <td>1.56</td>\n",
       "      <td>NaN</td>\n",
       "      <td>NaN</td>\n",
       "      <td>NaN</td>\n",
       "      <td>NaN</td>\n",
       "      <td>NaN</td>\n",
       "      <td>NaN</td>\n",
       "      <td>NaN</td>\n",
       "      <td>NaN</td>\n",
       "      <td>NaN</td>\n",
       "      <td>NaN</td>\n",
       "      <td>NaN</td>\n",
       "      <td>NaN</td>\n",
       "      <td>NaN</td>\n",
       "      <td>NaN</td>\n",
       "      <td>NaN</td>\n",
       "      <td>NaN</td>\n",
       "      <td>NaN</td>\n",
       "      <td>NaN</td>\n",
       "      <td>pi 4</td>\n",
       "      <td>NaN</td>\n",
       "      <td>NaN</td>\n",
       "      <td>NaN</td>\n",
       "      <td>pi4</td>\n",
       "      <td>Non-Brands</td>\n",
       "      <td>NaN</td>\n",
       "    </tr>\n",
       "    <tr>\n",
       "      <th>8</th>\n",
       "      <td>r pi</td>\n",
       "      <td>USD</td>\n",
       "      <td>50000</td>\n",
       "      <td>Low</td>\n",
       "      <td>0.0</td>\n",
       "      <td>1.14</td>\n",
       "      <td>4.72</td>\n",
       "      <td>NaN</td>\n",
       "      <td>NaN</td>\n",
       "      <td>NaN</td>\n",
       "      <td>NaN</td>\n",
       "      <td>NaN</td>\n",
       "      <td>NaN</td>\n",
       "      <td>NaN</td>\n",
       "      <td>NaN</td>\n",
       "      <td>NaN</td>\n",
       "      <td>NaN</td>\n",
       "      <td>NaN</td>\n",
       "      <td>NaN</td>\n",
       "      <td>NaN</td>\n",
       "      <td>NaN</td>\n",
       "      <td>NaN</td>\n",
       "      <td>NaN</td>\n",
       "      <td>NaN</td>\n",
       "      <td>NaN</td>\n",
       "      <td>NaN</td>\n",
       "      <td>NaN</td>\n",
       "      <td>NaN</td>\n",
       "      <td>NaN</td>\n",
       "      <td>NaN</td>\n",
       "      <td>Non-Brands</td>\n",
       "      <td>NaN</td>\n",
       "    </tr>\n",
       "  </tbody>\n",
       "</table>\n",
       "</div>"
      ],
      "text/plain": [
       "              Keyword Currency  Avg. monthly searches Competition  \\\n",
       "1        raspberry pi      USD                 500000        High   \n",
       "2      raspberry pi 4      USD                  50000        High   \n",
       "3    raspberry pi 400      USD                  50000        High   \n",
       "4      raspberry pi 3      USD                  50000        High   \n",
       "5   raspberry pi zero      USD                  50000        High   \n",
       "6  raspberry pi 4 8gb      USD                  50000        High   \n",
       "7                 pi4      USD                  50000         Low   \n",
       "8                r pi      USD                  50000         Low   \n",
       "\n",
       "   Competition (indexed value)  Top of page bid (low range)  \\\n",
       "1                         97.0                         0.15   \n",
       "2                         97.0                         0.18   \n",
       "3                        100.0                         0.14   \n",
       "4                        100.0                         0.27   \n",
       "5                        100.0                         0.22   \n",
       "6                        100.0                         0.37   \n",
       "7                         31.0                         0.21   \n",
       "8                          0.0                         1.14   \n",
       "\n",
       "   Top of page bid (high range)  Ad impression share  \\\n",
       "1                          3.03                  NaN   \n",
       "2                          0.99                  NaN   \n",
       "3                          0.57                  NaN   \n",
       "4                          0.89                  NaN   \n",
       "5                          0.95                  NaN   \n",
       "6                          0.50                  NaN   \n",
       "7                          1.56                  NaN   \n",
       "8                          4.72                  NaN   \n",
       "\n",
       "   Organic impression share  Organic average position  In account?  In plan?  \\\n",
       "1                       NaN                       NaN          NaN       NaN   \n",
       "2                       NaN                       NaN          NaN       NaN   \n",
       "3                       NaN                       NaN          NaN       NaN   \n",
       "4                       NaN                       NaN          NaN       NaN   \n",
       "5                       NaN                       NaN          NaN       NaN   \n",
       "6                       NaN                       NaN          NaN       NaN   \n",
       "7                       NaN                       NaN          NaN       NaN   \n",
       "8                       NaN                       NaN          NaN       NaN   \n",
       "\n",
       "   Searches: Jun 2020  Searches: Jul 2020  Searches: Aug 2020  \\\n",
       "1                 NaN                 NaN                 NaN   \n",
       "2                 NaN                 NaN                 NaN   \n",
       "3                 NaN                 NaN                 NaN   \n",
       "4                 NaN                 NaN                 NaN   \n",
       "5                 NaN                 NaN                 NaN   \n",
       "6                 NaN                 NaN                 NaN   \n",
       "7                 NaN                 NaN                 NaN   \n",
       "8                 NaN                 NaN                 NaN   \n",
       "\n",
       "   Searches: Sep 2020  Searches: Oct 2020  Searches: Nov 2020  \\\n",
       "1                 NaN                 NaN                 NaN   \n",
       "2                 NaN                 NaN                 NaN   \n",
       "3                 NaN                 NaN                 NaN   \n",
       "4                 NaN                 NaN                 NaN   \n",
       "5                 NaN                 NaN                 NaN   \n",
       "6                 NaN                 NaN                 NaN   \n",
       "7                 NaN                 NaN                 NaN   \n",
       "8                 NaN                 NaN                 NaN   \n",
       "\n",
       "   Searches: Dec 2020  Searches: Jan 2021  Searches: Feb 2021  \\\n",
       "1                 NaN                 NaN                 NaN   \n",
       "2                 NaN                 NaN                 NaN   \n",
       "3                 NaN                 NaN                 NaN   \n",
       "4                 NaN                 NaN                 NaN   \n",
       "5                 NaN                 NaN                 NaN   \n",
       "6                 NaN                 NaN                 NaN   \n",
       "7                 NaN                 NaN                 NaN   \n",
       "8                 NaN                 NaN                 NaN   \n",
       "\n",
       "   Searches: Mar 2021  Searches: Apr 2021  Searches: May 2021  \\\n",
       "1                 NaN                 NaN                 NaN   \n",
       "2                 NaN                 NaN                 NaN   \n",
       "3                 NaN                 NaN                 NaN   \n",
       "4                 NaN                 NaN                 NaN   \n",
       "5                 NaN                 NaN                 NaN   \n",
       "6                 NaN                 NaN                 NaN   \n",
       "7                 NaN                 NaN                 NaN   \n",
       "8                 NaN                 NaN                 NaN   \n",
       "\n",
       "  Concept: Platform   Concept: Phosphoinositide Concept: Operating System  \\\n",
       "1               NaN                         NaN                       NaN   \n",
       "2               NaN                        pi 4                       NaN   \n",
       "3               NaN                         NaN                       NaN   \n",
       "4               NaN                        pi 3                       NaN   \n",
       "5               NaN           raspberry pi zero                       NaN   \n",
       "6               NaN  pi 4, raspberry pi model b                       NaN   \n",
       "7               NaN                        pi 4                       NaN   \n",
       "8               NaN                         NaN                       NaN   \n",
       "\n",
       "  Concept: Company Concept: Other Brands Concept: Gene Concept: Non-Brands  \\\n",
       "1              NaN                   NaN           NaN                 NaN   \n",
       "2              NaN                   NaN           pi4          Non-Brands   \n",
       "3              NaN                   NaN           NaN          Non-Brands   \n",
       "4              NaN                   NaN           pi3          Non-Brands   \n",
       "5              NaN                   NaN           NaN          Non-Brands   \n",
       "6              NaN                   NaN           pi4          Non-Brands   \n",
       "7              NaN                   NaN           pi4          Non-Brands   \n",
       "8              NaN                   NaN           NaN          Non-Brands   \n",
       "\n",
       "  Concept: Others  \n",
       "1             NaN  \n",
       "2             NaN  \n",
       "3             NaN  \n",
       "4             NaN  \n",
       "5             NaN  \n",
       "6             NaN  \n",
       "7             NaN  \n",
       "8             NaN  "
      ]
     },
     "execution_count": 29,
     "metadata": {},
     "output_type": "execute_result"
    }
   ],
   "source": [
    "frames = [aboveEqual_fiveHundred_thousand, aboveEqual_fifty_thousand]\n",
    "\n",
    "#append dataframes\n",
    "top_keywords = aboveEqual_fiveHundred_thousand.append(aboveEqual_fifty_thousand, ignore_index=True)\n",
    "top_keywords = top_keywords.drop(labels=0, axis=0)\n",
    "top_keywords"
   ]
  },
  {
   "cell_type": "code",
   "execution_count": 30,
   "metadata": {},
   "outputs": [
    {
     "data": {
      "text/plain": [
       "<Figure size 5760x5760 with 0 Axes>"
      ]
     },
     "metadata": {},
     "output_type": "display_data"
    },
    {
     "data": {
      "image/png": "[encoded data removed]",
      "text/plain": [
       "<Figure size 432x288 with 1 Axes>"
      ]
     },
     "metadata": {
      "needs_background": "light"
     },
     "output_type": "display_data"
    }
   ],
   "source": [
    "plt.figure(figsize=(80,80))\n",
    "top_keywords.plot(x=\"Keyword\", y=[\"Avg. monthly searches\"], kind=\"bar\",width=.8)\n",
    "plt.xlabel(\"Keyword\"),plt.ylabel('Avg. monthly searches'),plt.title(\"\")\n",
    "lgd = plt.legend(loc='upper left', bbox_to_anchor=(1,1))"
   ]
  },
  {
   "cell_type": "markdown",
   "metadata": {},
   "source": [
    "#### Now we can go ahead and take the keywords from the data frame and put them into an array, then we will make a new file and \n",
    "\n",
    "#### save the array of keywords (strings) into a simple .txt file to use for website."
   ]
  },
  {
   "cell_type": "code",
   "execution_count": 37,
   "metadata": {},
   "outputs": [],
   "source": [
    "keywords = np.array(top_keywords['Keyword']).reshape(-1,1)"
   ]
  },
  {
   "cell_type": "code",
   "execution_count": 40,
   "metadata": {},
   "outputs": [],
   "source": [
    "keywords = [element for sublst in keywords for element in sublst]"
   ]
  },
  {
   "cell_type": "code",
   "execution_count": 41,
   "metadata": {},
   "outputs": [
    {
     "data": {
      "text/plain": [
       "['raspberry pi',\n",
       " 'raspberry pi 4',\n",
       " 'raspberry pi 400',\n",
       " 'raspberry pi 3',\n",
       " 'raspberry pi zero',\n",
       " 'raspberry pi 4 8gb',\n",
       " 'pi4',\n",
       " 'r pi']"
      ]
     },
     "execution_count": 41,
     "metadata": {},
     "output_type": "execute_result"
    }
   ],
   "source": [
    "keywords"
   ]
  },
  {
   "cell_type": "code",
   "execution_count": 50,
   "metadata": {},
   "outputs": [],
   "source": [
    "myText = open(r'C:\\Users\\waelt\\Documents\\GitHub\\armada-seo-research\\raspberry-pi.txt','w')\n",
    "for i in keywords:\n",
    "    myText.write(i + '\\n')\n",
    "\n",
    "myText.close()"
   ]
  }
 ],
 "metadata": {
  "kernelspec": {
   "display_name": "Python 3",
   "language": "python",
   "name": "python3"
  },
  "language_info": {
   "codemirror_mode": {
    "name": "ipython",
    "version": 3
   },
   "file_extension": ".py",
   "mimetype": "text/x-python",
   "name": "python",
   "nbconvert_exporter": "python",
   "pygments_lexer": "ipython3",
   "version": "3.7.1"
  }
 },
 "nbformat": 4,
 "nbformat_minor": 2
}
